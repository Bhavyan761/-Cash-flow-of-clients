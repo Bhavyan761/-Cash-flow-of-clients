{
 "cells": [
  {
   "cell_type": "code",
   "execution_count": 1,
   "id": "60f46aea",
   "metadata": {
    "_cell_guid": "b1076dfc-b9ad-4769-8c92-a6c4dae69d19",
    "_uuid": "8f2839f25d086af736a60e9eeb907d3b93b6e0e5",
    "execution": {
     "iopub.execute_input": "2022-04-15T10:06:23.429349Z",
     "iopub.status.busy": "2022-04-15T10:06:23.428185Z",
     "iopub.status.idle": "2022-04-15T10:06:24.431458Z",
     "shell.execute_reply": "2022-04-15T10:06:24.432207Z",
     "shell.execute_reply.started": "2022-04-15T10:03:33.095620Z"
    },
    "papermill": {
     "duration": 1.045529,
     "end_time": "2022-04-15T10:06:24.432505",
     "exception": false,
     "start_time": "2022-04-15T10:06:23.386976",
     "status": "completed"
    },
    "tags": []
   },
   "outputs": [
    {
     "name": "stdout",
     "output_type": "stream",
     "text": [
      "/kaggle/input/cassandra-udyam-2022/sampleSubmission.csv\n",
      "/kaggle/input/cassandra-udyam-2022/trainData.csv\n",
      "/kaggle/input/cassandra-udyam-2022/testData.csv\n"
     ]
    }
   ],
   "source": [
    "# This Python 3 environment comes with many helpful analytics libraries installed\n",
    "# It is defined by the kaggle/python Docker image: https://github.com/kaggle/docker-python\n",
    "# For example, here's several helpful packages to load\n",
    "\n",
    "import numpy as np # linear algebra\n",
    "import pandas as pd # data processing, CSV file I/O (e.g. pd.read_csv)\n",
    "\n",
    "# Input data files are available in the read-only \"../input/\" directory\n",
    "# For example, running this (by clicking run or pressing Shift+Enter) will list all files under the input directory\n",
    "\n",
    "import os\n",
    "for dirname, _, filenames in os.walk('/kaggle/input'):\n",
    "    for filename in filenames:\n",
    "        print(os.path.join(dirname, filename))\n",
    "from tqdm import tqdm_notebook as tqdm\n",
    "\n",
    "import matplotlib.pyplot as plt\n",
    "plt.style.use('fivethirtyeight')\n",
    "import seaborn as sns\n",
    "\n",
    "\n",
    "# You can write up to 20GB to the current directory (/kaggle/working/) that gets preserved as output when you create a version using \"Save & Run All\" \n",
    "# You can also write temporary files to /kaggle/temp/, but they won't be saved outside of the current session"
   ]
  },
  {
   "cell_type": "code",
   "execution_count": 2,
   "id": "27d06fae",
   "metadata": {
    "execution": {
     "iopub.execute_input": "2022-04-15T10:06:24.512733Z",
     "iopub.status.busy": "2022-04-15T10:06:24.512077Z",
     "iopub.status.idle": "2022-04-15T10:06:24.560167Z",
     "shell.execute_reply": "2022-04-15T10:06:24.560666Z",
     "shell.execute_reply.started": "2022-04-15T10:03:34.265766Z"
    },
    "papermill": {
     "duration": 0.090357,
     "end_time": "2022-04-15T10:06:24.560845",
     "exception": false,
     "start_time": "2022-04-15T10:06:24.470488",
     "status": "completed"
    },
    "tags": []
   },
   "outputs": [],
   "source": [
    "train_df = pd.read_csv(r'../input/cassandra-udyam-2022/trainData.csv')\n",
    "test_df = pd.read_csv(r\"../input/cassandra-udyam-2022/testData.csv\")"
   ]
  },
  {
   "cell_type": "code",
   "execution_count": 3,
   "id": "001e1403",
   "metadata": {
    "execution": {
     "iopub.execute_input": "2022-04-15T10:06:24.639113Z",
     "iopub.status.busy": "2022-04-15T10:06:24.638402Z",
     "iopub.status.idle": "2022-04-15T10:06:26.038848Z",
     "shell.execute_reply": "2022-04-15T10:06:26.039377Z",
     "shell.execute_reply.started": "2022-04-15T10:03:34.320965Z"
    },
    "papermill": {
     "duration": 1.441391,
     "end_time": "2022-04-15T10:06:26.039565",
     "exception": false,
     "start_time": "2022-04-15T10:06:24.598174",
     "status": "completed"
    },
    "tags": []
   },
   "outputs": [],
   "source": [
    "train_df['Invoice_Date'] = pd.to_datetime(train_df['Invoice_Date']) \n",
    "train_df['Due_Date'] = pd.to_datetime(train_df['Due_Date'])\n",
    "train_df['Created'] = pd.to_datetime(train_df['Created'])\n",
    "\n",
    "test_df['Invoice_Date'] = pd.to_datetime(test_df['Invoice_Date']) \n",
    "test_df['Due_Date'] = pd.to_datetime(test_df['Due_Date'])\n",
    "test_df['Created'] = pd.to_datetime(test_df['Created'])"
   ]
  },
  {
   "cell_type": "code",
   "execution_count": 4,
   "id": "9be8bcd6",
   "metadata": {
    "execution": {
     "iopub.execute_input": "2022-04-15T10:06:26.116984Z",
     "iopub.status.busy": "2022-04-15T10:06:26.116322Z",
     "iopub.status.idle": "2022-04-15T10:06:26.124539Z",
     "shell.execute_reply": "2022-04-15T10:06:26.125001Z",
     "shell.execute_reply.started": "2022-04-15T10:03:35.767198Z"
    },
    "papermill": {
     "duration": 0.048324,
     "end_time": "2022-04-15T10:06:26.125198",
     "exception": false,
     "start_time": "2022-04-15T10:06:26.076874",
     "status": "completed"
    },
    "tags": []
   },
   "outputs": [],
   "source": [
    "train_df.drop('Created',axis=1,inplace=True)\n",
    "test_df.drop('Created',axis=1,inplace=True)"
   ]
  },
  {
   "cell_type": "code",
   "execution_count": 5,
   "id": "8b2e8c11",
   "metadata": {
    "execution": {
     "iopub.execute_input": "2022-04-15T10:06:26.202224Z",
     "iopub.status.busy": "2022-04-15T10:06:26.201575Z",
     "iopub.status.idle": "2022-04-15T10:06:26.209096Z",
     "shell.execute_reply": "2022-04-15T10:06:26.209611Z",
     "shell.execute_reply.started": "2022-04-15T10:03:35.779864Z"
    },
    "papermill": {
     "duration": 0.047628,
     "end_time": "2022-04-15T10:06:26.209791",
     "exception": false,
     "start_time": "2022-04-15T10:06:26.162163",
     "status": "completed"
    },
    "tags": []
   },
   "outputs": [],
   "source": [
    "train_df['Due_days'] = (train_df['Due_Date'] - train_df['Invoice_Date']).dt.days.astype('int64')\n",
    "test_df['Due_days'] = (test_df['Due_Date'] - test_df['Invoice_Date']).dt.days.astype('int64')"
   ]
  },
  {
   "cell_type": "code",
   "execution_count": 6,
   "id": "32c2a40f",
   "metadata": {
    "execution": {
     "iopub.execute_input": "2022-04-15T10:06:26.288041Z",
     "iopub.status.busy": "2022-04-15T10:06:26.287364Z",
     "iopub.status.idle": "2022-04-15T10:06:26.308128Z",
     "shell.execute_reply": "2022-04-15T10:06:26.308673Z",
     "shell.execute_reply.started": "2022-04-15T10:03:35.791719Z"
    },
    "papermill": {
     "duration": 0.060742,
     "end_time": "2022-04-15T10:06:26.308866",
     "exception": false,
     "start_time": "2022-04-15T10:06:26.248124",
     "status": "completed"
    },
    "tags": []
   },
   "outputs": [],
   "source": [
    "train_df['inv_year'] = train_df['Invoice_Date'].dt.year.astype('int64')\n",
    "train_df['inv_month'] = train_df['Invoice_Date'].dt.month.astype('int64')\n",
    "train_df['inv_day'] = train_df['Invoice_Date'].dt.day.astype('int64')\n",
    "train_df['inv_day_of_week'] = train_df['Invoice_Date'].dt.day_of_week.astype('int64')\n",
    "train_df['inv_weeknd'] = (train_df['inv_day_of_week'] > 4).astype(int)\n",
    "\n",
    "test_df['inv_year'] = test_df['Invoice_Date'].dt.year.astype('int64')\n",
    "test_df['inv_month'] = test_df['Invoice_Date'].dt.month.astype('int64')\n",
    "test_df['inv_day'] = test_df['Invoice_Date'].dt.day.astype('int64')\n",
    "test_df['inv_day_of_week'] = test_df['Invoice_Date'].dt.day_of_week.astype('int64')\n",
    "test_df['inv_weeknd'] = (test_df['inv_day_of_week'] > 4).astype(int)"
   ]
  },
  {
   "cell_type": "code",
   "execution_count": 7,
   "id": "e17353f0",
   "metadata": {
    "execution": {
     "iopub.execute_input": "2022-04-15T10:06:26.392983Z",
     "iopub.status.busy": "2022-04-15T10:06:26.391914Z",
     "iopub.status.idle": "2022-04-15T10:06:26.407970Z",
     "shell.execute_reply": "2022-04-15T10:06:26.407351Z",
     "shell.execute_reply.started": "2022-04-15T10:03:35.814990Z"
    },
    "papermill": {
     "duration": 0.06191,
     "end_time": "2022-04-15T10:06:26.408125",
     "exception": false,
     "start_time": "2022-04-15T10:06:26.346215",
     "status": "completed"
    },
    "tags": []
   },
   "outputs": [],
   "source": [
    "train_df['due_year'] = train_df['Due_Date'].dt.year.astype('int64')\n",
    "train_df['due_month'] = train_df['Due_Date'].dt.month.astype('int64')\n",
    "train_df['due_day'] = train_df['Due_Date'].dt.day.astype('int64')\n",
    "train_df['due_day_of_week'] = train_df['Due_Date'].dt.day_of_week.astype('int64')\n",
    "train_df['due_weeknd'] = (train_df['due_day_of_week'] > 4).astype(int)\n",
    "\n",
    "test_df['due_year'] = test_df['Due_Date'].dt.year.astype('int64')\n",
    "test_df['due_month'] = test_df['Due_Date'].dt.month.astype('int64')\n",
    "test_df['due_day'] = test_df['Due_Date'].dt.day.astype('int64')\n",
    "test_df['due_day_of_week'] = test_df['Due_Date'].dt.day_of_week.astype('int64')\n",
    "test_df['due_weeknd'] = (test_df['due_day_of_week'] > 4).astype(int)"
   ]
  },
  {
   "cell_type": "code",
   "execution_count": 8,
   "id": "2bb1f136",
   "metadata": {
    "execution": {
     "iopub.execute_input": "2022-04-15T10:06:26.488823Z",
     "iopub.status.busy": "2022-04-15T10:06:26.487740Z",
     "iopub.status.idle": "2022-04-15T10:06:26.495095Z",
     "shell.execute_reply": "2022-04-15T10:06:26.494525Z",
     "shell.execute_reply.started": "2022-04-15T10:03:35.837545Z"
    },
    "papermill": {
     "duration": 0.050285,
     "end_time": "2022-04-15T10:06:26.495247",
     "exception": false,
     "start_time": "2022-04-15T10:06:26.444962",
     "status": "completed"
    },
    "tags": []
   },
   "outputs": [],
   "source": [
    "train_df.drop(['Invoice_Date','Due_Date','Outstanding'],axis=1,inplace=True)\n",
    "test_df.drop(['Invoice_Date','Due_Date','Outstanding'],axis=1,inplace=True)"
   ]
  },
  {
   "cell_type": "code",
   "execution_count": 9,
   "id": "07f135e9",
   "metadata": {
    "execution": {
     "iopub.execute_input": "2022-04-15T10:06:26.579522Z",
     "iopub.status.busy": "2022-04-15T10:06:26.578609Z",
     "iopub.status.idle": "2022-04-15T10:06:26.751259Z",
     "shell.execute_reply": "2022-04-15T10:06:26.751776Z",
     "shell.execute_reply.started": "2022-04-15T10:03:35.849159Z"
    },
    "papermill": {
     "duration": 0.219115,
     "end_time": "2022-04-15T10:06:26.751937",
     "exception": false,
     "start_time": "2022-04-15T10:06:26.532822",
     "status": "completed"
    },
    "tags": []
   },
   "outputs": [
    {
     "data": {
      "text/html": [
       "<div>\n",
       "<style scoped>\n",
       "    .dataframe tbody tr th:only-of-type {\n",
       "        vertical-align: middle;\n",
       "    }\n",
       "\n",
       "    .dataframe tbody tr th {\n",
       "        vertical-align: top;\n",
       "    }\n",
       "\n",
       "    .dataframe thead th {\n",
       "        text-align: right;\n",
       "    }\n",
       "</style>\n",
       "<table border=\"1\" class=\"dataframe\">\n",
       "  <thead>\n",
       "    <tr style=\"text-align: right;\">\n",
       "      <th></th>\n",
       "      <th>Description</th>\n",
       "      <th>Vendor_Name</th>\n",
       "      <th>Amount</th>\n",
       "      <th>Settled</th>\n",
       "      <th>Due_days</th>\n",
       "      <th>inv_year</th>\n",
       "      <th>inv_month</th>\n",
       "      <th>inv_day</th>\n",
       "      <th>inv_day_of_week</th>\n",
       "      <th>inv_weeknd</th>\n",
       "      <th>due_year</th>\n",
       "      <th>due_month</th>\n",
       "      <th>due_day</th>\n",
       "      <th>due_day_of_week</th>\n",
       "      <th>due_weeknd</th>\n",
       "    </tr>\n",
       "  </thead>\n",
       "  <tbody>\n",
       "    <tr>\n",
       "      <th>0</th>\n",
       "      <td>Milk x 7 ltrs</td>\n",
       "      <td>789</td>\n",
       "      <td>672.78</td>\n",
       "      <td>672.78</td>\n",
       "      <td>30</td>\n",
       "      <td>2011</td>\n",
       "      <td>4</td>\n",
       "      <td>26</td>\n",
       "      <td>1</td>\n",
       "      <td>0</td>\n",
       "      <td>2011</td>\n",
       "      <td>5</td>\n",
       "      <td>26</td>\n",
       "      <td>3</td>\n",
       "      <td>0</td>\n",
       "    </tr>\n",
       "    <tr>\n",
       "      <th>1</th>\n",
       "      <td>Office Stationery</td>\n",
       "      <td>2920</td>\n",
       "      <td>5101.98</td>\n",
       "      <td>5101.98</td>\n",
       "      <td>30</td>\n",
       "      <td>2011</td>\n",
       "      <td>5</td>\n",
       "      <td>24</td>\n",
       "      <td>1</td>\n",
       "      <td>0</td>\n",
       "      <td>2011</td>\n",
       "      <td>6</td>\n",
       "      <td>23</td>\n",
       "      <td>3</td>\n",
       "      <td>0</td>\n",
       "    </tr>\n",
       "    <tr>\n",
       "      <th>2</th>\n",
       "      <td>Milk x 10 ltrs</td>\n",
       "      <td>2058</td>\n",
       "      <td>7422.78</td>\n",
       "      <td>7422.78</td>\n",
       "      <td>30</td>\n",
       "      <td>2011</td>\n",
       "      <td>3</td>\n",
       "      <td>24</td>\n",
       "      <td>3</td>\n",
       "      <td>0</td>\n",
       "      <td>2011</td>\n",
       "      <td>4</td>\n",
       "      <td>23</td>\n",
       "      <td>5</td>\n",
       "      <td>1</td>\n",
       "    </tr>\n",
       "    <tr>\n",
       "      <th>3</th>\n",
       "      <td>Annual Fee</td>\n",
       "      <td>1842</td>\n",
       "      <td>11.98</td>\n",
       "      <td>11.98</td>\n",
       "      <td>14</td>\n",
       "      <td>2011</td>\n",
       "      <td>5</td>\n",
       "      <td>10</td>\n",
       "      <td>1</td>\n",
       "      <td>0</td>\n",
       "      <td>2011</td>\n",
       "      <td>5</td>\n",
       "      <td>24</td>\n",
       "      <td>1</td>\n",
       "      <td>0</td>\n",
       "    </tr>\n",
       "    <tr>\n",
       "      <th>4</th>\n",
       "      <td>NaN</td>\n",
       "      <td>3011</td>\n",
       "      <td>5501.98</td>\n",
       "      <td>5501.98</td>\n",
       "      <td>1</td>\n",
       "      <td>2011</td>\n",
       "      <td>9</td>\n",
       "      <td>5</td>\n",
       "      <td>0</td>\n",
       "      <td>0</td>\n",
       "      <td>2011</td>\n",
       "      <td>9</td>\n",
       "      <td>6</td>\n",
       "      <td>1</td>\n",
       "      <td>0</td>\n",
       "    </tr>\n",
       "    <tr>\n",
       "      <th>...</th>\n",
       "      <td>...</td>\n",
       "      <td>...</td>\n",
       "      <td>...</td>\n",
       "      <td>...</td>\n",
       "      <td>...</td>\n",
       "      <td>...</td>\n",
       "      <td>...</td>\n",
       "      <td>...</td>\n",
       "      <td>...</td>\n",
       "      <td>...</td>\n",
       "      <td>...</td>\n",
       "      <td>...</td>\n",
       "      <td>...</td>\n",
       "      <td>...</td>\n",
       "      <td>...</td>\n",
       "    </tr>\n",
       "    <tr>\n",
       "      <th>9873</th>\n",
       "      <td>NaN</td>\n",
       "      <td>3266</td>\n",
       "      <td>4201.98</td>\n",
       "      <td>4201.98</td>\n",
       "      <td>14</td>\n",
       "      <td>2016</td>\n",
       "      <td>8</td>\n",
       "      <td>29</td>\n",
       "      <td>0</td>\n",
       "      <td>0</td>\n",
       "      <td>2016</td>\n",
       "      <td>9</td>\n",
       "      <td>12</td>\n",
       "      <td>0</td>\n",
       "      <td>0</td>\n",
       "    </tr>\n",
       "    <tr>\n",
       "      <th>9874</th>\n",
       "      <td>NaN</td>\n",
       "      <td>3267</td>\n",
       "      <td>93.18</td>\n",
       "      <td>93.18</td>\n",
       "      <td>7</td>\n",
       "      <td>2014</td>\n",
       "      <td>7</td>\n",
       "      <td>28</td>\n",
       "      <td>0</td>\n",
       "      <td>0</td>\n",
       "      <td>2014</td>\n",
       "      <td>8</td>\n",
       "      <td>4</td>\n",
       "      <td>0</td>\n",
       "      <td>0</td>\n",
       "    </tr>\n",
       "    <tr>\n",
       "      <th>9875</th>\n",
       "      <td>NaN</td>\n",
       "      <td>3270</td>\n",
       "      <td>1255.98</td>\n",
       "      <td>1255.98</td>\n",
       "      <td>4</td>\n",
       "      <td>2017</td>\n",
       "      <td>9</td>\n",
       "      <td>2</td>\n",
       "      <td>5</td>\n",
       "      <td>1</td>\n",
       "      <td>2017</td>\n",
       "      <td>9</td>\n",
       "      <td>6</td>\n",
       "      <td>2</td>\n",
       "      <td>0</td>\n",
       "    </tr>\n",
       "    <tr>\n",
       "      <th>9876</th>\n",
       "      <td>NaN</td>\n",
       "      <td>3272</td>\n",
       "      <td>678.78</td>\n",
       "      <td>58.38</td>\n",
       "      <td>30</td>\n",
       "      <td>2015</td>\n",
       "      <td>1</td>\n",
       "      <td>2</td>\n",
       "      <td>4</td>\n",
       "      <td>0</td>\n",
       "      <td>2015</td>\n",
       "      <td>2</td>\n",
       "      <td>1</td>\n",
       "      <td>6</td>\n",
       "      <td>1</td>\n",
       "    </tr>\n",
       "    <tr>\n",
       "      <th>9877</th>\n",
       "      <td>NaN</td>\n",
       "      <td>3275</td>\n",
       "      <td>61.98</td>\n",
       "      <td>61.98</td>\n",
       "      <td>30</td>\n",
       "      <td>2016</td>\n",
       "      <td>5</td>\n",
       "      <td>6</td>\n",
       "      <td>4</td>\n",
       "      <td>0</td>\n",
       "      <td>2016</td>\n",
       "      <td>6</td>\n",
       "      <td>5</td>\n",
       "      <td>6</td>\n",
       "      <td>1</td>\n",
       "    </tr>\n",
       "  </tbody>\n",
       "</table>\n",
       "<p>9878 rows × 15 columns</p>\n",
       "</div>"
      ],
      "text/plain": [
       "             Description  Vendor_Name   Amount  Settled  Due_days  inv_year  \\\n",
       "0          Milk x 7 ltrs          789   672.78   672.78        30      2011   \n",
       "1     Office Stationery          2920  5101.98  5101.98        30      2011   \n",
       "2         Milk x 10 ltrs         2058  7422.78  7422.78        30      2011   \n",
       "3             Annual Fee         1842    11.98    11.98        14      2011   \n",
       "4                    NaN         3011  5501.98  5501.98         1      2011   \n",
       "...                  ...          ...      ...      ...       ...       ...   \n",
       "9873                 NaN         3266  4201.98  4201.98        14      2016   \n",
       "9874                 NaN         3267    93.18    93.18         7      2014   \n",
       "9875                 NaN         3270  1255.98  1255.98         4      2017   \n",
       "9876                 NaN         3272   678.78    58.38        30      2015   \n",
       "9877                 NaN         3275    61.98    61.98        30      2016   \n",
       "\n",
       "      inv_month  inv_day  inv_day_of_week  inv_weeknd  due_year  due_month  \\\n",
       "0             4       26                1           0      2011          5   \n",
       "1             5       24                1           0      2011          6   \n",
       "2             3       24                3           0      2011          4   \n",
       "3             5       10                1           0      2011          5   \n",
       "4             9        5                0           0      2011          9   \n",
       "...         ...      ...              ...         ...       ...        ...   \n",
       "9873          8       29                0           0      2016          9   \n",
       "9874          7       28                0           0      2014          8   \n",
       "9875          9        2                5           1      2017          9   \n",
       "9876          1        2                4           0      2015          2   \n",
       "9877          5        6                4           0      2016          6   \n",
       "\n",
       "      due_day  due_day_of_week  due_weeknd  \n",
       "0          26                3           0  \n",
       "1          23                3           0  \n",
       "2          23                5           1  \n",
       "3          24                1           0  \n",
       "4           6                1           0  \n",
       "...       ...              ...         ...  \n",
       "9873       12                0           0  \n",
       "9874        4                0           0  \n",
       "9875        6                2           0  \n",
       "9876        1                6           1  \n",
       "9877        5                6           1  \n",
       "\n",
       "[9878 rows x 15 columns]"
      ]
     },
     "execution_count": 9,
     "metadata": {},
     "output_type": "execute_result"
    }
   ],
   "source": [
    "temp = pd.concat([train_df.drop('Number_of_Days_until_Payment',axis=1),test_df],ignore_index=True,axis=0) \n",
    "from sklearn.preprocessing import LabelEncoder\n",
    "le = LabelEncoder()\n",
    "temp['Vendor_Name'] = le.fit_transform(temp['Vendor_Name'])\n",
    "temp"
   ]
  },
  {
   "cell_type": "code",
   "execution_count": 10,
   "id": "81d5e9ee",
   "metadata": {
    "execution": {
     "iopub.execute_input": "2022-04-15T10:06:26.832303Z",
     "iopub.status.busy": "2022-04-15T10:06:26.831637Z",
     "iopub.status.idle": "2022-04-15T10:06:26.852115Z",
     "shell.execute_reply": "2022-04-15T10:06:26.851621Z",
     "shell.execute_reply.started": "2022-04-15T10:03:36.037395Z"
    },
    "papermill": {
     "duration": 0.061696,
     "end_time": "2022-04-15T10:06:26.852272",
     "exception": false,
     "start_time": "2022-04-15T10:06:26.790576",
     "status": "completed"
    },
    "tags": []
   },
   "outputs": [
    {
     "data": {
      "text/html": [
       "<div>\n",
       "<style scoped>\n",
       "    .dataframe tbody tr th:only-of-type {\n",
       "        vertical-align: middle;\n",
       "    }\n",
       "\n",
       "    .dataframe tbody tr th {\n",
       "        vertical-align: top;\n",
       "    }\n",
       "\n",
       "    .dataframe thead th {\n",
       "        text-align: right;\n",
       "    }\n",
       "</style>\n",
       "<table border=\"1\" class=\"dataframe\">\n",
       "  <thead>\n",
       "    <tr style=\"text-align: right;\">\n",
       "      <th></th>\n",
       "      <th>Description</th>\n",
       "      <th>Vendor_Name</th>\n",
       "      <th>Amount</th>\n",
       "      <th>Settled</th>\n",
       "      <th>Due_days</th>\n",
       "      <th>inv_year</th>\n",
       "      <th>inv_month</th>\n",
       "      <th>inv_day</th>\n",
       "      <th>inv_day_of_week</th>\n",
       "      <th>inv_weeknd</th>\n",
       "      <th>due_year</th>\n",
       "      <th>due_month</th>\n",
       "      <th>due_day</th>\n",
       "      <th>due_day_of_week</th>\n",
       "      <th>due_weeknd</th>\n",
       "    </tr>\n",
       "  </thead>\n",
       "  <tbody>\n",
       "    <tr>\n",
       "      <th>0</th>\n",
       "      <td>Milk x 7 ltrs</td>\n",
       "      <td>789</td>\n",
       "      <td>672.78</td>\n",
       "      <td>672.78</td>\n",
       "      <td>30</td>\n",
       "      <td>2011</td>\n",
       "      <td>4</td>\n",
       "      <td>26</td>\n",
       "      <td>1</td>\n",
       "      <td>0</td>\n",
       "      <td>2011</td>\n",
       "      <td>5</td>\n",
       "      <td>26</td>\n",
       "      <td>3</td>\n",
       "      <td>0</td>\n",
       "    </tr>\n",
       "    <tr>\n",
       "      <th>1</th>\n",
       "      <td>Office Stationery</td>\n",
       "      <td>2920</td>\n",
       "      <td>5101.98</td>\n",
       "      <td>5101.98</td>\n",
       "      <td>30</td>\n",
       "      <td>2011</td>\n",
       "      <td>5</td>\n",
       "      <td>24</td>\n",
       "      <td>1</td>\n",
       "      <td>0</td>\n",
       "      <td>2011</td>\n",
       "      <td>6</td>\n",
       "      <td>23</td>\n",
       "      <td>3</td>\n",
       "      <td>0</td>\n",
       "    </tr>\n",
       "    <tr>\n",
       "      <th>2</th>\n",
       "      <td>Milk x 10 ltrs</td>\n",
       "      <td>2058</td>\n",
       "      <td>7422.78</td>\n",
       "      <td>7422.78</td>\n",
       "      <td>30</td>\n",
       "      <td>2011</td>\n",
       "      <td>3</td>\n",
       "      <td>24</td>\n",
       "      <td>3</td>\n",
       "      <td>0</td>\n",
       "      <td>2011</td>\n",
       "      <td>4</td>\n",
       "      <td>23</td>\n",
       "      <td>5</td>\n",
       "      <td>1</td>\n",
       "    </tr>\n",
       "    <tr>\n",
       "      <th>3</th>\n",
       "      <td>Annual Fee</td>\n",
       "      <td>1842</td>\n",
       "      <td>11.98</td>\n",
       "      <td>11.98</td>\n",
       "      <td>14</td>\n",
       "      <td>2011</td>\n",
       "      <td>5</td>\n",
       "      <td>10</td>\n",
       "      <td>1</td>\n",
       "      <td>0</td>\n",
       "      <td>2011</td>\n",
       "      <td>5</td>\n",
       "      <td>24</td>\n",
       "      <td>1</td>\n",
       "      <td>0</td>\n",
       "    </tr>\n",
       "    <tr>\n",
       "      <th>4</th>\n",
       "      <td>NaN</td>\n",
       "      <td>3011</td>\n",
       "      <td>5501.98</td>\n",
       "      <td>5501.98</td>\n",
       "      <td>1</td>\n",
       "      <td>2011</td>\n",
       "      <td>9</td>\n",
       "      <td>5</td>\n",
       "      <td>0</td>\n",
       "      <td>0</td>\n",
       "      <td>2011</td>\n",
       "      <td>9</td>\n",
       "      <td>6</td>\n",
       "      <td>1</td>\n",
       "      <td>0</td>\n",
       "    </tr>\n",
       "    <tr>\n",
       "      <th>...</th>\n",
       "      <td>...</td>\n",
       "      <td>...</td>\n",
       "      <td>...</td>\n",
       "      <td>...</td>\n",
       "      <td>...</td>\n",
       "      <td>...</td>\n",
       "      <td>...</td>\n",
       "      <td>...</td>\n",
       "      <td>...</td>\n",
       "      <td>...</td>\n",
       "      <td>...</td>\n",
       "      <td>...</td>\n",
       "      <td>...</td>\n",
       "      <td>...</td>\n",
       "      <td>...</td>\n",
       "    </tr>\n",
       "    <tr>\n",
       "      <th>8748</th>\n",
       "      <td>NaN</td>\n",
       "      <td>131</td>\n",
       "      <td>551.98</td>\n",
       "      <td>551.98</td>\n",
       "      <td>30</td>\n",
       "      <td>2017</td>\n",
       "      <td>9</td>\n",
       "      <td>29</td>\n",
       "      <td>4</td>\n",
       "      <td>0</td>\n",
       "      <td>2017</td>\n",
       "      <td>10</td>\n",
       "      <td>29</td>\n",
       "      <td>6</td>\n",
       "      <td>1</td>\n",
       "    </tr>\n",
       "    <tr>\n",
       "      <th>8749</th>\n",
       "      <td>NaN</td>\n",
       "      <td>919</td>\n",
       "      <td>386.98</td>\n",
       "      <td>386.98</td>\n",
       "      <td>30</td>\n",
       "      <td>2017</td>\n",
       "      <td>9</td>\n",
       "      <td>29</td>\n",
       "      <td>4</td>\n",
       "      <td>0</td>\n",
       "      <td>2017</td>\n",
       "      <td>10</td>\n",
       "      <td>29</td>\n",
       "      <td>6</td>\n",
       "      <td>1</td>\n",
       "    </tr>\n",
       "    <tr>\n",
       "      <th>8750</th>\n",
       "      <td>NaN</td>\n",
       "      <td>176</td>\n",
       "      <td>279.81</td>\n",
       "      <td>279.81</td>\n",
       "      <td>1</td>\n",
       "      <td>2017</td>\n",
       "      <td>10</td>\n",
       "      <td>31</td>\n",
       "      <td>1</td>\n",
       "      <td>0</td>\n",
       "      <td>2017</td>\n",
       "      <td>11</td>\n",
       "      <td>1</td>\n",
       "      <td>2</td>\n",
       "      <td>0</td>\n",
       "    </tr>\n",
       "    <tr>\n",
       "      <th>8751</th>\n",
       "      <td>NaN</td>\n",
       "      <td>200</td>\n",
       "      <td>145.98</td>\n",
       "      <td>145.98</td>\n",
       "      <td>14</td>\n",
       "      <td>2017</td>\n",
       "      <td>10</td>\n",
       "      <td>23</td>\n",
       "      <td>0</td>\n",
       "      <td>0</td>\n",
       "      <td>2017</td>\n",
       "      <td>11</td>\n",
       "      <td>6</td>\n",
       "      <td>0</td>\n",
       "      <td>0</td>\n",
       "    </tr>\n",
       "    <tr>\n",
       "      <th>8752</th>\n",
       "      <td>NaN</td>\n",
       "      <td>1194</td>\n",
       "      <td>169.98</td>\n",
       "      <td>169.98</td>\n",
       "      <td>30</td>\n",
       "      <td>2017</td>\n",
       "      <td>11</td>\n",
       "      <td>5</td>\n",
       "      <td>6</td>\n",
       "      <td>1</td>\n",
       "      <td>2017</td>\n",
       "      <td>12</td>\n",
       "      <td>5</td>\n",
       "      <td>1</td>\n",
       "      <td>0</td>\n",
       "    </tr>\n",
       "  </tbody>\n",
       "</table>\n",
       "<p>8753 rows × 15 columns</p>\n",
       "</div>"
      ],
      "text/plain": [
       "             Description  Vendor_Name   Amount  Settled  Due_days  inv_year  \\\n",
       "0          Milk x 7 ltrs          789   672.78   672.78        30      2011   \n",
       "1     Office Stationery          2920  5101.98  5101.98        30      2011   \n",
       "2         Milk x 10 ltrs         2058  7422.78  7422.78        30      2011   \n",
       "3             Annual Fee         1842    11.98    11.98        14      2011   \n",
       "4                    NaN         3011  5501.98  5501.98         1      2011   \n",
       "...                  ...          ...      ...      ...       ...       ...   \n",
       "8748                 NaN          131   551.98   551.98        30      2017   \n",
       "8749                 NaN          919   386.98   386.98        30      2017   \n",
       "8750                 NaN          176   279.81   279.81         1      2017   \n",
       "8751                 NaN          200   145.98   145.98        14      2017   \n",
       "8752                 NaN         1194   169.98   169.98        30      2017   \n",
       "\n",
       "      inv_month  inv_day  inv_day_of_week  inv_weeknd  due_year  due_month  \\\n",
       "0             4       26                1           0      2011          5   \n",
       "1             5       24                1           0      2011          6   \n",
       "2             3       24                3           0      2011          4   \n",
       "3             5       10                1           0      2011          5   \n",
       "4             9        5                0           0      2011          9   \n",
       "...         ...      ...              ...         ...       ...        ...   \n",
       "8748          9       29                4           0      2017         10   \n",
       "8749          9       29                4           0      2017         10   \n",
       "8750         10       31                1           0      2017         11   \n",
       "8751         10       23                0           0      2017         11   \n",
       "8752         11        5                6           1      2017         12   \n",
       "\n",
       "      due_day  due_day_of_week  due_weeknd  \n",
       "0          26                3           0  \n",
       "1          23                3           0  \n",
       "2          23                5           1  \n",
       "3          24                1           0  \n",
       "4           6                1           0  \n",
       "...       ...              ...         ...  \n",
       "8748       29                6           1  \n",
       "8749       29                6           1  \n",
       "8750        1                2           0  \n",
       "8751        6                0           0  \n",
       "8752        5                1           0  \n",
       "\n",
       "[8753 rows x 15 columns]"
      ]
     },
     "execution_count": 10,
     "metadata": {},
     "output_type": "execute_result"
    }
   ],
   "source": [
    "train_df1 = temp.head(train_df.shape[0])\n",
    "train_df1"
   ]
  },
  {
   "cell_type": "code",
   "execution_count": 11,
   "id": "754abac1",
   "metadata": {
    "execution": {
     "iopub.execute_input": "2022-04-15T10:06:26.934721Z",
     "iopub.status.busy": "2022-04-15T10:06:26.934061Z",
     "iopub.status.idle": "2022-04-15T10:06:26.951134Z",
     "shell.execute_reply": "2022-04-15T10:06:26.951612Z",
     "shell.execute_reply.started": "2022-04-15T10:03:36.062215Z"
    },
    "papermill": {
     "duration": 0.060998,
     "end_time": "2022-04-15T10:06:26.951786",
     "exception": false,
     "start_time": "2022-04-15T10:06:26.890788",
     "status": "completed"
    },
    "tags": []
   },
   "outputs": [
    {
     "data": {
      "text/html": [
       "<div>\n",
       "<style scoped>\n",
       "    .dataframe tbody tr th:only-of-type {\n",
       "        vertical-align: middle;\n",
       "    }\n",
       "\n",
       "    .dataframe tbody tr th {\n",
       "        vertical-align: top;\n",
       "    }\n",
       "\n",
       "    .dataframe thead th {\n",
       "        text-align: right;\n",
       "    }\n",
       "</style>\n",
       "<table border=\"1\" class=\"dataframe\">\n",
       "  <thead>\n",
       "    <tr style=\"text-align: right;\">\n",
       "      <th></th>\n",
       "      <th>Description</th>\n",
       "      <th>Vendor_Name</th>\n",
       "      <th>Amount</th>\n",
       "      <th>Settled</th>\n",
       "      <th>Due_days</th>\n",
       "      <th>inv_year</th>\n",
       "      <th>inv_month</th>\n",
       "      <th>inv_day</th>\n",
       "      <th>inv_day_of_week</th>\n",
       "      <th>inv_weeknd</th>\n",
       "      <th>due_year</th>\n",
       "      <th>due_month</th>\n",
       "      <th>due_day</th>\n",
       "      <th>due_day_of_week</th>\n",
       "      <th>due_weeknd</th>\n",
       "    </tr>\n",
       "  </thead>\n",
       "  <tbody>\n",
       "    <tr>\n",
       "      <th>8753</th>\n",
       "      <td>Annual Fee</td>\n",
       "      <td>2</td>\n",
       "      <td>11.98</td>\n",
       "      <td>11.98</td>\n",
       "      <td>30</td>\n",
       "      <td>2015</td>\n",
       "      <td>11</td>\n",
       "      <td>30</td>\n",
       "      <td>0</td>\n",
       "      <td>0</td>\n",
       "      <td>2015</td>\n",
       "      <td>12</td>\n",
       "      <td>30</td>\n",
       "      <td>2</td>\n",
       "      <td>0</td>\n",
       "    </tr>\n",
       "    <tr>\n",
       "      <th>8754</th>\n",
       "      <td>NaN</td>\n",
       "      <td>6</td>\n",
       "      <td>56.98</td>\n",
       "      <td>56.98</td>\n",
       "      <td>30</td>\n",
       "      <td>2016</td>\n",
       "      <td>9</td>\n",
       "      <td>6</td>\n",
       "      <td>1</td>\n",
       "      <td>0</td>\n",
       "      <td>2016</td>\n",
       "      <td>10</td>\n",
       "      <td>6</td>\n",
       "      <td>3</td>\n",
       "      <td>0</td>\n",
       "    </tr>\n",
       "    <tr>\n",
       "      <th>8755</th>\n",
       "      <td>NaN</td>\n",
       "      <td>8</td>\n",
       "      <td>61.98</td>\n",
       "      <td>61.98</td>\n",
       "      <td>14</td>\n",
       "      <td>2016</td>\n",
       "      <td>2</td>\n",
       "      <td>29</td>\n",
       "      <td>0</td>\n",
       "      <td>0</td>\n",
       "      <td>2016</td>\n",
       "      <td>3</td>\n",
       "      <td>14</td>\n",
       "      <td>0</td>\n",
       "      <td>0</td>\n",
       "    </tr>\n",
       "    <tr>\n",
       "      <th>8756</th>\n",
       "      <td>NaN</td>\n",
       "      <td>10</td>\n",
       "      <td>674.30</td>\n",
       "      <td>674.30</td>\n",
       "      <td>14</td>\n",
       "      <td>2013</td>\n",
       "      <td>8</td>\n",
       "      <td>23</td>\n",
       "      <td>4</td>\n",
       "      <td>0</td>\n",
       "      <td>2013</td>\n",
       "      <td>9</td>\n",
       "      <td>6</td>\n",
       "      <td>4</td>\n",
       "      <td>0</td>\n",
       "    </tr>\n",
       "    <tr>\n",
       "      <th>8757</th>\n",
       "      <td>NaN</td>\n",
       "      <td>12</td>\n",
       "      <td>302.94</td>\n",
       "      <td>302.94</td>\n",
       "      <td>30</td>\n",
       "      <td>2017</td>\n",
       "      <td>5</td>\n",
       "      <td>10</td>\n",
       "      <td>2</td>\n",
       "      <td>0</td>\n",
       "      <td>2017</td>\n",
       "      <td>6</td>\n",
       "      <td>9</td>\n",
       "      <td>4</td>\n",
       "      <td>0</td>\n",
       "    </tr>\n",
       "    <tr>\n",
       "      <th>...</th>\n",
       "      <td>...</td>\n",
       "      <td>...</td>\n",
       "      <td>...</td>\n",
       "      <td>...</td>\n",
       "      <td>...</td>\n",
       "      <td>...</td>\n",
       "      <td>...</td>\n",
       "      <td>...</td>\n",
       "      <td>...</td>\n",
       "      <td>...</td>\n",
       "      <td>...</td>\n",
       "      <td>...</td>\n",
       "      <td>...</td>\n",
       "      <td>...</td>\n",
       "      <td>...</td>\n",
       "    </tr>\n",
       "    <tr>\n",
       "      <th>9873</th>\n",
       "      <td>NaN</td>\n",
       "      <td>3266</td>\n",
       "      <td>4201.98</td>\n",
       "      <td>4201.98</td>\n",
       "      <td>14</td>\n",
       "      <td>2016</td>\n",
       "      <td>8</td>\n",
       "      <td>29</td>\n",
       "      <td>0</td>\n",
       "      <td>0</td>\n",
       "      <td>2016</td>\n",
       "      <td>9</td>\n",
       "      <td>12</td>\n",
       "      <td>0</td>\n",
       "      <td>0</td>\n",
       "    </tr>\n",
       "    <tr>\n",
       "      <th>9874</th>\n",
       "      <td>NaN</td>\n",
       "      <td>3267</td>\n",
       "      <td>93.18</td>\n",
       "      <td>93.18</td>\n",
       "      <td>7</td>\n",
       "      <td>2014</td>\n",
       "      <td>7</td>\n",
       "      <td>28</td>\n",
       "      <td>0</td>\n",
       "      <td>0</td>\n",
       "      <td>2014</td>\n",
       "      <td>8</td>\n",
       "      <td>4</td>\n",
       "      <td>0</td>\n",
       "      <td>0</td>\n",
       "    </tr>\n",
       "    <tr>\n",
       "      <th>9875</th>\n",
       "      <td>NaN</td>\n",
       "      <td>3270</td>\n",
       "      <td>1255.98</td>\n",
       "      <td>1255.98</td>\n",
       "      <td>4</td>\n",
       "      <td>2017</td>\n",
       "      <td>9</td>\n",
       "      <td>2</td>\n",
       "      <td>5</td>\n",
       "      <td>1</td>\n",
       "      <td>2017</td>\n",
       "      <td>9</td>\n",
       "      <td>6</td>\n",
       "      <td>2</td>\n",
       "      <td>0</td>\n",
       "    </tr>\n",
       "    <tr>\n",
       "      <th>9876</th>\n",
       "      <td>NaN</td>\n",
       "      <td>3272</td>\n",
       "      <td>678.78</td>\n",
       "      <td>58.38</td>\n",
       "      <td>30</td>\n",
       "      <td>2015</td>\n",
       "      <td>1</td>\n",
       "      <td>2</td>\n",
       "      <td>4</td>\n",
       "      <td>0</td>\n",
       "      <td>2015</td>\n",
       "      <td>2</td>\n",
       "      <td>1</td>\n",
       "      <td>6</td>\n",
       "      <td>1</td>\n",
       "    </tr>\n",
       "    <tr>\n",
       "      <th>9877</th>\n",
       "      <td>NaN</td>\n",
       "      <td>3275</td>\n",
       "      <td>61.98</td>\n",
       "      <td>61.98</td>\n",
       "      <td>30</td>\n",
       "      <td>2016</td>\n",
       "      <td>5</td>\n",
       "      <td>6</td>\n",
       "      <td>4</td>\n",
       "      <td>0</td>\n",
       "      <td>2016</td>\n",
       "      <td>6</td>\n",
       "      <td>5</td>\n",
       "      <td>6</td>\n",
       "      <td>1</td>\n",
       "    </tr>\n",
       "  </tbody>\n",
       "</table>\n",
       "<p>1125 rows × 15 columns</p>\n",
       "</div>"
      ],
      "text/plain": [
       "     Description  Vendor_Name   Amount  Settled  Due_days  inv_year  \\\n",
       "8753  Annual Fee            2    11.98    11.98        30      2015   \n",
       "8754         NaN            6    56.98    56.98        30      2016   \n",
       "8755         NaN            8    61.98    61.98        14      2016   \n",
       "8756         NaN           10   674.30   674.30        14      2013   \n",
       "8757         NaN           12   302.94   302.94        30      2017   \n",
       "...          ...          ...      ...      ...       ...       ...   \n",
       "9873         NaN         3266  4201.98  4201.98        14      2016   \n",
       "9874         NaN         3267    93.18    93.18         7      2014   \n",
       "9875         NaN         3270  1255.98  1255.98         4      2017   \n",
       "9876         NaN         3272   678.78    58.38        30      2015   \n",
       "9877         NaN         3275    61.98    61.98        30      2016   \n",
       "\n",
       "      inv_month  inv_day  inv_day_of_week  inv_weeknd  due_year  due_month  \\\n",
       "8753         11       30                0           0      2015         12   \n",
       "8754          9        6                1           0      2016         10   \n",
       "8755          2       29                0           0      2016          3   \n",
       "8756          8       23                4           0      2013          9   \n",
       "8757          5       10                2           0      2017          6   \n",
       "...         ...      ...              ...         ...       ...        ...   \n",
       "9873          8       29                0           0      2016          9   \n",
       "9874          7       28                0           0      2014          8   \n",
       "9875          9        2                5           1      2017          9   \n",
       "9876          1        2                4           0      2015          2   \n",
       "9877          5        6                4           0      2016          6   \n",
       "\n",
       "      due_day  due_day_of_week  due_weeknd  \n",
       "8753       30                2           0  \n",
       "8754        6                3           0  \n",
       "8755       14                0           0  \n",
       "8756        6                4           0  \n",
       "8757        9                4           0  \n",
       "...       ...              ...         ...  \n",
       "9873       12                0           0  \n",
       "9874        4                0           0  \n",
       "9875        6                2           0  \n",
       "9876        1                6           1  \n",
       "9877        5                6           1  \n",
       "\n",
       "[1125 rows x 15 columns]"
      ]
     },
     "execution_count": 11,
     "metadata": {},
     "output_type": "execute_result"
    }
   ],
   "source": [
    "test_df1 = temp.tail(test_df.shape[0])\n",
    "test_df1"
   ]
  },
  {
   "cell_type": "code",
   "execution_count": 12,
   "id": "b76c2ef9",
   "metadata": {
    "execution": {
     "iopub.execute_input": "2022-04-15T10:06:27.033878Z",
     "iopub.status.busy": "2022-04-15T10:06:27.033220Z",
     "iopub.status.idle": "2022-04-15T10:06:27.046185Z",
     "shell.execute_reply": "2022-04-15T10:06:27.046801Z",
     "shell.execute_reply.started": "2022-04-15T10:03:36.092783Z"
    },
    "papermill": {
     "duration": 0.056093,
     "end_time": "2022-04-15T10:06:27.046980",
     "exception": false,
     "start_time": "2022-04-15T10:06:26.990887",
     "status": "completed"
    },
    "tags": []
   },
   "outputs": [
    {
     "name": "stderr",
     "output_type": "stream",
     "text": [
      "/opt/conda/lib/python3.7/site-packages/pandas/core/frame.py:4913: SettingWithCopyWarning: \n",
      "A value is trying to be set on a copy of a slice from a DataFrame\n",
      "\n",
      "See the caveats in the documentation: https://pandas.pydata.org/pandas-docs/stable/user_guide/indexing.html#returning-a-view-versus-a-copy\n",
      "  errors=errors,\n"
     ]
    }
   ],
   "source": [
    "train_df1.drop(['Description'],axis=1,inplace=True)\n",
    "test_df1.drop(['Description'],axis=1,inplace=True)"
   ]
  },
  {
   "cell_type": "code",
   "execution_count": 13,
   "id": "1a648b4a",
   "metadata": {
    "execution": {
     "iopub.execute_input": "2022-04-15T10:06:27.129315Z",
     "iopub.status.busy": "2022-04-15T10:06:27.128678Z",
     "iopub.status.idle": "2022-04-15T10:06:27.143590Z",
     "shell.execute_reply": "2022-04-15T10:06:27.144334Z",
     "shell.execute_reply.started": "2022-04-15T10:03:36.109984Z"
    },
    "papermill": {
     "duration": 0.057825,
     "end_time": "2022-04-15T10:06:27.144564",
     "exception": false,
     "start_time": "2022-04-15T10:06:27.086739",
     "status": "completed"
    },
    "tags": []
   },
   "outputs": [
    {
     "name": "stderr",
     "output_type": "stream",
     "text": [
      "/opt/conda/lib/python3.7/site-packages/pandas/core/indexing.py:1667: SettingWithCopyWarning: \n",
      "A value is trying to be set on a copy of a slice from a DataFrame.\n",
      "Try using .loc[row_indexer,col_indexer] = value instead\n",
      "\n",
      "See the caveats in the documentation: https://pandas.pydata.org/pandas-docs/stable/user_guide/indexing.html#returning-a-view-versus-a-copy\n",
      "  self.obj[key] = value\n"
     ]
    }
   ],
   "source": [
    "fq = temp.groupby('Vendor_Name').size()/len(train_df1)   \n",
    "\n",
    "train_df1.loc[:, \"{}_freq_encode\".format('Vendor_Name')] = train_df1['Vendor_Name'].map(fq)  \n",
    "test_df1.loc[:, \"{}_freq_encode\".format('Vendor_Name')] = test_df1['Vendor_Name'].map(fq)  "
   ]
  },
  {
   "cell_type": "code",
   "execution_count": 14,
   "id": "c11b3ad5",
   "metadata": {
    "execution": {
     "iopub.execute_input": "2022-04-15T10:06:27.228698Z",
     "iopub.status.busy": "2022-04-15T10:06:27.228088Z",
     "iopub.status.idle": "2022-04-15T10:06:27.231908Z",
     "shell.execute_reply": "2022-04-15T10:06:27.232518Z",
     "shell.execute_reply.started": "2022-04-15T10:03:36.128920Z"
    },
    "papermill": {
     "duration": 0.047071,
     "end_time": "2022-04-15T10:06:27.232685",
     "exception": false,
     "start_time": "2022-04-15T10:06:27.185614",
     "status": "completed"
    },
    "tags": []
   },
   "outputs": [],
   "source": [
    "cols = ['Amount',\n",
    "         'Settled',\n",
    "         'Due_days',\n",
    "         'inv_year',\n",
    "         'inv_month',\n",
    "         'inv_day',\n",
    "         'inv_day_of_week',\n",
    "         'inv_weeknd',\n",
    "         'due_year',\n",
    "         'due_month',\n",
    "         'due_day',\n",
    "         'due_day_of_week',\n",
    "         'due_weeknd','Vendor_Name_freq_encode']"
   ]
  },
  {
   "cell_type": "code",
   "execution_count": 15,
   "id": "b5343eac",
   "metadata": {
    "execution": {
     "iopub.execute_input": "2022-04-15T10:06:27.316215Z",
     "iopub.status.busy": "2022-04-15T10:06:27.315526Z",
     "iopub.status.idle": "2022-04-15T10:06:27.390038Z",
     "shell.execute_reply": "2022-04-15T10:06:27.389448Z",
     "shell.execute_reply.started": "2022-04-15T10:03:36.134330Z"
    },
    "papermill": {
     "duration": 0.117372,
     "end_time": "2022-04-15T10:06:27.390182",
     "exception": false,
     "start_time": "2022-04-15T10:06:27.272810",
     "status": "completed"
    },
    "tags": []
   },
   "outputs": [],
   "source": [
    "from sklearn.preprocessing import QuantileTransformer\n",
    "\n",
    "for col in cols:\n",
    "  quantile = QuantileTransformer(output_distribution='normal')\n",
    "  train_df[col] = quantile.fit_transform(train_df1[col].values.reshape(-1, 1))\n",
    "  test_df[col] = quantile.transform(test_df1[col].values.reshape(-1, 1))  "
   ]
  },
  {
   "cell_type": "code",
   "execution_count": 16,
   "id": "547672ff",
   "metadata": {
    "execution": {
     "iopub.execute_input": "2022-04-15T10:06:27.474550Z",
     "iopub.status.busy": "2022-04-15T10:06:27.473518Z",
     "iopub.status.idle": "2022-04-15T10:06:27.501332Z",
     "shell.execute_reply": "2022-04-15T10:06:27.501829Z",
     "shell.execute_reply.started": "2022-04-15T10:03:36.219444Z"
    },
    "papermill": {
     "duration": 0.071691,
     "end_time": "2022-04-15T10:06:27.502003",
     "exception": false,
     "start_time": "2022-04-15T10:06:27.430312",
     "status": "completed"
    },
    "tags": []
   },
   "outputs": [
    {
     "data": {
      "text/html": [
       "<div>\n",
       "<style scoped>\n",
       "    .dataframe tbody tr th:only-of-type {\n",
       "        vertical-align: middle;\n",
       "    }\n",
       "\n",
       "    .dataframe tbody tr th {\n",
       "        vertical-align: top;\n",
       "    }\n",
       "\n",
       "    .dataframe thead th {\n",
       "        text-align: right;\n",
       "    }\n",
       "</style>\n",
       "<table border=\"1\" class=\"dataframe\">\n",
       "  <thead>\n",
       "    <tr style=\"text-align: right;\">\n",
       "      <th></th>\n",
       "      <th>Description</th>\n",
       "      <th>Vendor_Name</th>\n",
       "      <th>Amount</th>\n",
       "      <th>Settled</th>\n",
       "      <th>Number_of_Days_until_Payment</th>\n",
       "      <th>Due_days</th>\n",
       "      <th>inv_year</th>\n",
       "      <th>inv_month</th>\n",
       "      <th>inv_day</th>\n",
       "      <th>inv_day_of_week</th>\n",
       "      <th>inv_weeknd</th>\n",
       "      <th>due_year</th>\n",
       "      <th>due_month</th>\n",
       "      <th>due_day</th>\n",
       "      <th>due_day_of_week</th>\n",
       "      <th>due_weeknd</th>\n",
       "      <th>Vendor_Name_freq_encode</th>\n",
       "    </tr>\n",
       "  </thead>\n",
       "  <tbody>\n",
       "    <tr>\n",
       "      <th>0</th>\n",
       "      <td>Milk x 7 ltrs</td>\n",
       "      <td>David Taylor</td>\n",
       "      <td>0.720298</td>\n",
       "      <td>0.758085</td>\n",
       "      <td>13</td>\n",
       "      <td>0.341493</td>\n",
       "      <td>-5.199338</td>\n",
       "      <td>-0.568686</td>\n",
       "      <td>0.814401</td>\n",
       "      <td>-0.524976</td>\n",
       "      <td>-5.199338</td>\n",
       "      <td>-5.199338</td>\n",
       "      <td>-0.365531</td>\n",
       "      <td>0.746351</td>\n",
       "      <td>-0.180377</td>\n",
       "      <td>-5.199338</td>\n",
       "      <td>-0.611996</td>\n",
       "    </tr>\n",
       "    <tr>\n",
       "      <th>1</th>\n",
       "      <td>Office Stationery</td>\n",
       "      <td>Stephen Wright MD</td>\n",
       "      <td>1.659790</td>\n",
       "      <td>1.739204</td>\n",
       "      <td>38</td>\n",
       "      <td>0.341493</td>\n",
       "      <td>-5.199338</td>\n",
       "      <td>-0.312376</td>\n",
       "      <td>0.613509</td>\n",
       "      <td>-0.524976</td>\n",
       "      <td>-5.199338</td>\n",
       "      <td>-5.199338</td>\n",
       "      <td>-0.123259</td>\n",
       "      <td>0.472407</td>\n",
       "      <td>-0.180377</td>\n",
       "      <td>-5.199338</td>\n",
       "      <td>-5.199338</td>\n",
       "    </tr>\n",
       "    <tr>\n",
       "      <th>2</th>\n",
       "      <td>Milk x 10 ltrs</td>\n",
       "      <td>Mark Cordova</td>\n",
       "      <td>1.913885</td>\n",
       "      <td>1.965348</td>\n",
       "      <td>61</td>\n",
       "      <td>0.341493</td>\n",
       "      <td>-5.199338</td>\n",
       "      <td>-0.868016</td>\n",
       "      <td>0.613509</td>\n",
       "      <td>0.432104</td>\n",
       "      <td>-5.199338</td>\n",
       "      <td>-5.199338</td>\n",
       "      <td>-0.624145</td>\n",
       "      <td>0.472407</td>\n",
       "      <td>0.893908</td>\n",
       "      <td>5.199338</td>\n",
       "      <td>-5.199338</td>\n",
       "    </tr>\n",
       "    <tr>\n",
       "      <th>3</th>\n",
       "      <td>Annual Fee</td>\n",
       "      <td>Kimberly White</td>\n",
       "      <td>-2.258898</td>\n",
       "      <td>-2.043115</td>\n",
       "      <td>62</td>\n",
       "      <td>-0.866189</td>\n",
       "      <td>-5.199338</td>\n",
       "      <td>-0.312376</td>\n",
       "      <td>-0.496390</td>\n",
       "      <td>-0.524976</td>\n",
       "      <td>-5.199338</td>\n",
       "      <td>-5.199338</td>\n",
       "      <td>-0.365531</td>\n",
       "      <td>0.558392</td>\n",
       "      <td>-1.157061</td>\n",
       "      <td>-5.199338</td>\n",
       "      <td>-0.611996</td>\n",
       "    </tr>\n",
       "    <tr>\n",
       "      <th>4</th>\n",
       "      <td>NaN</td>\n",
       "      <td>Teresa Marshall</td>\n",
       "      <td>1.712134</td>\n",
       "      <td>1.795634</td>\n",
       "      <td>2</td>\n",
       "      <td>-5.199338</td>\n",
       "      <td>-5.199338</td>\n",
       "      <td>0.633317</td>\n",
       "      <td>-0.961429</td>\n",
       "      <td>-5.199338</td>\n",
       "      <td>-5.199338</td>\n",
       "      <td>-5.199338</td>\n",
       "      <td>0.592444</td>\n",
       "      <td>-0.933910</td>\n",
       "      <td>-1.157061</td>\n",
       "      <td>-5.199338</td>\n",
       "      <td>-0.473810</td>\n",
       "    </tr>\n",
       "    <tr>\n",
       "      <th>...</th>\n",
       "      <td>...</td>\n",
       "      <td>...</td>\n",
       "      <td>...</td>\n",
       "      <td>...</td>\n",
       "      <td>...</td>\n",
       "      <td>...</td>\n",
       "      <td>...</td>\n",
       "      <td>...</td>\n",
       "      <td>...</td>\n",
       "      <td>...</td>\n",
       "      <td>...</td>\n",
       "      <td>...</td>\n",
       "      <td>...</td>\n",
       "      <td>...</td>\n",
       "      <td>...</td>\n",
       "      <td>...</td>\n",
       "      <td>...</td>\n",
       "    </tr>\n",
       "    <tr>\n",
       "      <th>8748</th>\n",
       "      <td>NaN</td>\n",
       "      <td>Amy Sawyer</td>\n",
       "      <td>0.627608</td>\n",
       "      <td>0.668556</td>\n",
       "      <td>34</td>\n",
       "      <td>0.341493</td>\n",
       "      <td>5.199338</td>\n",
       "      <td>0.633317</td>\n",
       "      <td>1.218002</td>\n",
       "      <td>0.983573</td>\n",
       "      <td>-5.199338</td>\n",
       "      <td>5.199338</td>\n",
       "      <td>0.873515</td>\n",
       "      <td>1.109378</td>\n",
       "      <td>5.199338</td>\n",
       "      <td>5.199338</td>\n",
       "      <td>-5.199338</td>\n",
       "    </tr>\n",
       "    <tr>\n",
       "      <th>8749</th>\n",
       "      <td>NaN</td>\n",
       "      <td>Edward Santiago</td>\n",
       "      <td>0.442799</td>\n",
       "      <td>0.488904</td>\n",
       "      <td>34</td>\n",
       "      <td>0.341493</td>\n",
       "      <td>5.199338</td>\n",
       "      <td>0.633317</td>\n",
       "      <td>1.218002</td>\n",
       "      <td>0.983573</td>\n",
       "      <td>-5.199338</td>\n",
       "      <td>5.199338</td>\n",
       "      <td>0.873515</td>\n",
       "      <td>1.109378</td>\n",
       "      <td>5.199338</td>\n",
       "      <td>5.199338</td>\n",
       "      <td>-5.199338</td>\n",
       "    </tr>\n",
       "    <tr>\n",
       "      <th>8750</th>\n",
       "      <td>NaN</td>\n",
       "      <td>Angela Becker</td>\n",
       "      <td>0.232633</td>\n",
       "      <td>0.276702</td>\n",
       "      <td>5</td>\n",
       "      <td>-5.199338</td>\n",
       "      <td>5.199338</td>\n",
       "      <td>0.908975</td>\n",
       "      <td>5.199338</td>\n",
       "      <td>-0.524976</td>\n",
       "      <td>-5.199338</td>\n",
       "      <td>5.199338</td>\n",
       "      <td>1.202347</td>\n",
       "      <td>-5.199338</td>\n",
       "      <td>-0.676854</td>\n",
       "      <td>-5.199338</td>\n",
       "      <td>-5.199338</td>\n",
       "    </tr>\n",
       "    <tr>\n",
       "      <th>8751</th>\n",
       "      <td>NaN</td>\n",
       "      <td>Anna Carter</td>\n",
       "      <td>-0.202098</td>\n",
       "      <td>-0.160010</td>\n",
       "      <td>10</td>\n",
       "      <td>-0.866189</td>\n",
       "      <td>5.199338</td>\n",
       "      <td>0.908975</td>\n",
       "      <td>0.523537</td>\n",
       "      <td>-5.199338</td>\n",
       "      <td>-5.199338</td>\n",
       "      <td>5.199338</td>\n",
       "      <td>1.202347</td>\n",
       "      <td>-0.933910</td>\n",
       "      <td>-5.199338</td>\n",
       "      <td>-5.199338</td>\n",
       "      <td>-5.199338</td>\n",
       "    </tr>\n",
       "    <tr>\n",
       "      <th>8752</th>\n",
       "      <td>NaN</td>\n",
       "      <td>James Ayala</td>\n",
       "      <td>-0.095492</td>\n",
       "      <td>-0.050204</td>\n",
       "      <td>1</td>\n",
       "      <td>0.341493</td>\n",
       "      <td>5.199338</td>\n",
       "      <td>1.239352</td>\n",
       "      <td>-0.961429</td>\n",
       "      <td>5.199338</td>\n",
       "      <td>5.199338</td>\n",
       "      <td>5.199338</td>\n",
       "      <td>5.199338</td>\n",
       "      <td>-1.046576</td>\n",
       "      <td>-1.157061</td>\n",
       "      <td>-5.199338</td>\n",
       "      <td>-5.199338</td>\n",
       "    </tr>\n",
       "  </tbody>\n",
       "</table>\n",
       "<p>8753 rows × 17 columns</p>\n",
       "</div>"
      ],
      "text/plain": [
       "             Description        Vendor_Name    Amount   Settled  \\\n",
       "0          Milk x 7 ltrs       David Taylor  0.720298  0.758085   \n",
       "1     Office Stationery   Stephen Wright MD  1.659790  1.739204   \n",
       "2         Milk x 10 ltrs       Mark Cordova  1.913885  1.965348   \n",
       "3             Annual Fee     Kimberly White -2.258898 -2.043115   \n",
       "4                    NaN    Teresa Marshall  1.712134  1.795634   \n",
       "...                  ...                ...       ...       ...   \n",
       "8748                 NaN         Amy Sawyer  0.627608  0.668556   \n",
       "8749                 NaN    Edward Santiago  0.442799  0.488904   \n",
       "8750                 NaN      Angela Becker  0.232633  0.276702   \n",
       "8751                 NaN        Anna Carter -0.202098 -0.160010   \n",
       "8752                 NaN        James Ayala -0.095492 -0.050204   \n",
       "\n",
       "      Number_of_Days_until_Payment  Due_days  inv_year  inv_month   inv_day  \\\n",
       "0                               13  0.341493 -5.199338  -0.568686  0.814401   \n",
       "1                               38  0.341493 -5.199338  -0.312376  0.613509   \n",
       "2                               61  0.341493 -5.199338  -0.868016  0.613509   \n",
       "3                               62 -0.866189 -5.199338  -0.312376 -0.496390   \n",
       "4                                2 -5.199338 -5.199338   0.633317 -0.961429   \n",
       "...                            ...       ...       ...        ...       ...   \n",
       "8748                            34  0.341493  5.199338   0.633317  1.218002   \n",
       "8749                            34  0.341493  5.199338   0.633317  1.218002   \n",
       "8750                             5 -5.199338  5.199338   0.908975  5.199338   \n",
       "8751                            10 -0.866189  5.199338   0.908975  0.523537   \n",
       "8752                             1  0.341493  5.199338   1.239352 -0.961429   \n",
       "\n",
       "      inv_day_of_week  inv_weeknd  due_year  due_month   due_day  \\\n",
       "0           -0.524976   -5.199338 -5.199338  -0.365531  0.746351   \n",
       "1           -0.524976   -5.199338 -5.199338  -0.123259  0.472407   \n",
       "2            0.432104   -5.199338 -5.199338  -0.624145  0.472407   \n",
       "3           -0.524976   -5.199338 -5.199338  -0.365531  0.558392   \n",
       "4           -5.199338   -5.199338 -5.199338   0.592444 -0.933910   \n",
       "...               ...         ...       ...        ...       ...   \n",
       "8748         0.983573   -5.199338  5.199338   0.873515  1.109378   \n",
       "8749         0.983573   -5.199338  5.199338   0.873515  1.109378   \n",
       "8750        -0.524976   -5.199338  5.199338   1.202347 -5.199338   \n",
       "8751        -5.199338   -5.199338  5.199338   1.202347 -0.933910   \n",
       "8752         5.199338    5.199338  5.199338   5.199338 -1.046576   \n",
       "\n",
       "      due_day_of_week  due_weeknd  Vendor_Name_freq_encode  \n",
       "0           -0.180377   -5.199338                -0.611996  \n",
       "1           -0.180377   -5.199338                -5.199338  \n",
       "2            0.893908    5.199338                -5.199338  \n",
       "3           -1.157061   -5.199338                -0.611996  \n",
       "4           -1.157061   -5.199338                -0.473810  \n",
       "...               ...         ...                      ...  \n",
       "8748         5.199338    5.199338                -5.199338  \n",
       "8749         5.199338    5.199338                -5.199338  \n",
       "8750        -0.676854   -5.199338                -5.199338  \n",
       "8751        -5.199338   -5.199338                -5.199338  \n",
       "8752        -1.157061   -5.199338                -5.199338  \n",
       "\n",
       "[8753 rows x 17 columns]"
      ]
     },
     "execution_count": 16,
     "metadata": {},
     "output_type": "execute_result"
    }
   ],
   "source": [
    "train_df\n"
   ]
  },
  {
   "cell_type": "code",
   "execution_count": 17,
   "id": "645651fe",
   "metadata": {
    "execution": {
     "iopub.execute_input": "2022-04-15T10:06:27.591267Z",
     "iopub.status.busy": "2022-04-15T10:06:27.590192Z",
     "iopub.status.idle": "2022-04-15T10:06:27.593970Z",
     "shell.execute_reply": "2022-04-15T10:06:27.594547Z",
     "shell.execute_reply.started": "2022-04-15T10:03:36.252587Z"
    },
    "papermill": {
     "duration": 0.051612,
     "end_time": "2022-04-15T10:06:27.594711",
     "exception": false,
     "start_time": "2022-04-15T10:06:27.543099",
     "status": "completed"
    },
    "tags": []
   },
   "outputs": [],
   "source": [
    "X = train_df1.values\n",
    "y = train_df['Number_of_Days_until_Payment']\n",
    "\n",
    "test = test_df1"
   ]
  },
  {
   "cell_type": "code",
   "execution_count": 18,
   "id": "44130c8a",
   "metadata": {
    "execution": {
     "iopub.execute_input": "2022-04-15T10:06:27.682635Z",
     "iopub.status.busy": "2022-04-15T10:06:27.681782Z",
     "iopub.status.idle": "2022-04-15T10:06:27.731649Z",
     "shell.execute_reply": "2022-04-15T10:06:27.732175Z",
     "shell.execute_reply.started": "2022-04-15T10:03:36.262158Z"
    },
    "papermill": {
     "duration": 0.096436,
     "end_time": "2022-04-15T10:06:27.732361",
     "exception": false,
     "start_time": "2022-04-15T10:06:27.635925",
     "status": "completed"
    },
    "tags": []
   },
   "outputs": [],
   "source": [
    "from sklearn.model_selection import train_test_split\n",
    "x_train, x_test, y_train, y_test = train_test_split(X, y, test_size=0.2, random_state=2084)"
   ]
  },
  {
   "cell_type": "code",
   "execution_count": 19,
   "id": "0f88cfc8",
   "metadata": {
    "execution": {
     "iopub.execute_input": "2022-04-15T10:06:27.819453Z",
     "iopub.status.busy": "2022-04-15T10:06:27.818714Z",
     "iopub.status.idle": "2022-04-15T10:06:27.822510Z",
     "shell.execute_reply": "2022-04-15T10:06:27.822997Z",
     "shell.execute_reply.started": "2022-04-15T10:03:36.322560Z"
    },
    "papermill": {
     "duration": 0.049327,
     "end_time": "2022-04-15T10:06:27.823174",
     "exception": false,
     "start_time": "2022-04-15T10:06:27.773847",
     "status": "completed"
    },
    "tags": []
   },
   "outputs": [],
   "source": [
    "xgb_params = {'learning_rate': 0.21332121304895782,\n",
    " 'reg_lambda': 0.015832777652673033,\n",
    " 'reg_alpha': 4.004765999790442e-06,\n",
    " 'subsample': 0.7633583263826937,\n",
    " 'colsample_bytree': 0.8016447134543976,\n",
    " 'max_depth': 7\n",
    "             ,'n_estimators':15,'eval_metric':'rmse'}"
   ]
  },
  {
   "cell_type": "code",
   "execution_count": 20,
   "id": "d3dfb07c",
   "metadata": {
    "execution": {
     "iopub.execute_input": "2022-04-15T10:06:27.912432Z",
     "iopub.status.busy": "2022-04-15T10:06:27.911583Z",
     "iopub.status.idle": "2022-04-15T10:06:29.698785Z",
     "shell.execute_reply": "2022-04-15T10:06:29.699374Z",
     "shell.execute_reply.started": "2022-04-15T10:03:36.329383Z"
    },
    "papermill": {
     "duration": 1.835025,
     "end_time": "2022-04-15T10:06:29.699565",
     "exception": false,
     "start_time": "2022-04-15T10:06:27.864540",
     "status": "completed"
    },
    "tags": []
   },
   "outputs": [
    {
     "name": "stdout",
     "output_type": "stream",
     "text": [
      "[0]\tvalidation_0-rmse:40.31726\tvalidation_1-rmse:40.24028\n",
      "[1]\tvalidation_0-rmse:33.15944\tvalidation_1-rmse:33.38758\n",
      "[2]\tvalidation_0-rmse:28.91496\tvalidation_1-rmse:29.43437\n",
      "[3]\tvalidation_0-rmse:26.20819\tvalidation_1-rmse:27.11546\n",
      "[4]\tvalidation_0-rmse:24.74820\tvalidation_1-rmse:25.95772\n",
      "[5]\tvalidation_0-rmse:23.89339\tvalidation_1-rmse:25.32459\n",
      "[6]\tvalidation_0-rmse:23.24269\tvalidation_1-rmse:24.95307\n",
      "[7]\tvalidation_0-rmse:22.86537\tvalidation_1-rmse:24.79649\n",
      "[8]\tvalidation_0-rmse:22.58823\tvalidation_1-rmse:24.67169\n",
      "[9]\tvalidation_0-rmse:22.27826\tvalidation_1-rmse:24.60619\n",
      "[10]\tvalidation_0-rmse:22.15188\tvalidation_1-rmse:24.54207\n",
      "[11]\tvalidation_0-rmse:21.84776\tvalidation_1-rmse:24.39429\n",
      "[12]\tvalidation_0-rmse:21.68417\tvalidation_1-rmse:24.33920\n",
      "[13]\tvalidation_0-rmse:21.57251\tvalidation_1-rmse:24.33828\n",
      "[14]\tvalidation_0-rmse:21.27825\tvalidation_1-rmse:24.22191\n",
      "[15]\tvalidation_0-rmse:21.10148\tvalidation_1-rmse:24.17142\n",
      "[16]\tvalidation_0-rmse:20.89634\tvalidation_1-rmse:24.12907\n",
      "[17]\tvalidation_0-rmse:20.75905\tvalidation_1-rmse:24.16086\n",
      "[18]\tvalidation_0-rmse:20.68977\tvalidation_1-rmse:24.17022\n",
      "[19]\tvalidation_0-rmse:20.57216\tvalidation_1-rmse:24.17624\n",
      "[20]\tvalidation_0-rmse:20.35594\tvalidation_1-rmse:24.10337\n",
      "[21]\tvalidation_0-rmse:20.20785\tvalidation_1-rmse:24.12598\n",
      "[22]\tvalidation_0-rmse:20.08989\tvalidation_1-rmse:24.09207\n",
      "[23]\tvalidation_0-rmse:19.93973\tvalidation_1-rmse:24.07908\n",
      "[24]\tvalidation_0-rmse:19.65458\tvalidation_1-rmse:23.98813\n",
      "[25]\tvalidation_0-rmse:19.51121\tvalidation_1-rmse:23.99853\n",
      "[26]\tvalidation_0-rmse:19.40958\tvalidation_1-rmse:24.00130\n",
      "[27]\tvalidation_0-rmse:19.29867\tvalidation_1-rmse:24.05197\n",
      "[28]\tvalidation_0-rmse:19.27296\tvalidation_1-rmse:24.05182\n",
      "[29]\tvalidation_0-rmse:19.14732\tvalidation_1-rmse:24.06508\n",
      "[30]\tvalidation_0-rmse:18.94210\tvalidation_1-rmse:24.08617\n",
      "[31]\tvalidation_0-rmse:18.85825\tvalidation_1-rmse:24.11535\n",
      "[32]\tvalidation_0-rmse:18.83342\tvalidation_1-rmse:24.12516\n",
      "[33]\tvalidation_0-rmse:18.77612\tvalidation_1-rmse:24.11943\n",
      "[34]\tvalidation_0-rmse:18.65621\tvalidation_1-rmse:24.09829\n",
      "[35]\tvalidation_0-rmse:18.50602\tvalidation_1-rmse:24.09905\n",
      "[36]\tvalidation_0-rmse:18.39014\tvalidation_1-rmse:24.08891\n",
      "[37]\tvalidation_0-rmse:18.31354\tvalidation_1-rmse:24.07759\n",
      "[38]\tvalidation_0-rmse:18.23158\tvalidation_1-rmse:24.04828\n",
      "[39]\tvalidation_0-rmse:18.15808\tvalidation_1-rmse:24.02566\n",
      "[40]\tvalidation_0-rmse:18.07941\tvalidation_1-rmse:24.00615\n",
      "[41]\tvalidation_0-rmse:17.95672\tvalidation_1-rmse:24.00557\n",
      "[42]\tvalidation_0-rmse:17.83531\tvalidation_1-rmse:23.99155\n",
      "[43]\tvalidation_0-rmse:17.73916\tvalidation_1-rmse:23.96272\n",
      "[44]\tvalidation_0-rmse:17.61712\tvalidation_1-rmse:23.96601\n",
      "[45]\tvalidation_0-rmse:17.59751\tvalidation_1-rmse:23.97044\n",
      "[46]\tvalidation_0-rmse:17.51847\tvalidation_1-rmse:23.97727\n",
      "[47]\tvalidation_0-rmse:17.44406\tvalidation_1-rmse:23.97396\n",
      "[48]\tvalidation_0-rmse:17.36636\tvalidation_1-rmse:24.00070\n",
      "[49]\tvalidation_0-rmse:17.21703\tvalidation_1-rmse:23.97211\n",
      "[50]\tvalidation_0-rmse:17.09494\tvalidation_1-rmse:23.94215\n",
      "[51]\tvalidation_0-rmse:17.00973\tvalidation_1-rmse:23.95412\n",
      "[52]\tvalidation_0-rmse:16.90103\tvalidation_1-rmse:23.91745\n",
      "[53]\tvalidation_0-rmse:16.82406\tvalidation_1-rmse:23.93192\n",
      "[54]\tvalidation_0-rmse:16.77625\tvalidation_1-rmse:23.95258\n",
      "[55]\tvalidation_0-rmse:16.66446\tvalidation_1-rmse:23.95651\n",
      "[56]\tvalidation_0-rmse:16.63230\tvalidation_1-rmse:23.94029\n",
      "[57]\tvalidation_0-rmse:16.47872\tvalidation_1-rmse:23.95777\n",
      "[58]\tvalidation_0-rmse:16.36956\tvalidation_1-rmse:23.97021\n",
      "[59]\tvalidation_0-rmse:16.35324\tvalidation_1-rmse:23.96227\n",
      "[60]\tvalidation_0-rmse:16.27731\tvalidation_1-rmse:23.95617\n",
      "[61]\tvalidation_0-rmse:16.22479\tvalidation_1-rmse:23.95487\n",
      "[62]\tvalidation_0-rmse:16.16957\tvalidation_1-rmse:23.93713\n",
      "[63]\tvalidation_0-rmse:16.14128\tvalidation_1-rmse:23.93890\n",
      "[64]\tvalidation_0-rmse:16.03988\tvalidation_1-rmse:23.97687\n",
      "[65]\tvalidation_0-rmse:15.89879\tvalidation_1-rmse:23.98161\n",
      "[66]\tvalidation_0-rmse:15.78905\tvalidation_1-rmse:23.99605\n",
      "[67]\tvalidation_0-rmse:15.75979\tvalidation_1-rmse:24.01129\n",
      "[68]\tvalidation_0-rmse:15.71290\tvalidation_1-rmse:24.01767\n",
      "[69]\tvalidation_0-rmse:15.69705\tvalidation_1-rmse:24.01466\n",
      "[70]\tvalidation_0-rmse:15.62684\tvalidation_1-rmse:24.01359\n",
      "[71]\tvalidation_0-rmse:15.52193\tvalidation_1-rmse:24.03128\n",
      "[72]\tvalidation_0-rmse:15.40484\tvalidation_1-rmse:24.01349\n",
      "[73]\tvalidation_0-rmse:15.31953\tvalidation_1-rmse:24.01106\n",
      "[74]\tvalidation_0-rmse:15.17845\tvalidation_1-rmse:24.04345\n",
      "[75]\tvalidation_0-rmse:15.10686\tvalidation_1-rmse:24.06542\n",
      "[76]\tvalidation_0-rmse:14.97937\tvalidation_1-rmse:24.07274\n",
      "[77]\tvalidation_0-rmse:14.88356\tvalidation_1-rmse:24.06215\n",
      "[78]\tvalidation_0-rmse:14.76229\tvalidation_1-rmse:24.07052\n",
      "[79]\tvalidation_0-rmse:14.68586\tvalidation_1-rmse:24.06776\n",
      "[80]\tvalidation_0-rmse:14.61070\tvalidation_1-rmse:24.09683\n",
      "[81]\tvalidation_0-rmse:14.47554\tvalidation_1-rmse:24.10660\n",
      "[82]\tvalidation_0-rmse:14.35728\tvalidation_1-rmse:24.10717\n",
      "[83]\tvalidation_0-rmse:14.28035\tvalidation_1-rmse:24.15645\n",
      "[84]\tvalidation_0-rmse:14.21821\tvalidation_1-rmse:24.17047\n",
      "[85]\tvalidation_0-rmse:14.16626\tvalidation_1-rmse:24.19904\n",
      "[86]\tvalidation_0-rmse:14.04658\tvalidation_1-rmse:24.19864\n",
      "[87]\tvalidation_0-rmse:13.91133\tvalidation_1-rmse:24.21327\n",
      "[88]\tvalidation_0-rmse:13.85959\tvalidation_1-rmse:24.21612\n",
      "[89]\tvalidation_0-rmse:13.80228\tvalidation_1-rmse:24.20491\n",
      "[90]\tvalidation_0-rmse:13.76279\tvalidation_1-rmse:24.20396\n",
      "[91]\tvalidation_0-rmse:13.69319\tvalidation_1-rmse:24.19406\n",
      "[92]\tvalidation_0-rmse:13.58672\tvalidation_1-rmse:24.21008\n",
      "[93]\tvalidation_0-rmse:13.50485\tvalidation_1-rmse:24.17128\n",
      "[94]\tvalidation_0-rmse:13.43527\tvalidation_1-rmse:24.18664\n",
      "[95]\tvalidation_0-rmse:13.35076\tvalidation_1-rmse:24.19055\n",
      "[96]\tvalidation_0-rmse:13.34720\tvalidation_1-rmse:24.19008\n",
      "[97]\tvalidation_0-rmse:13.30104\tvalidation_1-rmse:24.20031\n",
      "[98]\tvalidation_0-rmse:13.24813\tvalidation_1-rmse:24.19884\n",
      "[99]\tvalidation_0-rmse:13.20121\tvalidation_1-rmse:24.18698\n",
      "24.186981689084536\n"
     ]
    }
   ],
   "source": [
    "from xgboost import XGBRegressor\n",
    "from sklearn.metrics import mean_squared_error\n",
    "\n",
    "xgbr = XGBRegressor( n_estimators=100,eval_metric=['rmse'] )\n",
    "\n",
    "xgbr.fit(x_train,y_train,eval_set=[[x_train,y_train],[x_test,y_test]])\n",
    "\n",
    "y_preds_xgb = xgbr.predict(x_test)\n",
    "   \n",
    "print(np.sqrt(mean_squared_error(y_test, y_preds_xgb)))"
   ]
  },
  {
   "cell_type": "code",
   "execution_count": 21,
   "id": "649094be",
   "metadata": {
    "execution": {
     "iopub.execute_input": "2022-04-15T10:06:29.870487Z",
     "iopub.status.busy": "2022-04-15T10:06:29.869575Z",
     "iopub.status.idle": "2022-04-15T10:06:30.691959Z",
     "shell.execute_reply": "2022-04-15T10:06:30.691341Z",
     "shell.execute_reply.started": "2022-04-15T10:03:38.026968Z"
    },
    "papermill": {
     "duration": 0.912269,
     "end_time": "2022-04-15T10:06:30.692133",
     "exception": false,
     "start_time": "2022-04-15T10:06:29.779864",
     "status": "completed"
    },
    "tags": []
   },
   "outputs": [],
   "source": [
    "import optuna\n",
    "def run(trial):\n",
    "#     fold = 0\n",
    "    learning_rate = trial.suggest_float(\"learning_rate\", 1e-2, 0.25, log=True)\n",
    "    reg_lambda = trial.suggest_loguniform(\"reg_lambda\", 1e-8, 100.0)\n",
    "    reg_alpha = trial.suggest_loguniform(\"reg_alpha\", 1e-8, 100.0)\n",
    "    subsample = trial.suggest_float(\"subsample\", 0.1, 1.0)\n",
    "    colsample_bytree = trial.suggest_float(\"colsample_bytree\", 0.1, 1.0)\n",
    "    max_depth = trial.suggest_int(\"max_depth\", 1, 7)\n",
    "\n",
    "    model = XGBRegressor(\n",
    "        random_state=42,\n",
    "        n_estimators=15,\n",
    "        learning_rate=learning_rate,\n",
    "        reg_lambda=reg_lambda,\n",
    "        reg_alpha=reg_alpha,\n",
    "        subsample=subsample,\n",
    "        colsample_bytree=colsample_bytree,\n",
    "        max_depth=max_depth,\n",
    "    )\n",
    "    model.fit(x_train, y_train, early_stopping_rounds=300, eval_set=[(x_test, y_test)],eval_metric=['rmse'], verbose=1000)\n",
    "    preds_valid = model.predict(x_test)\n",
    "    check_arr =[]\n",
    "    for i in range(len(preds_valid)):\n",
    "        check_arr.append(preds_valid[i])\n",
    "    score = np.sqrt(mean_squared_error(y_test, check_arr))\n",
    "    return score"
   ]
  },
  {
   "cell_type": "code",
   "execution_count": 22,
   "id": "77cceb94",
   "metadata": {
    "execution": {
     "iopub.execute_input": "2022-04-15T10:06:30.854141Z",
     "iopub.status.busy": "2022-04-15T10:06:30.853164Z",
     "iopub.status.idle": "2022-04-15T10:06:41.268105Z",
     "shell.execute_reply": "2022-04-15T10:06:41.268856Z",
     "shell.execute_reply.started": "2022-04-15T10:03:38.888158Z"
    },
    "papermill": {
     "duration": 10.499833,
     "end_time": "2022-04-15T10:06:41.269125",
     "exception": false,
     "start_time": "2022-04-15T10:06:30.769292",
     "status": "completed"
    },
    "tags": []
   },
   "outputs": [
    {
     "name": "stderr",
     "output_type": "stream",
     "text": [
      "\u001b[32m[I 2022-04-15 10:06:30,850]\u001b[0m A new study created in memory with name: no-name-0ac42ee9-4556-466a-bcee-b3c7370ed95f\u001b[0m\n"
     ]
    },
    {
     "name": "stdout",
     "output_type": "stream",
     "text": [
      "[0]\tvalidation_0-rmse:49.85866\n",
      "[14]\tvalidation_0-rmse:34.87196\n"
     ]
    },
    {
     "name": "stderr",
     "output_type": "stream",
     "text": [
      "\u001b[32m[I 2022-04-15 10:06:31,059]\u001b[0m Trial 0 finished with value: 34.871957594645814 and parameters: {'learning_rate': 0.04424776011932231, 'reg_lambda': 36.37739636254927, 'reg_alpha': 5.1234782879406105e-06, 'subsample': 0.6371207893775518, 'colsample_bytree': 0.8710592306801788, 'max_depth': 6}. Best is trial 0 with value: 34.871957594645814.\u001b[0m\n"
     ]
    },
    {
     "name": "stdout",
     "output_type": "stream",
     "text": [
      "[0]\tvalidation_0-rmse:46.59545\n",
      "[14]\tvalidation_0-rmse:25.78359\n"
     ]
    },
    {
     "name": "stderr",
     "output_type": "stream",
     "text": [
      "\u001b[32m[I 2022-04-15 10:06:31,272]\u001b[0m Trial 1 finished with value: 25.783595387921757 and parameters: {'learning_rate': 0.12644485542559586, 'reg_lambda': 2.971393556426178, 'reg_alpha': 0.00508161274542331, 'subsample': 0.4734951495584243, 'colsample_bytree': 0.9867369914471881, 'max_depth': 5}. Best is trial 1 with value: 25.783595387921757.\u001b[0m\n"
     ]
    },
    {
     "name": "stdout",
     "output_type": "stream",
     "text": [
      "[0]\tvalidation_0-rmse:43.46446\n",
      "[14]\tvalidation_0-rmse:25.50710\n"
     ]
    },
    {
     "name": "stderr",
     "output_type": "stream",
     "text": [
      "\u001b[32m[I 2022-04-15 10:06:31,443]\u001b[0m Trial 2 finished with value: 25.5071024595362 and parameters: {'learning_rate': 0.21405404867471917, 'reg_lambda': 0.05588367548458357, 'reg_alpha': 9.621948677960177e-06, 'subsample': 0.49443843367313134, 'colsample_bytree': 0.94099957035611, 'max_depth': 3}. Best is trial 2 with value: 25.5071024595362.\u001b[0m\n"
     ]
    },
    {
     "name": "stdout",
     "output_type": "stream",
     "text": [
      "[0]\tvalidation_0-rmse:48.87739\n",
      "[14]\tvalidation_0-rmse:29.98262\n"
     ]
    },
    {
     "name": "stderr",
     "output_type": "stream",
     "text": [
      "\u001b[32m[I 2022-04-15 10:06:31,609]\u001b[0m Trial 3 finished with value: 29.9826214484434 and parameters: {'learning_rate': 0.07220563239966893, 'reg_lambda': 0.01782371076699102, 'reg_alpha': 0.4458137100355476, 'subsample': 0.6138481575736693, 'colsample_bytree': 0.2086256735754793, 'max_depth': 5}. Best is trial 2 with value: 25.5071024595362.\u001b[0m\n"
     ]
    },
    {
     "name": "stdout",
     "output_type": "stream",
     "text": [
      "[0]\tvalidation_0-rmse:50.65510\n",
      "[14]\tvalidation_0-rmse:41.17898\n"
     ]
    },
    {
     "name": "stderr",
     "output_type": "stream",
     "text": [
      "\u001b[32m[I 2022-04-15 10:06:31,755]\u001b[0m Trial 4 finished with value: 41.178977304965784 and parameters: {'learning_rate': 0.022863666032566173, 'reg_lambda': 5.337159579033076e-08, 'reg_alpha': 0.8472318087677259, 'subsample': 0.18809925610706918, 'colsample_bytree': 0.25172161551557937, 'max_depth': 2}. Best is trial 2 with value: 25.5071024595362.\u001b[0m\n"
     ]
    },
    {
     "name": "stdout",
     "output_type": "stream",
     "text": [
      "[0]\tvalidation_0-rmse:49.35870\n",
      "[14]\tvalidation_0-rmse:31.97358\n"
     ]
    },
    {
     "name": "stderr",
     "output_type": "stream",
     "text": [
      "\u001b[32m[I 2022-04-15 10:06:31,920]\u001b[0m Trial 5 finished with value: 31.973585652246292 and parameters: {'learning_rate': 0.05814637311164733, 'reg_lambda': 0.03020767488223027, 'reg_alpha': 0.49351461677714076, 'subsample': 0.7268208323554467, 'colsample_bytree': 0.3111704893808239, 'max_depth': 4}. Best is trial 2 with value: 25.5071024595362.\u001b[0m\n"
     ]
    },
    {
     "name": "stdout",
     "output_type": "stream",
     "text": [
      "[0]\tvalidation_0-rmse:50.35888\n",
      "[14]\tvalidation_0-rmse:38.46553\n"
     ]
    },
    {
     "name": "stderr",
     "output_type": "stream",
     "text": [
      "\u001b[32m[I 2022-04-15 10:06:32,099]\u001b[0m Trial 6 finished with value: 38.46552944806255 and parameters: {'learning_rate': 0.028987661423482754, 'reg_lambda': 0.003956228423509198, 'reg_alpha': 0.0038039540553259257, 'subsample': 0.1475793308857069, 'colsample_bytree': 0.5747436047201699, 'max_depth': 6}. Best is trial 2 with value: 25.5071024595362.\u001b[0m\n"
     ]
    },
    {
     "name": "stdout",
     "output_type": "stream",
     "text": [
      "[0]\tvalidation_0-rmse:47.08511\n",
      "[14]\tvalidation_0-rmse:26.68658\n"
     ]
    },
    {
     "name": "stderr",
     "output_type": "stream",
     "text": [
      "\u001b[32m[I 2022-04-15 10:06:32,263]\u001b[0m Trial 7 finished with value: 26.686582508898145 and parameters: {'learning_rate': 0.11937272570691969, 'reg_lambda': 0.46816341559827135, 'reg_alpha': 2.237499941327982e-06, 'subsample': 0.4395585699402792, 'colsample_bytree': 0.37387283391554593, 'max_depth': 4}. Best is trial 2 with value: 25.5071024595362.\u001b[0m\n"
     ]
    },
    {
     "name": "stdout",
     "output_type": "stream",
     "text": [
      "[0]\tvalidation_0-rmse:50.94259\n",
      "[14]\tvalidation_0-rmse:44.36103\n"
     ]
    },
    {
     "name": "stderr",
     "output_type": "stream",
     "text": [
      "\u001b[32m[I 2022-04-15 10:06:32,422]\u001b[0m Trial 8 finished with value: 44.361031302213846 and parameters: {'learning_rate': 0.014709525680868368, 'reg_lambda': 0.03242520754446151, 'reg_alpha': 0.03472029638772004, 'subsample': 0.1628494780005395, 'colsample_bytree': 0.19871279967928002, 'max_depth': 5}. Best is trial 2 with value: 25.5071024595362.\u001b[0m\n"
     ]
    },
    {
     "name": "stdout",
     "output_type": "stream",
     "text": [
      "[0]\tvalidation_0-rmse:49.26569\n",
      "[14]\tvalidation_0-rmse:31.48605\n"
     ]
    },
    {
     "name": "stderr",
     "output_type": "stream",
     "text": [
      "\u001b[32m[I 2022-04-15 10:06:32,582]\u001b[0m Trial 9 finished with value: 31.48604184834642 and parameters: {'learning_rate': 0.05894964710489422, 'reg_lambda': 8.129396228705757e-07, 'reg_alpha': 9.326919855775383e-05, 'subsample': 0.9422187424474624, 'colsample_bytree': 0.5982812034514766, 'max_depth': 3}. Best is trial 2 with value: 25.5071024595362.\u001b[0m\n"
     ]
    },
    {
     "name": "stdout",
     "output_type": "stream",
     "text": [
      "[0]\tvalidation_0-rmse:42.52167\n",
      "[14]\tvalidation_0-rmse:26.71030\n"
     ]
    },
    {
     "name": "stderr",
     "output_type": "stream",
     "text": [
      "\u001b[32m[I 2022-04-15 10:06:32,752]\u001b[0m Trial 10 finished with value: 26.71030269518666 and parameters: {'learning_rate': 0.245629614664213, 'reg_lambda': 4.411855897900404e-05, 'reg_alpha': 1.0845297544491838e-08, 'subsample': 0.34016940288640757, 'colsample_bytree': 0.7566927020439127, 'max_depth': 1}. Best is trial 2 with value: 25.5071024595362.\u001b[0m\n"
     ]
    },
    {
     "name": "stdout",
     "output_type": "stream",
     "text": [
      "[0]\tvalidation_0-rmse:42.93889\n",
      "[14]\tvalidation_0-rmse:24.83995\n"
     ]
    },
    {
     "name": "stderr",
     "output_type": "stream",
     "text": [
      "\u001b[32m[I 2022-04-15 10:06:33,002]\u001b[0m Trial 11 finished with value: 24.83994899681458 and parameters: {'learning_rate': 0.23017242388185666, 'reg_lambda': 11.543771840593662, 'reg_alpha': 72.2404157379626, 'subsample': 0.4137997863470057, 'colsample_bytree': 0.946335153875191, 'max_depth': 7}. Best is trial 11 with value: 24.83994899681458.\u001b[0m\n"
     ]
    },
    {
     "name": "stdout",
     "output_type": "stream",
     "text": [
      "[0]\tvalidation_0-rmse:43.05344\n",
      "[14]\tvalidation_0-rmse:25.54162\n"
     ]
    },
    {
     "name": "stderr",
     "output_type": "stream",
     "text": [
      "\u001b[32m[I 2022-04-15 10:06:33,241]\u001b[0m Trial 12 finished with value: 25.541614683386143 and parameters: {'learning_rate': 0.23905471318172677, 'reg_lambda': 49.99203119071877, 'reg_alpha': 89.06953355033146, 'subsample': 0.3224296215100918, 'colsample_bytree': 0.9984670059621624, 'max_depth': 7}. Best is trial 11 with value: 24.83994899681458.\u001b[0m\n"
     ]
    },
    {
     "name": "stdout",
     "output_type": "stream",
     "text": [
      "[0]\tvalidation_0-rmse:46.25306\n",
      "[14]\tvalidation_0-rmse:26.12085\n"
     ]
    },
    {
     "name": "stderr",
     "output_type": "stream",
     "text": [
      "\u001b[32m[I 2022-04-15 10:06:33,435]\u001b[0m Trial 13 finished with value: 26.120851359636397 and parameters: {'learning_rate': 0.13800711939029547, 'reg_lambda': 6.805884671285237e-05, 'reg_alpha': 5.199404929593468e-08, 'subsample': 0.7390027637054875, 'colsample_bytree': 0.751844561900057, 'max_depth': 3}. Best is trial 11 with value: 24.83994899681458.\u001b[0m\n"
     ]
    },
    {
     "name": "stdout",
     "output_type": "stream",
     "text": [
      "[0]\tvalidation_0-rmse:44.50926\n",
      "[14]\tvalidation_0-rmse:25.20202\n"
     ]
    },
    {
     "name": "stderr",
     "output_type": "stream",
     "text": [
      "\u001b[32m[I 2022-04-15 10:06:33,668]\u001b[0m Trial 14 finished with value: 25.20201523038334 and parameters: {'learning_rate': 0.18186377641025914, 'reg_lambda': 0.5471957189778246, 'reg_alpha': 86.91323162032046, 'subsample': 0.3235815527982105, 'colsample_bytree': 0.8035805121268692, 'max_depth': 7}. Best is trial 11 with value: 24.83994899681458.\u001b[0m\n"
     ]
    },
    {
     "name": "stdout",
     "output_type": "stream",
     "text": [
      "[0]\tvalidation_0-rmse:47.32395\n",
      "[14]\tvalidation_0-rmse:26.66437\n"
     ]
    },
    {
     "name": "stderr",
     "output_type": "stream",
     "text": [
      "\u001b[32m[I 2022-04-15 10:06:33,894]\u001b[0m Trial 15 finished with value: 26.664373627009212 and parameters: {'learning_rate': 0.1081482124061653, 'reg_lambda': 1.3045273501863544, 'reg_alpha': 99.76524129988202, 'subsample': 0.353629050400818, 'colsample_bytree': 0.7869846800642777, 'max_depth': 7}. Best is trial 11 with value: 24.83994899681458.\u001b[0m\n"
     ]
    },
    {
     "name": "stdout",
     "output_type": "stream",
     "text": [
      "[0]\tvalidation_0-rmse:45.64441\n",
      "[14]\tvalidation_0-rmse:26.58128\n"
     ]
    },
    {
     "name": "stderr",
     "output_type": "stream",
     "text": [
      "\u001b[32m[I 2022-04-15 10:06:34,104]\u001b[0m Trial 16 finished with value: 26.58127993023918 and parameters: {'learning_rate': 0.16709472800246095, 'reg_lambda': 91.67220627073286, 'reg_alpha': 6.759505618705235, 'subsample': 0.31048772633707444, 'colsample_bytree': 0.6814552017643329, 'max_depth': 7}. Best is trial 11 with value: 24.83994899681458.\u001b[0m\n"
     ]
    },
    {
     "name": "stdout",
     "output_type": "stream",
     "text": [
      "[0]\tvalidation_0-rmse:48.12914\n",
      "[14]\tvalidation_0-rmse:27.87562\n"
     ]
    },
    {
     "name": "stderr",
     "output_type": "stream",
     "text": [
      "\u001b[32m[I 2022-04-15 10:06:34,393]\u001b[0m Trial 17 finished with value: 27.87562028897367 and parameters: {'learning_rate': 0.08422804212545314, 'reg_lambda': 0.00021846311694058968, 'reg_alpha': 6.5231400284101895, 'subsample': 0.22087247322607478, 'colsample_bytree': 0.8610412263187344, 'max_depth': 6}. Best is trial 11 with value: 24.83994899681458.\u001b[0m\n"
     ]
    },
    {
     "name": "stdout",
     "output_type": "stream",
     "text": [
      "[0]\tvalidation_0-rmse:51.10317\n",
      "[14]\tvalidation_0-rmse:46.22721\n"
     ]
    },
    {
     "name": "stderr",
     "output_type": "stream",
     "text": [
      "\u001b[32m[I 2022-04-15 10:06:34,594]\u001b[0m Trial 18 finished with value: 46.227208153020214 and parameters: {'learning_rate': 0.01024599728858059, 'reg_lambda': 5.72749406125456, 'reg_alpha': 5.1498488302733465, 'subsample': 0.42837930320069895, 'colsample_bytree': 0.44912035514482057, 'max_depth': 7}. Best is trial 11 with value: 24.83994899681458.\u001b[0m\n"
     ]
    },
    {
     "name": "stdout",
     "output_type": "stream",
     "text": [
      "[0]\tvalidation_0-rmse:45.62264\n",
      "[14]\tvalidation_0-rmse:27.12601\n"
     ]
    },
    {
     "name": "stderr",
     "output_type": "stream",
     "text": [
      "\u001b[32m[I 2022-04-15 10:06:34,775]\u001b[0m Trial 19 finished with value: 27.126013176281543 and parameters: {'learning_rate': 0.165489277684374, 'reg_lambda': 0.3793267460133491, 'reg_alpha': 0.0746896878421206, 'subsample': 0.5575264934659281, 'colsample_bytree': 0.10186466384053827, 'max_depth': 6}. Best is trial 11 with value: 24.83994899681458.\u001b[0m\n"
     ]
    },
    {
     "name": "stdout",
     "output_type": "stream",
     "text": [
      "[0]\tvalidation_0-rmse:49.86144\n",
      "[14]\tvalidation_0-rmse:34.82735\n"
     ]
    },
    {
     "name": "stderr",
     "output_type": "stream",
     "text": [
      "\u001b[32m[I 2022-04-15 10:06:35,017]\u001b[0m Trial 20 finished with value: 34.82735081418609 and parameters: {'learning_rate': 0.04022737678918441, 'reg_lambda': 0.0013377977799335374, 'reg_alpha': 0.0005677829232829327, 'subsample': 0.24428425327090045, 'colsample_bytree': 0.8704642399349019, 'max_depth': 7}. Best is trial 11 with value: 24.83994899681458.\u001b[0m\n"
     ]
    },
    {
     "name": "stdout",
     "output_type": "stream",
     "text": [
      "[0]\tvalidation_0-rmse:44.19927\n",
      "[14]\tvalidation_0-rmse:25.60611\n"
     ]
    },
    {
     "name": "stderr",
     "output_type": "stream",
     "text": [
      "\u001b[32m[I 2022-04-15 10:06:35,212]\u001b[0m Trial 21 finished with value: 25.60611424964497 and parameters: {'learning_rate': 0.19382333143280514, 'reg_lambda': 0.23166654854204669, 'reg_alpha': 5.478342655947551e-06, 'subsample': 0.4962860125517346, 'colsample_bytree': 0.9314136879616215, 'max_depth': 3}. Best is trial 11 with value: 24.83994899681458.\u001b[0m\n"
     ]
    },
    {
     "name": "stdout",
     "output_type": "stream",
     "text": [
      "[0]\tvalidation_0-rmse:48.02862\n",
      "[14]\tvalidation_0-rmse:28.51283\n"
     ]
    },
    {
     "name": "stderr",
     "output_type": "stream",
     "text": [
      "\u001b[32m[I 2022-04-15 10:06:35,390]\u001b[0m Trial 22 finished with value: 28.512835930643 and parameters: {'learning_rate': 0.09202596817562206, 'reg_lambda': 13.46081513737854, 'reg_alpha': 4.228562236242074e-05, 'subsample': 0.3897677089708429, 'colsample_bytree': 0.6738903768296997, 'max_depth': 2}. Best is trial 11 with value: 24.83994899681458.\u001b[0m\n"
     ]
    },
    {
     "name": "stdout",
     "output_type": "stream",
     "text": [
      "[0]\tvalidation_0-rmse:44.04879\n",
      "[14]\tvalidation_0-rmse:26.20172\n"
     ]
    },
    {
     "name": "stderr",
     "output_type": "stream",
     "text": [
      "\u001b[32m[I 2022-04-15 10:06:35,571]\u001b[0m Trial 23 finished with value: 26.201717760858532 and parameters: {'learning_rate': 0.20192378152646387, 'reg_lambda': 0.09743062831468911, 'reg_alpha': 1.1298366834802931e-07, 'subsample': 0.5392869617149241, 'colsample_bytree': 0.9057643138621726, 'max_depth': 2}. Best is trial 11 with value: 24.83994899681458.\u001b[0m\n"
     ]
    },
    {
     "name": "stdout",
     "output_type": "stream",
     "text": [
      "[0]\tvalidation_0-rmse:45.49353\n",
      "[14]\tvalidation_0-rmse:25.28381\n"
     ]
    },
    {
     "name": "stderr",
     "output_type": "stream",
     "text": [
      "\u001b[32m[I 2022-04-15 10:06:35,789]\u001b[0m Trial 24 finished with value: 25.283810949364455 and parameters: {'learning_rate': 0.15596493613367032, 'reg_lambda': 1.5446356319255132, 'reg_alpha': 15.114210992691682, 'subsample': 0.6637733937722716, 'colsample_bytree': 0.8060378871386485, 'max_depth': 5}. Best is trial 11 with value: 24.83994899681458.\u001b[0m\n"
     ]
    },
    {
     "name": "stdout",
     "output_type": "stream",
     "text": [
      "[0]\tvalidation_0-rmse:45.63592\n",
      "[14]\tvalidation_0-rmse:25.27426\n"
     ]
    },
    {
     "name": "stderr",
     "output_type": "stream",
     "text": [
      "\u001b[32m[I 2022-04-15 10:06:36,007]\u001b[0m Trial 25 finished with value: 25.27425963065074 and parameters: {'learning_rate': 0.15466539855962766, 'reg_lambda': 3.2708877840881976, 'reg_alpha': 16.15012835648064, 'subsample': 0.8197630716173321, 'colsample_bytree': 0.7981674778472014, 'max_depth': 5}. Best is trial 11 with value: 24.83994899681458.\u001b[0m\n"
     ]
    },
    {
     "name": "stdout",
     "output_type": "stream",
     "text": [
      "[0]\tvalidation_0-rmse:47.67317\n",
      "[14]\tvalidation_0-rmse:26.90049\n"
     ]
    },
    {
     "name": "stderr",
     "output_type": "stream",
     "text": [
      "\u001b[32m[I 2022-04-15 10:06:36,231]\u001b[0m Trial 26 finished with value: 26.90048664917267 and parameters: {'learning_rate': 0.10033869500022674, 'reg_lambda': 8.387192826971841, 'reg_alpha': 38.217231837956255, 'subsample': 0.9492993933212037, 'colsample_bytree': 0.6874434422254898, 'max_depth': 6}. Best is trial 11 with value: 24.83994899681458.\u001b[0m\n"
     ]
    },
    {
     "name": "stdout",
     "output_type": "stream",
     "text": [
      "[0]\tvalidation_0-rmse:45.30558\n",
      "[14]\tvalidation_0-rmse:25.11414\n"
     ]
    },
    {
     "name": "stderr",
     "output_type": "stream",
     "text": [
      "\u001b[32m[I 2022-04-15 10:06:36,447]\u001b[0m Trial 27 finished with value: 25.11414160976786 and parameters: {'learning_rate': 0.16952529043824338, 'reg_lambda': 0.00490702288560443, 'reg_alpha': 1.8791611682429654, 'subsample': 0.845990104129835, 'colsample_bytree': 0.47536872408570613, 'max_depth': 6}. Best is trial 11 with value: 24.83994899681458.\u001b[0m\n"
     ]
    },
    {
     "name": "stdout",
     "output_type": "stream",
     "text": [
      "[0]\tvalidation_0-rmse:48.65499\n",
      "[14]\tvalidation_0-rmse:28.77360\n"
     ]
    },
    {
     "name": "stderr",
     "output_type": "stream",
     "text": [
      "\u001b[32m[I 2022-04-15 10:06:36,672]\u001b[0m Trial 28 finished with value: 28.773595494783535 and parameters: {'learning_rate': 0.07479858665968554, 'reg_lambda': 0.004574098891343228, 'reg_alpha': 2.020224552450985, 'subsample': 0.8851412911513643, 'colsample_bytree': 0.45382962434317337, 'max_depth': 7}. Best is trial 11 with value: 24.83994899681458.\u001b[0m\n"
     ]
    },
    {
     "name": "stdout",
     "output_type": "stream",
     "text": [
      "[0]\tvalidation_0-rmse:49.86248\n",
      "[14]\tvalidation_0-rmse:34.45227\n"
     ]
    },
    {
     "name": "stderr",
     "output_type": "stream",
     "text": [
      "\u001b[32m[I 2022-04-15 10:06:36,881]\u001b[0m Trial 29 finished with value: 34.4522718352501 and parameters: {'learning_rate': 0.04324032892874098, 'reg_lambda': 1.7110564617438135e-05, 'reg_alpha': 0.07370179956499011, 'subsample': 0.266521533951152, 'colsample_bytree': 0.4907712913884986, 'max_depth': 6}. Best is trial 11 with value: 24.83994899681458.\u001b[0m\n"
     ]
    },
    {
     "name": "stdout",
     "output_type": "stream",
     "text": [
      "[0]\tvalidation_0-rmse:43.68259\n",
      "[14]\tvalidation_0-rmse:24.51307\n"
     ]
    },
    {
     "name": "stderr",
     "output_type": "stream",
     "text": [
      "\u001b[32m[I 2022-04-15 10:06:37,107]\u001b[0m Trial 30 finished with value: 24.513070956100147 and parameters: {'learning_rate': 0.2039936354326796, 'reg_lambda': 0.000460703973063578, 'reg_alpha': 0.20647109921883733, 'subsample': 0.8091045694531913, 'colsample_bytree': 0.619826824443532, 'max_depth': 6}. Best is trial 30 with value: 24.513070956100147.\u001b[0m\n"
     ]
    },
    {
     "name": "stdout",
     "output_type": "stream",
     "text": [
      "[0]\tvalidation_0-rmse:44.40926\n",
      "[14]\tvalidation_0-rmse:24.63745\n"
     ]
    },
    {
     "name": "stderr",
     "output_type": "stream",
     "text": [
      "\u001b[32m[I 2022-04-15 10:06:37,332]\u001b[0m Trial 31 finished with value: 24.637452647578616 and parameters: {'learning_rate': 0.18431560576051437, 'reg_lambda': 4.942060275023366e-06, 'reg_alpha': 0.25659098314356443, 'subsample': 0.8416576564732657, 'colsample_bytree': 0.6151184966048243, 'max_depth': 6}. Best is trial 30 with value: 24.513070956100147.\u001b[0m\n"
     ]
    },
    {
     "name": "stdout",
     "output_type": "stream",
     "text": [
      "[0]\tvalidation_0-rmse:42.76709\n",
      "[14]\tvalidation_0-rmse:24.64394\n"
     ]
    },
    {
     "name": "stderr",
     "output_type": "stream",
     "text": [
      "\u001b[32m[I 2022-04-15 10:06:37,550]\u001b[0m Trial 32 finished with value: 24.643934690894046 and parameters: {'learning_rate': 0.24490357530943407, 'reg_lambda': 1.0233658765805548e-06, 'reg_alpha': 0.01609212583036046, 'subsample': 0.8358510893917397, 'colsample_bytree': 0.5302606196315058, 'max_depth': 6}. Best is trial 30 with value: 24.513070956100147.\u001b[0m\n"
     ]
    },
    {
     "name": "stdout",
     "output_type": "stream",
     "text": [
      "[0]\tvalidation_0-rmse:42.46808\n",
      "[14]\tvalidation_0-rmse:24.55572\n"
     ]
    },
    {
     "name": "stderr",
     "output_type": "stream",
     "text": [
      "\u001b[32m[I 2022-04-15 10:06:37,776]\u001b[0m Trial 33 finished with value: 24.5557220590098 and parameters: {'learning_rate': 0.23690380380803783, 'reg_lambda': 1.880122492434302e-06, 'reg_alpha': 0.01146402513770672, 'subsample': 0.7797716125249038, 'colsample_bytree': 0.6261837429730285, 'max_depth': 6}. Best is trial 30 with value: 24.513070956100147.\u001b[0m\n"
     ]
    },
    {
     "name": "stdout",
     "output_type": "stream",
     "text": [
      "[0]\tvalidation_0-rmse:46.32505\n",
      "[14]\tvalidation_0-rmse:25.56761\n"
     ]
    },
    {
     "name": "stderr",
     "output_type": "stream",
     "text": [
      "\u001b[32m[I 2022-04-15 10:06:37,988]\u001b[0m Trial 34 finished with value: 25.56760863995896 and parameters: {'learning_rate': 0.13413566309734112, 'reg_lambda': 3.887176533095461e-06, 'reg_alpha': 0.019054247501346586, 'subsample': 0.7764649372072783, 'colsample_bytree': 0.6070942375600059, 'max_depth': 5}. Best is trial 30 with value: 24.513070956100147.\u001b[0m\n"
     ]
    },
    {
     "name": "stdout",
     "output_type": "stream",
     "text": [
      "[0]\tvalidation_0-rmse:43.56392\n",
      "[14]\tvalidation_0-rmse:24.74696\n"
     ]
    },
    {
     "name": "stderr",
     "output_type": "stream",
     "text": [
      "\u001b[32m[I 2022-04-15 10:06:38,215]\u001b[0m Trial 35 finished with value: 24.746956820449217 and parameters: {'learning_rate': 0.20763206941824125, 'reg_lambda': 1.5062601734207092e-07, 'reg_alpha': 0.004141968260188785, 'subsample': 0.9867795073619154, 'colsample_bytree': 0.6278355509627357, 'max_depth': 6}. Best is trial 30 with value: 24.513070956100147.\u001b[0m\n"
     ]
    },
    {
     "name": "stdout",
     "output_type": "stream",
     "text": [
      "[0]\tvalidation_0-rmse:46.72300\n",
      "[14]\tvalidation_0-rmse:26.00232\n"
     ]
    },
    {
     "name": "stderr",
     "output_type": "stream",
     "text": [
      "\u001b[32m[I 2022-04-15 10:06:38,423]\u001b[0m Trial 36 finished with value: 26.002328606694316 and parameters: {'learning_rate': 0.12500406947083836, 'reg_lambda': 7.97452140160056e-07, 'reg_alpha': 0.1590574553251425, 'subsample': 0.663408577780847, 'colsample_bytree': 0.5515103147757829, 'max_depth': 5}. Best is trial 30 with value: 24.513070956100147.\u001b[0m\n"
     ]
    },
    {
     "name": "stdout",
     "output_type": "stream",
     "text": [
      "[0]\tvalidation_0-rmse:42.69148\n",
      "[14]\tvalidation_0-rmse:25.24723\n"
     ]
    },
    {
     "name": "stderr",
     "output_type": "stream",
     "text": [
      "\u001b[32m[I 2022-04-15 10:06:38,620]\u001b[0m Trial 37 finished with value: 25.247233590683695 and parameters: {'learning_rate': 0.24666260624315683, 'reg_lambda': 2.139385682959691e-08, 'reg_alpha': 0.0005404193366959696, 'subsample': 0.8892594892627235, 'colsample_bytree': 0.5301904846383078, 'max_depth': 4}. Best is trial 30 with value: 24.513070956100147.\u001b[0m\n"
     ]
    },
    {
     "name": "stdout",
     "output_type": "stream",
     "text": [
      "[0]\tvalidation_0-rmse:44.22265\n",
      "[14]\tvalidation_0-rmse:25.02365\n"
     ]
    },
    {
     "name": "stderr",
     "output_type": "stream",
     "text": [
      "\u001b[32m[I 2022-04-15 10:06:38,836]\u001b[0m Trial 38 finished with value: 25.023651816029446 and parameters: {'learning_rate': 0.2022951480780208, 'reg_lambda': 1.7532925731293706e-06, 'reg_alpha': 0.009882130122931139, 'subsample': 0.7330237854468002, 'colsample_bytree': 0.41426090035184704, 'max_depth': 6}. Best is trial 30 with value: 24.513070956100147.\u001b[0m\n"
     ]
    },
    {
     "name": "stdout",
     "output_type": "stream",
     "text": [
      "[0]\tvalidation_0-rmse:46.34747\n",
      "[14]\tvalidation_0-rmse:25.54598\n"
     ]
    },
    {
     "name": "stderr",
     "output_type": "stream",
     "text": [
      "\u001b[32m[I 2022-04-15 10:06:39,044]\u001b[0m Trial 39 finished with value: 25.54597775585957 and parameters: {'learning_rate': 0.14202489952503683, 'reg_lambda': 1.8514089259490444e-07, 'reg_alpha': 0.32221085369210095, 'subsample': 0.783379755383481, 'colsample_bytree': 0.5252282389366313, 'max_depth': 5}. Best is trial 30 with value: 24.513070956100147.\u001b[0m\n"
     ]
    },
    {
     "name": "stdout",
     "output_type": "stream",
     "text": [
      "[0]\tvalidation_0-rmse:50.25921\n",
      "[14]\tvalidation_0-rmse:37.43963\n"
     ]
    },
    {
     "name": "stderr",
     "output_type": "stream",
     "text": [
      "\u001b[32m[I 2022-04-15 10:06:39,235]\u001b[0m Trial 40 finished with value: 37.43963454243531 and parameters: {'learning_rate': 0.03322810000288494, 'reg_lambda': 8.029915192616482e-06, 'reg_alpha': 0.0012094159705994605, 'subsample': 0.6185584712826537, 'colsample_bytree': 0.368756926385985, 'max_depth': 4}. Best is trial 30 with value: 24.513070956100147.\u001b[0m\n"
     ]
    },
    {
     "name": "stdout",
     "output_type": "stream",
     "text": [
      "[0]\tvalidation_0-rmse:43.80343\n",
      "[14]\tvalidation_0-rmse:24.71145\n"
     ]
    },
    {
     "name": "stderr",
     "output_type": "stream",
     "text": [
      "\u001b[32m[I 2022-04-15 10:06:39,459]\u001b[0m Trial 41 finished with value: 24.71144749317989 and parameters: {'learning_rate': 0.2011062042128092, 'reg_lambda': 1.7194615412495292e-07, 'reg_alpha': 0.003844926032405723, 'subsample': 0.9807117879710939, 'colsample_bytree': 0.6422084204460756, 'max_depth': 6}. Best is trial 30 with value: 24.513070956100147.\u001b[0m\n"
     ]
    },
    {
     "name": "stdout",
     "output_type": "stream",
     "text": [
      "[0]\tvalidation_0-rmse:44.18199\n",
      "[14]\tvalidation_0-rmse:24.68000\n"
     ]
    },
    {
     "name": "stderr",
     "output_type": "stream",
     "text": [
      "\u001b[32m[I 2022-04-15 10:06:39,685]\u001b[0m Trial 42 finished with value: 24.679997130302954 and parameters: {'learning_rate': 0.19073632770420432, 'reg_lambda': 2.2414694111064365e-07, 'reg_alpha': 0.020790417195332, 'subsample': 0.8865855721829772, 'colsample_bytree': 0.6316329767398263, 'max_depth': 6}. Best is trial 30 with value: 24.513070956100147.\u001b[0m\n"
     ]
    },
    {
     "name": "stdout",
     "output_type": "stream",
     "text": [
      "[0]\tvalidation_0-rmse:47.06606\n",
      "[14]\tvalidation_0-rmse:25.86112\n"
     ]
    },
    {
     "name": "stderr",
     "output_type": "stream",
     "text": [
      "\u001b[32m[I 2022-04-15 10:06:39,916]\u001b[0m Trial 43 finished with value: 25.861114486932546 and parameters: {'learning_rate': 0.1139398526546948, 'reg_lambda': 5.777296214855362e-07, 'reg_alpha': 0.02401080644230379, 'subsample': 0.8928605409586697, 'colsample_bytree': 0.7061059583401531, 'max_depth': 6}. Best is trial 30 with value: 24.513070956100147.\u001b[0m\n"
     ]
    },
    {
     "name": "stdout",
     "output_type": "stream",
     "text": [
      "[0]\tvalidation_0-rmse:50.67142\n",
      "[14]\tvalidation_0-rmse:41.29416\n"
     ]
    },
    {
     "name": "stderr",
     "output_type": "stream",
     "text": [
      "\u001b[32m[I 2022-04-15 10:06:40,124]\u001b[0m Trial 44 finished with value: 41.294157375690034 and parameters: {'learning_rate': 0.021235250525624635, 'reg_lambda': 0.00022167971541968366, 'reg_alpha': 0.19917375856027503, 'subsample': 0.8394889884207245, 'colsample_bytree': 0.5753713530803839, 'max_depth': 5}. Best is trial 30 with value: 24.513070956100147.\u001b[0m\n"
     ]
    },
    {
     "name": "stdout",
     "output_type": "stream",
     "text": [
      "[0]\tvalidation_0-rmse:42.93129\n",
      "[14]\tvalidation_0-rmse:24.66615\n"
     ]
    },
    {
     "name": "stderr",
     "output_type": "stream",
     "text": [
      "\u001b[32m[I 2022-04-15 10:06:40,356]\u001b[0m Trial 45 finished with value: 24.666150715074462 and parameters: {'learning_rate': 0.2246148321393335, 'reg_lambda': 1.092767685145597e-08, 'reg_alpha': 0.04574157147023252, 'subsample': 0.7871963466363897, 'colsample_bytree': 0.7199524924809623, 'max_depth': 6}. Best is trial 30 with value: 24.513070956100147.\u001b[0m\n"
     ]
    },
    {
     "name": "stdout",
     "output_type": "stream",
     "text": [
      "[0]\tvalidation_0-rmse:42.13280\n",
      "[14]\tvalidation_0-rmse:24.95724\n"
     ]
    },
    {
     "name": "stderr",
     "output_type": "stream",
     "text": [
      "\u001b[32m[I 2022-04-15 10:06:40,574]\u001b[0m Trial 46 finished with value: 24.95723377276723 and parameters: {'learning_rate': 0.24772221380337242, 'reg_lambda': 2.1529605273968424e-08, 'reg_alpha': 0.6610334105394077, 'subsample': 0.7075837167195761, 'colsample_bytree': 0.7455459184088342, 'max_depth': 5}. Best is trial 30 with value: 24.513070956100147.\u001b[0m\n"
     ]
    },
    {
     "name": "stdout",
     "output_type": "stream",
     "text": [
      "[0]\tvalidation_0-rmse:43.29570\n",
      "[14]\tvalidation_0-rmse:24.69119\n"
     ]
    },
    {
     "name": "stderr",
     "output_type": "stream",
     "text": [
      "\u001b[32m[I 2022-04-15 10:06:40,795]\u001b[0m Trial 47 finished with value: 24.691185834939308 and parameters: {'learning_rate': 0.219285438517692, 'reg_lambda': 1.054330407316783e-08, 'reg_alpha': 0.001294809937656703, 'subsample': 0.8039678713003809, 'colsample_bytree': 0.5511071982906547, 'max_depth': 6}. Best is trial 30 with value: 24.513070956100147.\u001b[0m\n"
     ]
    },
    {
     "name": "stdout",
     "output_type": "stream",
     "text": [
      "[0]\tvalidation_0-rmse:45.74896\n",
      "[14]\tvalidation_0-rmse:25.59057\n"
     ]
    },
    {
     "name": "stderr",
     "output_type": "stream",
     "text": [
      "\u001b[32m[I 2022-04-15 10:06:41,001]\u001b[0m Trial 48 finished with value: 25.59056808378045 and parameters: {'learning_rate': 0.1501274698199272, 'reg_lambda': 3.4608533322727e-05, 'reg_alpha': 0.0890777933880371, 'subsample': 0.7602780123566124, 'colsample_bytree': 0.7169050806316526, 'max_depth': 4}. Best is trial 30 with value: 24.513070956100147.\u001b[0m\n"
     ]
    },
    {
     "name": "stdout",
     "output_type": "stream",
     "text": [
      "[0]\tvalidation_0-rmse:49.23277\n",
      "[14]\tvalidation_0-rmse:31.08680\n"
     ]
    },
    {
     "name": "stderr",
     "output_type": "stream",
     "text": [
      "\u001b[32m[I 2022-04-15 10:06:41,263]\u001b[0m Trial 49 finished with value: 31.086802850914598 and parameters: {'learning_rate': 0.056959833713670686, 'reg_lambda': 3.4875189045151096e-06, 'reg_alpha': 1.3442785516539628, 'subsample': 0.6789190981863107, 'colsample_bytree': 0.6508149826750813, 'max_depth': 7}. Best is trial 30 with value: 24.513070956100147.\u001b[0m\n"
     ]
    }
   ],
   "source": [
    "study = optuna.create_study(direction=\"minimize\")\n",
    "study.optimize(run, n_trials=50)"
   ]
  },
  {
   "cell_type": "code",
   "execution_count": 23,
   "id": "ff3c1eb2",
   "metadata": {
    "execution": {
     "iopub.execute_input": "2022-04-15T10:06:41.545174Z",
     "iopub.status.busy": "2022-04-15T10:06:41.544481Z",
     "iopub.status.idle": "2022-04-15T10:06:41.547093Z",
     "shell.execute_reply": "2022-04-15T10:06:41.547575Z",
     "shell.execute_reply.started": "2022-04-15T10:03:50.257521Z"
    },
    "papermill": {
     "duration": 0.142199,
     "end_time": "2022-04-15T10:06:41.547735",
     "exception": false,
     "start_time": "2022-04-15T10:06:41.405536",
     "status": "completed"
    },
    "tags": []
   },
   "outputs": [
    {
     "data": {
      "text/plain": [
       "{'learning_rate': 0.2039936354326796,\n",
       " 'reg_lambda': 0.000460703973063578,\n",
       " 'reg_alpha': 0.20647109921883733,\n",
       " 'subsample': 0.8091045694531913,\n",
       " 'colsample_bytree': 0.619826824443532,\n",
       " 'max_depth': 6}"
      ]
     },
     "execution_count": 23,
     "metadata": {},
     "output_type": "execute_result"
    }
   ],
   "source": [
    "study.best_params"
   ]
  },
  {
   "cell_type": "code",
   "execution_count": 24,
   "id": "7686e528",
   "metadata": {
    "execution": {
     "iopub.execute_input": "2022-04-15T10:06:41.817245Z",
     "iopub.status.busy": "2022-04-15T10:06:41.816541Z",
     "iopub.status.idle": "2022-04-15T10:06:42.944614Z",
     "shell.execute_reply": "2022-04-15T10:06:42.943752Z",
     "shell.execute_reply.started": "2022-04-15T10:03:50.266979Z"
    },
    "papermill": {
     "duration": 1.263888,
     "end_time": "2022-04-15T10:06:42.944809",
     "exception": false,
     "start_time": "2022-04-15T10:06:41.680921",
     "status": "completed"
    },
    "tags": []
   },
   "outputs": [
    {
     "name": "stdout",
     "output_type": "stream",
     "text": [
      "Learning rate set to 0.16101\n",
      "0:\tlearn: 27.3919873\ttest: 27.6866797\tbest: 27.6866797 (0)\ttotal: 52ms\tremaining: 12.9s\n",
      "1:\tlearn: 27.0404370\ttest: 27.3767043\tbest: 27.3767043 (1)\ttotal: 54.3ms\tremaining: 6.73s\n",
      "2:\tlearn: 26.7292691\ttest: 27.0901269\tbest: 27.0901269 (2)\ttotal: 56.6ms\tremaining: 4.66s\n",
      "3:\tlearn: 26.3668620\ttest: 26.7784565\tbest: 26.7784565 (3)\ttotal: 58.8ms\tremaining: 3.62s\n",
      "4:\tlearn: 26.0400994\ttest: 26.5127516\tbest: 26.5127516 (4)\ttotal: 61ms\tremaining: 2.99s\n",
      "5:\tlearn: 25.8445833\ttest: 26.3903362\tbest: 26.3903362 (5)\ttotal: 63ms\tremaining: 2.56s\n",
      "6:\tlearn: 25.6832573\ttest: 26.2799262\tbest: 26.2799262 (6)\ttotal: 65.1ms\tremaining: 2.26s\n",
      "7:\tlearn: 25.5114486\ttest: 26.1748245\tbest: 26.1748245 (7)\ttotal: 67.3ms\tremaining: 2.04s\n",
      "8:\tlearn: 25.3852223\ttest: 26.0966062\tbest: 26.0966062 (8)\ttotal: 69.5ms\tremaining: 1.86s\n",
      "9:\tlearn: 25.2898321\ttest: 26.0158605\tbest: 26.0158605 (9)\ttotal: 71.7ms\tremaining: 1.72s\n",
      "10:\tlearn: 25.1344099\ttest: 25.9089772\tbest: 25.9089772 (10)\ttotal: 73.8ms\tremaining: 1.6s\n",
      "11:\tlearn: 25.0310133\ttest: 25.8352190\tbest: 25.8352190 (11)\ttotal: 75.9ms\tremaining: 1.5s\n",
      "12:\tlearn: 24.9552767\ttest: 25.7861365\tbest: 25.7861365 (12)\ttotal: 77.9ms\tremaining: 1.42s\n",
      "13:\tlearn: 24.8682358\ttest: 25.7282624\tbest: 25.7282624 (13)\ttotal: 80ms\tremaining: 1.35s\n",
      "14:\tlearn: 24.8207750\ttest: 25.7312559\tbest: 25.7282624 (13)\ttotal: 81.9ms\tremaining: 1.28s\n",
      "15:\tlearn: 24.7263934\ttest: 25.6525429\tbest: 25.6525429 (15)\ttotal: 84ms\tremaining: 1.23s\n",
      "16:\tlearn: 24.6704982\ttest: 25.6296682\tbest: 25.6296682 (16)\ttotal: 86ms\tremaining: 1.18s\n",
      "17:\tlearn: 24.5633013\ttest: 25.5540598\tbest: 25.5540598 (17)\ttotal: 88.3ms\tremaining: 1.14s\n",
      "18:\tlearn: 24.4710397\ttest: 25.4909261\tbest: 25.4909261 (18)\ttotal: 90.6ms\tremaining: 1.1s\n",
      "19:\tlearn: 24.4066517\ttest: 25.4411995\tbest: 25.4411995 (19)\ttotal: 92.8ms\tremaining: 1.07s\n",
      "20:\tlearn: 24.3718313\ttest: 25.4327461\tbest: 25.4327461 (20)\ttotal: 94.9ms\tremaining: 1.03s\n",
      "21:\tlearn: 24.3009563\ttest: 25.4085972\tbest: 25.4085972 (21)\ttotal: 97.1ms\tremaining: 1s\n",
      "22:\tlearn: 24.2755525\ttest: 25.3945634\tbest: 25.3945634 (22)\ttotal: 99.2ms\tremaining: 979ms\n",
      "23:\tlearn: 24.2245197\ttest: 25.3880498\tbest: 25.3880498 (23)\ttotal: 101ms\tremaining: 955ms\n",
      "24:\tlearn: 24.1790077\ttest: 25.3627754\tbest: 25.3627754 (24)\ttotal: 104ms\tremaining: 932ms\n",
      "25:\tlearn: 24.1157515\ttest: 25.3129863\tbest: 25.3129863 (25)\ttotal: 106ms\tremaining: 912ms\n",
      "26:\tlearn: 24.0696656\ttest: 25.2995823\tbest: 25.2995823 (26)\ttotal: 108ms\tremaining: 891ms\n",
      "27:\tlearn: 24.0292337\ttest: 25.2813407\tbest: 25.2813407 (27)\ttotal: 110ms\tremaining: 872ms\n",
      "28:\tlearn: 23.9713667\ttest: 25.2635311\tbest: 25.2635311 (28)\ttotal: 112ms\tremaining: 853ms\n",
      "29:\tlearn: 23.9376151\ttest: 25.2438687\tbest: 25.2438687 (29)\ttotal: 114ms\tremaining: 837ms\n",
      "30:\tlearn: 23.8967619\ttest: 25.2387023\tbest: 25.2387023 (30)\ttotal: 116ms\tremaining: 820ms\n",
      "31:\tlearn: 23.8525466\ttest: 25.2376506\tbest: 25.2376506 (31)\ttotal: 118ms\tremaining: 805ms\n",
      "32:\tlearn: 23.7983417\ttest: 25.2220863\tbest: 25.2220863 (32)\ttotal: 120ms\tremaining: 791ms\n",
      "33:\tlearn: 23.7747944\ttest: 25.2222779\tbest: 25.2220863 (32)\ttotal: 122ms\tremaining: 777ms\n",
      "34:\tlearn: 23.7318980\ttest: 25.2002351\tbest: 25.2002351 (34)\ttotal: 124ms\tremaining: 764ms\n",
      "35:\tlearn: 23.7107982\ttest: 25.1902523\tbest: 25.1902523 (35)\ttotal: 126ms\tremaining: 752ms\n",
      "36:\tlearn: 23.6503581\ttest: 25.1617954\tbest: 25.1617954 (36)\ttotal: 128ms\tremaining: 739ms\n",
      "37:\tlearn: 23.6333810\ttest: 25.1572412\tbest: 25.1572412 (37)\ttotal: 131ms\tremaining: 728ms\n",
      "38:\tlearn: 23.5990387\ttest: 25.1541981\tbest: 25.1541981 (38)\ttotal: 133ms\tremaining: 718ms\n",
      "39:\tlearn: 23.5721861\ttest: 25.1524078\tbest: 25.1524078 (39)\ttotal: 135ms\tremaining: 709ms\n",
      "40:\tlearn: 23.5455785\ttest: 25.1421123\tbest: 25.1421123 (40)\ttotal: 137ms\tremaining: 699ms\n",
      "41:\tlearn: 23.5034370\ttest: 25.1169288\tbest: 25.1169288 (41)\ttotal: 139ms\tremaining: 690ms\n",
      "42:\tlearn: 23.4640650\ttest: 25.0948108\tbest: 25.0948108 (42)\ttotal: 142ms\tremaining: 681ms\n",
      "43:\tlearn: 23.4295769\ttest: 25.0905038\tbest: 25.0905038 (43)\ttotal: 143ms\tremaining: 672ms\n",
      "44:\tlearn: 23.3905420\ttest: 25.0741589\tbest: 25.0741589 (44)\ttotal: 146ms\tremaining: 663ms\n",
      "45:\tlearn: 23.3750916\ttest: 25.0758405\tbest: 25.0741589 (44)\ttotal: 148ms\tremaining: 655ms\n",
      "46:\tlearn: 23.3271893\ttest: 25.0565014\tbest: 25.0565014 (46)\ttotal: 150ms\tremaining: 646ms\n",
      "47:\tlearn: 23.3050407\ttest: 25.0403813\tbest: 25.0403813 (47)\ttotal: 152ms\tremaining: 639ms\n",
      "48:\tlearn: 23.2734839\ttest: 25.0431271\tbest: 25.0403813 (47)\ttotal: 154ms\tremaining: 631ms\n",
      "49:\tlearn: 23.2451389\ttest: 25.0123737\tbest: 25.0123737 (49)\ttotal: 156ms\tremaining: 624ms\n",
      "50:\tlearn: 23.2153236\ttest: 24.9966853\tbest: 24.9966853 (50)\ttotal: 158ms\tremaining: 616ms\n",
      "51:\tlearn: 23.1691483\ttest: 24.9814034\tbest: 24.9814034 (51)\ttotal: 160ms\tremaining: 609ms\n",
      "52:\tlearn: 23.1555690\ttest: 24.9732823\tbest: 24.9732823 (52)\ttotal: 162ms\tremaining: 602ms\n",
      "53:\tlearn: 23.1302637\ttest: 24.9673626\tbest: 24.9673626 (53)\ttotal: 164ms\tremaining: 595ms\n",
      "54:\tlearn: 23.0894515\ttest: 24.9488942\tbest: 24.9488942 (54)\ttotal: 166ms\tremaining: 589ms\n",
      "55:\tlearn: 23.0613968\ttest: 24.9321430\tbest: 24.9321430 (55)\ttotal: 168ms\tremaining: 582ms\n",
      "56:\tlearn: 23.0218296\ttest: 24.9171891\tbest: 24.9171891 (56)\ttotal: 170ms\tremaining: 576ms\n",
      "57:\tlearn: 22.9677171\ttest: 24.8853110\tbest: 24.8853110 (57)\ttotal: 172ms\tremaining: 570ms\n",
      "58:\tlearn: 22.9290359\ttest: 24.8641084\tbest: 24.8641084 (58)\ttotal: 174ms\tremaining: 564ms\n",
      "59:\tlearn: 22.9027454\ttest: 24.8516840\tbest: 24.8516840 (59)\ttotal: 176ms\tremaining: 558ms\n",
      "60:\tlearn: 22.8731183\ttest: 24.8474261\tbest: 24.8474261 (60)\ttotal: 178ms\tremaining: 552ms\n",
      "61:\tlearn: 22.8466026\ttest: 24.8270061\tbest: 24.8270061 (61)\ttotal: 180ms\tremaining: 547ms\n",
      "62:\tlearn: 22.7959450\ttest: 24.8035269\tbest: 24.8035269 (62)\ttotal: 182ms\tremaining: 542ms\n",
      "63:\tlearn: 22.7757966\ttest: 24.8048484\tbest: 24.8035269 (62)\ttotal: 184ms\tremaining: 536ms\n",
      "64:\tlearn: 22.7480825\ttest: 24.8004279\tbest: 24.8004279 (64)\ttotal: 187ms\tremaining: 531ms\n",
      "65:\tlearn: 22.7222496\ttest: 24.7855439\tbest: 24.7855439 (65)\ttotal: 189ms\tremaining: 527ms\n",
      "66:\tlearn: 22.6972204\ttest: 24.7722511\tbest: 24.7722511 (66)\ttotal: 191ms\tremaining: 523ms\n",
      "67:\tlearn: 22.6572491\ttest: 24.7650257\tbest: 24.7650257 (67)\ttotal: 194ms\tremaining: 520ms\n",
      "68:\tlearn: 22.6244635\ttest: 24.7568063\tbest: 24.7568063 (68)\ttotal: 197ms\tremaining: 516ms\n",
      "69:\tlearn: 22.5791819\ttest: 24.7299254\tbest: 24.7299254 (69)\ttotal: 199ms\tremaining: 511ms\n",
      "70:\tlearn: 22.5535408\ttest: 24.7377322\tbest: 24.7299254 (69)\ttotal: 201ms\tremaining: 507ms\n",
      "71:\tlearn: 22.5338049\ttest: 24.7362149\tbest: 24.7299254 (69)\ttotal: 204ms\tremaining: 503ms\n",
      "72:\tlearn: 22.4972530\ttest: 24.7025357\tbest: 24.7025357 (72)\ttotal: 207ms\tremaining: 501ms\n",
      "73:\tlearn: 22.4470276\ttest: 24.6918580\tbest: 24.6918580 (73)\ttotal: 210ms\tremaining: 499ms\n",
      "74:\tlearn: 22.4243769\ttest: 24.6710501\tbest: 24.6710501 (74)\ttotal: 213ms\tremaining: 496ms\n",
      "75:\tlearn: 22.3985422\ttest: 24.6514625\tbest: 24.6514625 (75)\ttotal: 215ms\tremaining: 493ms\n",
      "76:\tlearn: 22.3753910\ttest: 24.6514862\tbest: 24.6514625 (75)\ttotal: 218ms\tremaining: 490ms\n",
      "77:\tlearn: 22.3584210\ttest: 24.6540253\tbest: 24.6514625 (75)\ttotal: 221ms\tremaining: 487ms\n",
      "78:\tlearn: 22.3211696\ttest: 24.6490284\tbest: 24.6490284 (78)\ttotal: 224ms\tremaining: 484ms\n",
      "79:\tlearn: 22.2873523\ttest: 24.6476097\tbest: 24.6476097 (79)\ttotal: 227ms\tremaining: 481ms\n",
      "80:\tlearn: 22.2646688\ttest: 24.6417589\tbest: 24.6417589 (80)\ttotal: 229ms\tremaining: 478ms\n",
      "81:\tlearn: 22.2380949\ttest: 24.6393891\tbest: 24.6393891 (81)\ttotal: 231ms\tremaining: 474ms\n",
      "82:\tlearn: 22.2174926\ttest: 24.6392300\tbest: 24.6392300 (82)\ttotal: 233ms\tremaining: 469ms\n",
      "83:\tlearn: 22.1995445\ttest: 24.6477465\tbest: 24.6392300 (82)\ttotal: 237ms\tremaining: 467ms\n",
      "84:\tlearn: 22.1738746\ttest: 24.6456882\tbest: 24.6392300 (82)\ttotal: 239ms\tremaining: 464ms\n",
      "85:\tlearn: 22.1560238\ttest: 24.6444317\tbest: 24.6392300 (82)\ttotal: 243ms\tremaining: 463ms\n",
      "86:\tlearn: 22.1323709\ttest: 24.6494864\tbest: 24.6392300 (82)\ttotal: 247ms\tremaining: 463ms\n",
      "87:\tlearn: 22.1133216\ttest: 24.6519548\tbest: 24.6392300 (82)\ttotal: 250ms\tremaining: 461ms\n",
      "88:\tlearn: 22.0849116\ttest: 24.6417831\tbest: 24.6392300 (82)\ttotal: 253ms\tremaining: 458ms\n",
      "89:\tlearn: 22.0452372\ttest: 24.6168758\tbest: 24.6168758 (89)\ttotal: 256ms\tremaining: 455ms\n",
      "90:\tlearn: 22.0263081\ttest: 24.6133027\tbest: 24.6133027 (90)\ttotal: 259ms\tremaining: 453ms\n",
      "91:\tlearn: 21.9755172\ttest: 24.5766807\tbest: 24.5766807 (91)\ttotal: 262ms\tremaining: 449ms\n",
      "92:\tlearn: 21.9398318\ttest: 24.5741484\tbest: 24.5741484 (92)\ttotal: 265ms\tremaining: 447ms\n",
      "93:\tlearn: 21.9135084\ttest: 24.5557048\tbest: 24.5557048 (93)\ttotal: 267ms\tremaining: 443ms\n",
      "94:\tlearn: 21.8723529\ttest: 24.5308714\tbest: 24.5308714 (94)\ttotal: 270ms\tremaining: 440ms\n",
      "95:\tlearn: 21.8530448\ttest: 24.5324774\tbest: 24.5308714 (94)\ttotal: 272ms\tremaining: 436ms\n",
      "96:\tlearn: 21.8285054\ttest: 24.5316111\tbest: 24.5308714 (94)\ttotal: 280ms\tremaining: 441ms\n",
      "97:\tlearn: 21.7890567\ttest: 24.5420123\tbest: 24.5308714 (94)\ttotal: 289ms\tremaining: 448ms\n",
      "98:\tlearn: 21.7579444\ttest: 24.5222773\tbest: 24.5222773 (98)\ttotal: 292ms\tremaining: 445ms\n",
      "99:\tlearn: 21.7323515\ttest: 24.5081705\tbest: 24.5081705 (99)\ttotal: 294ms\tremaining: 442ms\n",
      "100:\tlearn: 21.7095263\ttest: 24.5079152\tbest: 24.5079152 (100)\ttotal: 297ms\tremaining: 438ms\n",
      "101:\tlearn: 21.6703755\ttest: 24.4785127\tbest: 24.4785127 (101)\ttotal: 299ms\tremaining: 434ms\n",
      "102:\tlearn: 21.6507179\ttest: 24.4739612\tbest: 24.4739612 (102)\ttotal: 302ms\tremaining: 431ms\n",
      "103:\tlearn: 21.6218879\ttest: 24.4611765\tbest: 24.4611765 (103)\ttotal: 305ms\tremaining: 428ms\n",
      "104:\tlearn: 21.5989098\ttest: 24.4689101\tbest: 24.4611765 (103)\ttotal: 307ms\tremaining: 424ms\n",
      "105:\tlearn: 21.5827142\ttest: 24.4652964\tbest: 24.4611765 (103)\ttotal: 310ms\tremaining: 421ms\n",
      "106:\tlearn: 21.5469961\ttest: 24.4504848\tbest: 24.4504848 (106)\ttotal: 313ms\tremaining: 418ms\n",
      "107:\tlearn: 21.5248034\ttest: 24.4487962\tbest: 24.4487962 (107)\ttotal: 315ms\tremaining: 414ms\n",
      "108:\tlearn: 21.4861205\ttest: 24.4252377\tbest: 24.4252377 (108)\ttotal: 318ms\tremaining: 412ms\n",
      "109:\tlearn: 21.4505255\ttest: 24.4180364\tbest: 24.4180364 (109)\ttotal: 321ms\tremaining: 408ms\n",
      "110:\tlearn: 21.4261225\ttest: 24.4125223\tbest: 24.4125223 (110)\ttotal: 324ms\tremaining: 405ms\n",
      "111:\tlearn: 21.4054349\ttest: 24.4202877\tbest: 24.4125223 (110)\ttotal: 326ms\tremaining: 402ms\n",
      "112:\tlearn: 21.3847828\ttest: 24.4186016\tbest: 24.4125223 (110)\ttotal: 329ms\tremaining: 399ms\n",
      "113:\tlearn: 21.3419722\ttest: 24.3811392\tbest: 24.3811392 (113)\ttotal: 331ms\tremaining: 395ms\n",
      "114:\tlearn: 21.3200482\ttest: 24.3701937\tbest: 24.3701937 (114)\ttotal: 334ms\tremaining: 392ms\n",
      "115:\tlearn: 21.2875277\ttest: 24.3572544\tbest: 24.3572544 (115)\ttotal: 337ms\tremaining: 389ms\n",
      "116:\tlearn: 21.2720777\ttest: 24.3434211\tbest: 24.3434211 (116)\ttotal: 339ms\tremaining: 385ms\n",
      "117:\tlearn: 21.2582937\ttest: 24.3412929\tbest: 24.3412929 (117)\ttotal: 342ms\tremaining: 382ms\n",
      "118:\tlearn: 21.2266686\ttest: 24.3101714\tbest: 24.3101714 (118)\ttotal: 344ms\tremaining: 379ms\n",
      "119:\tlearn: 21.2023169\ttest: 24.3087907\tbest: 24.3087907 (119)\ttotal: 347ms\tremaining: 376ms\n",
      "120:\tlearn: 21.1898924\ttest: 24.3061077\tbest: 24.3061077 (120)\ttotal: 350ms\tremaining: 373ms\n",
      "121:\tlearn: 21.1730247\ttest: 24.3058828\tbest: 24.3058828 (121)\ttotal: 352ms\tremaining: 370ms\n",
      "122:\tlearn: 21.1450362\ttest: 24.3086677\tbest: 24.3058828 (121)\ttotal: 355ms\tremaining: 367ms\n",
      "123:\tlearn: 21.1287580\ttest: 24.3015296\tbest: 24.3015296 (123)\ttotal: 358ms\tremaining: 363ms\n",
      "124:\tlearn: 21.1146161\ttest: 24.3019735\tbest: 24.3015296 (123)\ttotal: 360ms\tremaining: 360ms\n",
      "125:\tlearn: 21.0965361\ttest: 24.3032435\tbest: 24.3015296 (123)\ttotal: 363ms\tremaining: 357ms\n",
      "126:\tlearn: 21.0628520\ttest: 24.2850171\tbest: 24.2850171 (126)\ttotal: 365ms\tremaining: 354ms\n",
      "127:\tlearn: 21.0352597\ttest: 24.2779961\tbest: 24.2779961 (127)\ttotal: 368ms\tremaining: 350ms\n",
      "128:\tlearn: 20.9915636\ttest: 24.2780154\tbest: 24.2779961 (127)\ttotal: 370ms\tremaining: 347ms\n",
      "129:\tlearn: 20.9679313\ttest: 24.2772585\tbest: 24.2772585 (129)\ttotal: 373ms\tremaining: 344ms\n",
      "130:\tlearn: 20.9512997\ttest: 24.2764776\tbest: 24.2764776 (130)\ttotal: 377ms\tremaining: 342ms\n",
      "131:\tlearn: 20.9338054\ttest: 24.2687844\tbest: 24.2687844 (131)\ttotal: 380ms\tremaining: 340ms\n",
      "132:\tlearn: 20.9135268\ttest: 24.2675156\tbest: 24.2675156 (132)\ttotal: 383ms\tremaining: 337ms\n",
      "133:\tlearn: 20.8803647\ttest: 24.2393459\tbest: 24.2393459 (133)\ttotal: 385ms\tremaining: 334ms\n",
      "134:\tlearn: 20.8568343\ttest: 24.2359199\tbest: 24.2359199 (134)\ttotal: 388ms\tremaining: 331ms\n",
      "135:\tlearn: 20.8477351\ttest: 24.2342488\tbest: 24.2342488 (135)\ttotal: 391ms\tremaining: 327ms\n",
      "136:\tlearn: 20.8205674\ttest: 24.2280123\tbest: 24.2280123 (136)\ttotal: 394ms\tremaining: 325ms\n",
      "137:\tlearn: 20.8036771\ttest: 24.2266268\tbest: 24.2266268 (137)\ttotal: 396ms\tremaining: 321ms\n",
      "138:\tlearn: 20.7808352\ttest: 24.2205179\tbest: 24.2205179 (138)\ttotal: 398ms\tremaining: 318ms\n",
      "139:\tlearn: 20.7636526\ttest: 24.2270011\tbest: 24.2205179 (138)\ttotal: 401ms\tremaining: 315ms\n",
      "140:\tlearn: 20.7367610\ttest: 24.2274861\tbest: 24.2205179 (138)\ttotal: 403ms\tremaining: 312ms\n",
      "141:\tlearn: 20.7300144\ttest: 24.2275677\tbest: 24.2205179 (138)\ttotal: 407ms\tremaining: 309ms\n",
      "142:\tlearn: 20.7054613\ttest: 24.2077214\tbest: 24.2077214 (142)\ttotal: 413ms\tremaining: 309ms\n",
      "143:\tlearn: 20.6768020\ttest: 24.2080368\tbest: 24.2077214 (142)\ttotal: 422ms\tremaining: 310ms\n",
      "144:\tlearn: 20.6657807\ttest: 24.2053111\tbest: 24.2053111 (144)\ttotal: 427ms\tremaining: 309ms\n",
      "145:\tlearn: 20.6533308\ttest: 24.2039351\tbest: 24.2039351 (145)\ttotal: 431ms\tremaining: 307ms\n",
      "146:\tlearn: 20.6254121\ttest: 24.2060557\tbest: 24.2039351 (145)\ttotal: 435ms\tremaining: 304ms\n",
      "147:\tlearn: 20.5929691\ttest: 24.1722617\tbest: 24.1722617 (147)\ttotal: 437ms\tremaining: 301ms\n",
      "148:\tlearn: 20.5699729\ttest: 24.1745935\tbest: 24.1722617 (147)\ttotal: 440ms\tremaining: 298ms\n",
      "149:\tlearn: 20.5357146\ttest: 24.1538628\tbest: 24.1538628 (149)\ttotal: 443ms\tremaining: 295ms\n",
      "150:\tlearn: 20.5073094\ttest: 24.1403440\tbest: 24.1403440 (150)\ttotal: 446ms\tremaining: 292ms\n",
      "151:\tlearn: 20.4891493\ttest: 24.1471398\tbest: 24.1403440 (150)\ttotal: 448ms\tremaining: 289ms\n",
      "152:\tlearn: 20.4643332\ttest: 24.1374913\tbest: 24.1374913 (152)\ttotal: 451ms\tremaining: 286ms\n",
      "153:\tlearn: 20.4532914\ttest: 24.1455193\tbest: 24.1374913 (152)\ttotal: 453ms\tremaining: 283ms\n",
      "154:\tlearn: 20.4350715\ttest: 24.1385634\tbest: 24.1374913 (152)\ttotal: 456ms\tremaining: 279ms\n",
      "155:\tlearn: 20.4112228\ttest: 24.1454181\tbest: 24.1374913 (152)\ttotal: 459ms\tremaining: 276ms\n",
      "156:\tlearn: 20.3947626\ttest: 24.1402890\tbest: 24.1374913 (152)\ttotal: 461ms\tremaining: 273ms\n",
      "157:\tlearn: 20.3495720\ttest: 24.1237297\tbest: 24.1237297 (157)\ttotal: 464ms\tremaining: 270ms\n",
      "158:\tlearn: 20.3418774\ttest: 24.1236381\tbest: 24.1236381 (158)\ttotal: 466ms\tremaining: 267ms\n",
      "159:\tlearn: 20.3262372\ttest: 24.1000422\tbest: 24.1000422 (159)\ttotal: 469ms\tremaining: 264ms\n",
      "160:\tlearn: 20.3076120\ttest: 24.1114690\tbest: 24.1000422 (159)\ttotal: 471ms\tremaining: 260ms\n",
      "161:\tlearn: 20.2746512\ttest: 24.0964448\tbest: 24.0964448 (161)\ttotal: 474ms\tremaining: 257ms\n",
      "162:\tlearn: 20.2473696\ttest: 24.0943260\tbest: 24.0943260 (162)\ttotal: 477ms\tremaining: 254ms\n",
      "163:\tlearn: 20.2335858\ttest: 24.0927802\tbest: 24.0927802 (163)\ttotal: 479ms\tremaining: 251ms\n",
      "164:\tlearn: 20.2124404\ttest: 24.0876382\tbest: 24.0876382 (164)\ttotal: 482ms\tremaining: 248ms\n",
      "165:\tlearn: 20.1884206\ttest: 24.0785152\tbest: 24.0785152 (165)\ttotal: 485ms\tremaining: 245ms\n",
      "166:\tlearn: 20.1739401\ttest: 24.0806209\tbest: 24.0785152 (165)\ttotal: 487ms\tremaining: 242ms\n",
      "167:\tlearn: 20.1421495\ttest: 24.0726860\tbest: 24.0726860 (167)\ttotal: 490ms\tremaining: 239ms\n",
      "168:\tlearn: 20.1295162\ttest: 24.0648547\tbest: 24.0648547 (168)\ttotal: 493ms\tremaining: 236ms\n",
      "169:\tlearn: 20.1101436\ttest: 24.0606221\tbest: 24.0606221 (169)\ttotal: 496ms\tremaining: 233ms\n",
      "170:\tlearn: 20.0850421\ttest: 24.0672463\tbest: 24.0606221 (169)\ttotal: 498ms\tremaining: 230ms\n",
      "171:\tlearn: 20.0725943\ttest: 24.0614680\tbest: 24.0606221 (169)\ttotal: 501ms\tremaining: 227ms\n",
      "172:\tlearn: 20.0493536\ttest: 24.0725303\tbest: 24.0606221 (169)\ttotal: 503ms\tremaining: 224ms\n",
      "173:\tlearn: 20.0215023\ttest: 24.0673562\tbest: 24.0606221 (169)\ttotal: 506ms\tremaining: 221ms\n",
      "174:\tlearn: 20.0066675\ttest: 24.0665986\tbest: 24.0606221 (169)\ttotal: 509ms\tremaining: 218ms\n",
      "175:\tlearn: 19.9851913\ttest: 24.0692293\tbest: 24.0606221 (169)\ttotal: 511ms\tremaining: 215ms\n",
      "176:\tlearn: 19.9590738\ttest: 24.0759039\tbest: 24.0606221 (169)\ttotal: 514ms\tremaining: 212ms\n",
      "177:\tlearn: 19.9405610\ttest: 24.0653640\tbest: 24.0606221 (169)\ttotal: 516ms\tremaining: 209ms\n",
      "178:\tlearn: 19.9304397\ttest: 24.0626999\tbest: 24.0606221 (169)\ttotal: 519ms\tremaining: 206ms\n",
      "179:\tlearn: 19.9243800\ttest: 24.0672681\tbest: 24.0606221 (169)\ttotal: 521ms\tremaining: 203ms\n",
      "180:\tlearn: 19.9059489\ttest: 24.0644941\tbest: 24.0606221 (169)\ttotal: 524ms\tremaining: 200ms\n",
      "181:\tlearn: 19.8877222\ttest: 24.0668207\tbest: 24.0606221 (169)\ttotal: 526ms\tremaining: 197ms\n",
      "182:\tlearn: 19.8613361\ttest: 24.0789701\tbest: 24.0606221 (169)\ttotal: 529ms\tremaining: 194ms\n",
      "183:\tlearn: 19.8439546\ttest: 24.0788653\tbest: 24.0606221 (169)\ttotal: 532ms\tremaining: 191ms\n",
      "184:\tlearn: 19.8192572\ttest: 24.0762196\tbest: 24.0606221 (169)\ttotal: 534ms\tremaining: 188ms\n",
      "185:\tlearn: 19.7978209\ttest: 24.0805139\tbest: 24.0606221 (169)\ttotal: 537ms\tremaining: 185ms\n",
      "186:\tlearn: 19.7767981\ttest: 24.0755316\tbest: 24.0606221 (169)\ttotal: 539ms\tremaining: 182ms\n",
      "187:\tlearn: 19.7560261\ttest: 24.0762315\tbest: 24.0606221 (169)\ttotal: 542ms\tremaining: 179ms\n",
      "188:\tlearn: 19.7332483\ttest: 24.0732387\tbest: 24.0606221 (169)\ttotal: 545ms\tremaining: 176ms\n",
      "189:\tlearn: 19.7109756\ttest: 24.0784196\tbest: 24.0606221 (169)\ttotal: 548ms\tremaining: 173ms\n",
      "190:\tlearn: 19.7033117\ttest: 24.0799986\tbest: 24.0606221 (169)\ttotal: 550ms\tremaining: 170ms\n",
      "191:\tlearn: 19.6864668\ttest: 24.0828750\tbest: 24.0606221 (169)\ttotal: 553ms\tremaining: 167ms\n",
      "192:\tlearn: 19.6661812\ttest: 24.0725613\tbest: 24.0606221 (169)\ttotal: 555ms\tremaining: 164ms\n",
      "193:\tlearn: 19.6553662\ttest: 24.0747765\tbest: 24.0606221 (169)\ttotal: 557ms\tremaining: 161ms\n",
      "194:\tlearn: 19.6338293\ttest: 24.0919101\tbest: 24.0606221 (169)\ttotal: 560ms\tremaining: 158ms\n",
      "195:\tlearn: 19.6252892\ttest: 24.0866669\tbest: 24.0606221 (169)\ttotal: 562ms\tremaining: 155ms\n",
      "196:\tlearn: 19.6095081\ttest: 24.0915369\tbest: 24.0606221 (169)\ttotal: 565ms\tremaining: 152ms\n",
      "197:\tlearn: 19.5871361\ttest: 24.0977427\tbest: 24.0606221 (169)\ttotal: 568ms\tremaining: 149ms\n",
      "198:\tlearn: 19.5796074\ttest: 24.0938928\tbest: 24.0606221 (169)\ttotal: 571ms\tremaining: 146ms\n",
      "199:\tlearn: 19.5591864\ttest: 24.0898177\tbest: 24.0606221 (169)\ttotal: 573ms\tremaining: 143ms\n",
      "200:\tlearn: 19.5403886\ttest: 24.0817860\tbest: 24.0606221 (169)\ttotal: 575ms\tremaining: 140ms\n",
      "201:\tlearn: 19.5207751\ttest: 24.0920616\tbest: 24.0606221 (169)\ttotal: 578ms\tremaining: 137ms\n",
      "202:\tlearn: 19.5014427\ttest: 24.0766915\tbest: 24.0606221 (169)\ttotal: 580ms\tremaining: 134ms\n",
      "203:\tlearn: 19.4882351\ttest: 24.0803764\tbest: 24.0606221 (169)\ttotal: 593ms\tremaining: 134ms\n",
      "204:\tlearn: 19.4738447\ttest: 24.0669076\tbest: 24.0606221 (169)\ttotal: 595ms\tremaining: 131ms\n",
      "205:\tlearn: 19.4488374\ttest: 24.0552734\tbest: 24.0552734 (205)\ttotal: 598ms\tremaining: 128ms\n",
      "206:\tlearn: 19.4191874\ttest: 24.0376187\tbest: 24.0376187 (206)\ttotal: 600ms\tremaining: 125ms\n",
      "207:\tlearn: 19.4113868\ttest: 24.0393595\tbest: 24.0376187 (206)\ttotal: 602ms\tremaining: 122ms\n",
      "208:\tlearn: 19.3826978\ttest: 24.0200661\tbest: 24.0200661 (208)\ttotal: 605ms\tremaining: 119ms\n",
      "209:\tlearn: 19.3681816\ttest: 24.0278782\tbest: 24.0200661 (208)\ttotal: 607ms\tremaining: 116ms\n",
      "210:\tlearn: 19.3447240\ttest: 24.0310087\tbest: 24.0200661 (208)\ttotal: 610ms\tremaining: 113ms\n",
      "211:\tlearn: 19.3278213\ttest: 24.0349188\tbest: 24.0200661 (208)\ttotal: 613ms\tremaining: 110ms\n",
      "212:\tlearn: 19.3080353\ttest: 24.0358504\tbest: 24.0200661 (208)\ttotal: 615ms\tremaining: 107ms\n",
      "213:\tlearn: 19.2881337\ttest: 24.0429897\tbest: 24.0200661 (208)\ttotal: 618ms\tremaining: 104ms\n",
      "214:\tlearn: 19.2651225\ttest: 24.0390224\tbest: 24.0200661 (208)\ttotal: 621ms\tremaining: 101ms\n",
      "215:\tlearn: 19.2449554\ttest: 24.0428399\tbest: 24.0200661 (208)\ttotal: 624ms\tremaining: 98.3ms\n",
      "216:\tlearn: 19.2201278\ttest: 24.0420868\tbest: 24.0200661 (208)\ttotal: 627ms\tremaining: 95.3ms\n",
      "217:\tlearn: 19.1974933\ttest: 24.0246459\tbest: 24.0200661 (208)\ttotal: 630ms\tremaining: 92.4ms\n",
      "218:\tlearn: 19.1759747\ttest: 24.0223090\tbest: 24.0200661 (208)\ttotal: 633ms\tremaining: 89.7ms\n",
      "219:\tlearn: 19.1616110\ttest: 24.0269423\tbest: 24.0200661 (208)\ttotal: 637ms\tremaining: 86.8ms\n",
      "220:\tlearn: 19.1454966\ttest: 24.0344522\tbest: 24.0200661 (208)\ttotal: 639ms\tremaining: 83.9ms\n",
      "221:\tlearn: 19.1273642\ttest: 24.0282360\tbest: 24.0200661 (208)\ttotal: 643ms\tremaining: 81.1ms\n",
      "222:\tlearn: 19.1071510\ttest: 24.0234558\tbest: 24.0200661 (208)\ttotal: 649ms\tremaining: 78.6ms\n",
      "223:\tlearn: 19.0846239\ttest: 24.0221401\tbest: 24.0200661 (208)\ttotal: 653ms\tremaining: 75.8ms\n",
      "224:\tlearn: 19.0724892\ttest: 24.0266301\tbest: 24.0200661 (208)\ttotal: 656ms\tremaining: 72.9ms\n",
      "225:\tlearn: 19.0583769\ttest: 24.0227088\tbest: 24.0200661 (208)\ttotal: 659ms\tremaining: 70ms\n",
      "226:\tlearn: 19.0315021\ttest: 24.0144379\tbest: 24.0144379 (226)\ttotal: 662ms\tremaining: 67.1ms\n",
      "227:\tlearn: 19.0118978\ttest: 24.0130494\tbest: 24.0130494 (227)\ttotal: 665ms\tremaining: 64.2ms\n",
      "228:\tlearn: 18.9984530\ttest: 24.0107344\tbest: 24.0107344 (228)\ttotal: 669ms\tremaining: 61.4ms\n",
      "229:\tlearn: 18.9804116\ttest: 24.0114604\tbest: 24.0107344 (228)\ttotal: 672ms\tremaining: 58.4ms\n",
      "230:\tlearn: 18.9625031\ttest: 24.0005888\tbest: 24.0005888 (230)\ttotal: 676ms\tremaining: 55.6ms\n",
      "231:\tlearn: 18.9441376\ttest: 24.0055143\tbest: 24.0005888 (230)\ttotal: 679ms\tremaining: 52.7ms\n",
      "232:\tlearn: 18.9223287\ttest: 24.0051665\tbest: 24.0005888 (230)\ttotal: 682ms\tremaining: 49.7ms\n",
      "233:\tlearn: 18.9047346\ttest: 23.9985568\tbest: 23.9985568 (233)\ttotal: 685ms\tremaining: 46.8ms\n",
      "234:\tlearn: 18.8829063\ttest: 23.9850344\tbest: 23.9850344 (234)\ttotal: 688ms\tremaining: 43.9ms\n",
      "235:\tlearn: 18.8685670\ttest: 23.9938477\tbest: 23.9850344 (234)\ttotal: 691ms\tremaining: 41ms\n",
      "236:\tlearn: 18.8540932\ttest: 23.9859575\tbest: 23.9850344 (234)\ttotal: 693ms\tremaining: 38ms\n",
      "237:\tlearn: 18.8438642\ttest: 23.9873257\tbest: 23.9850344 (234)\ttotal: 696ms\tremaining: 35.1ms\n",
      "238:\tlearn: 18.8329586\ttest: 23.9907947\tbest: 23.9850344 (234)\ttotal: 698ms\tremaining: 32.1ms\n",
      "239:\tlearn: 18.8139120\ttest: 23.9994334\tbest: 23.9850344 (234)\ttotal: 701ms\tremaining: 29.2ms\n",
      "240:\tlearn: 18.7988530\ttest: 24.0017914\tbest: 23.9850344 (234)\ttotal: 703ms\tremaining: 26.3ms\n",
      "241:\tlearn: 18.7826381\ttest: 24.0017033\tbest: 23.9850344 (234)\ttotal: 706ms\tremaining: 23.3ms\n",
      "242:\tlearn: 18.7620371\ttest: 24.0083761\tbest: 23.9850344 (234)\ttotal: 709ms\tremaining: 20.4ms\n",
      "243:\tlearn: 18.7433824\ttest: 24.0053954\tbest: 23.9850344 (234)\ttotal: 711ms\tremaining: 17.5ms\n",
      "244:\tlearn: 18.7278202\ttest: 24.0068366\tbest: 23.9850344 (234)\ttotal: 714ms\tremaining: 14.6ms\n",
      "245:\tlearn: 18.7076218\ttest: 24.0061696\tbest: 23.9850344 (234)\ttotal: 717ms\tremaining: 11.7ms\n",
      "246:\tlearn: 18.6957555\ttest: 24.0030686\tbest: 23.9850344 (234)\ttotal: 719ms\tremaining: 8.73ms\n",
      "247:\tlearn: 18.6826063\ttest: 23.9997046\tbest: 23.9850344 (234)\ttotal: 722ms\tremaining: 5.82ms\n",
      "248:\tlearn: 18.6705444\ttest: 24.0005632\tbest: 23.9850344 (234)\ttotal: 724ms\tremaining: 2.91ms\n",
      "249:\tlearn: 18.6523603\ttest: 23.9967850\tbest: 23.9850344 (234)\ttotal: 727ms\tremaining: 0us\n",
      "\n",
      "bestTest = 23.98503437\n",
      "bestIteration = 234\n",
      "\n",
      "Shrink model to first 235 iterations.\n",
      "23.985034367865104\n"
     ]
    }
   ],
   "source": [
    "from catboost import CatBoostRegressor\n",
    "\n",
    "cbr = CatBoostRegressor(n_estimators=250, eval_metric='RMSE')\n",
    "\n",
    "cbr.fit(x_train,y_train,eval_set=(x_test,y_test))\n",
    "\n",
    "y_test_preds_cbc = cbr.predict(x_test)\n",
    "    \n",
    "print(np.sqrt(mean_squared_error(y_test, y_test_preds_cbc)))"
   ]
  },
  {
   "cell_type": "code",
   "execution_count": 25,
   "id": "4a046a37",
   "metadata": {
    "execution": {
     "iopub.execute_input": "2022-04-15T10:06:43.237562Z",
     "iopub.status.busy": "2022-04-15T10:06:43.236839Z",
     "iopub.status.idle": "2022-04-15T10:06:44.356331Z",
     "shell.execute_reply": "2022-04-15T10:06:44.357121Z",
     "shell.execute_reply.started": "2022-04-15T10:03:51.288712Z"
    },
    "papermill": {
     "duration": 1.259777,
     "end_time": "2022-04-15T10:06:44.357374",
     "exception": false,
     "start_time": "2022-04-15T10:06:43.097597",
     "status": "completed"
    },
    "tags": []
   },
   "outputs": [
    {
     "data": {
      "text/html": [
       "<style type='text/css'>\n",
       ".datatable table.frame { margin-bottom: 0; }\n",
       ".datatable table.frame thead { border-bottom: none; }\n",
       ".datatable table.frame tr.coltypes td {  color: #FFFFFF;  line-height: 6px;  padding: 0 0.5em;}\n",
       ".datatable .bool    { background: #DDDD99; }\n",
       ".datatable .object  { background: #565656; }\n",
       ".datatable .int     { background: #5D9E5D; }\n",
       ".datatable .float   { background: #4040CC; }\n",
       ".datatable .str     { background: #CC4040; }\n",
       ".datatable .time    { background: #40CC40; }\n",
       ".datatable .row_index {  background: var(--jp-border-color3);  border-right: 1px solid var(--jp-border-color0);  color: var(--jp-ui-font-color3);  font-size: 9px;}\n",
       ".datatable .frame tbody td { text-align: left; }\n",
       ".datatable .frame tr.coltypes .row_index {  background: var(--jp-border-color0);}\n",
       ".datatable th:nth-child(2) { padding-left: 12px; }\n",
       ".datatable .hellipsis {  color: var(--jp-cell-editor-border-color);}\n",
       ".datatable .vellipsis {  background: var(--jp-layout-color0);  color: var(--jp-cell-editor-border-color);}\n",
       ".datatable .na {  color: var(--jp-cell-editor-border-color);  font-size: 80%;}\n",
       ".datatable .sp {  opacity: 0.25;}\n",
       ".datatable .footer { font-size: 9px; }\n",
       ".datatable .frame_dimensions {  background: var(--jp-border-color3);  border-top: 1px solid var(--jp-border-color0);  color: var(--jp-ui-font-color3);  display: inline-block;  opacity: 0.6;  padding: 1px 10px 1px 5px;}\n",
       "</style>\n"
      ],
      "text/plain": [
       "<IPython.core.display.HTML object>"
      ]
     },
     "metadata": {},
     "output_type": "display_data"
    },
    {
     "name": "stdout",
     "output_type": "stream",
     "text": [
      "[1]\ttraining's l2: 751.438\tvalid_1's l2: 770.057\n",
      "[2]\ttraining's l2: 720.637\tvalid_1's l2: 742.282\n",
      "[3]\ttraining's l2: 695.135\tvalid_1's l2: 720.015\n",
      "[4]\ttraining's l2: 673.955\tvalid_1's l2: 701.467\n",
      "[5]\ttraining's l2: 656.294\tvalid_1's l2: 686.845\n",
      "[6]\ttraining's l2: 640.424\tvalid_1's l2: 672.918\n",
      "[7]\ttraining's l2: 627.434\tvalid_1's l2: 662.666\n",
      "[8]\ttraining's l2: 615.073\tvalid_1's l2: 653.954\n",
      "[9]\ttraining's l2: 603.523\tvalid_1's l2: 644.841\n",
      "[10]\ttraining's l2: 595.242\tvalid_1's l2: 639.312\n",
      "[11]\ttraining's l2: 587.483\tvalid_1's l2: 633.472\n",
      "[12]\ttraining's l2: 580.244\tvalid_1's l2: 630.138\n",
      "[13]\ttraining's l2: 573.679\tvalid_1's l2: 625.267\n",
      "[14]\ttraining's l2: 567.566\tvalid_1's l2: 621.134\n",
      "[15]\ttraining's l2: 560.326\tvalid_1's l2: 616.585\n",
      "[16]\ttraining's l2: 554.297\tvalid_1's l2: 614.289\n",
      "[17]\ttraining's l2: 549.147\tvalid_1's l2: 612.266\n",
      "[18]\ttraining's l2: 544.029\tvalid_1's l2: 611.018\n",
      "[19]\ttraining's l2: 538.415\tvalid_1's l2: 606.994\n",
      "[20]\ttraining's l2: 534.293\tvalid_1's l2: 604.753\n",
      "[21]\ttraining's l2: 529.771\tvalid_1's l2: 602.92\n",
      "[22]\ttraining's l2: 525.903\tvalid_1's l2: 600.873\n",
      "[23]\ttraining's l2: 521.772\tvalid_1's l2: 598.967\n",
      "[24]\ttraining's l2: 518.466\tvalid_1's l2: 597.84\n",
      "[25]\ttraining's l2: 514.763\tvalid_1's l2: 596.973\n",
      "[26]\ttraining's l2: 511.328\tvalid_1's l2: 596.485\n",
      "[27]\ttraining's l2: 508.427\tvalid_1's l2: 596.208\n",
      "[28]\ttraining's l2: 505.343\tvalid_1's l2: 596.38\n",
      "[29]\ttraining's l2: 502.58\tvalid_1's l2: 595.632\n",
      "[30]\ttraining's l2: 499.23\tvalid_1's l2: 595.254\n",
      "[31]\ttraining's l2: 496.124\tvalid_1's l2: 594.302\n",
      "[32]\ttraining's l2: 493.014\tvalid_1's l2: 594.136\n",
      "[33]\ttraining's l2: 490.644\tvalid_1's l2: 593.185\n",
      "[34]\ttraining's l2: 487.989\tvalid_1's l2: 593.083\n",
      "[35]\ttraining's l2: 485.134\tvalid_1's l2: 592.603\n",
      "[36]\ttraining's l2: 482.071\tvalid_1's l2: 590.792\n",
      "[37]\ttraining's l2: 479.324\tvalid_1's l2: 589.887\n",
      "[38]\ttraining's l2: 476.304\tvalid_1's l2: 589.607\n",
      "[39]\ttraining's l2: 474.295\tvalid_1's l2: 589.238\n",
      "[40]\ttraining's l2: 471.898\tvalid_1's l2: 588.769\n",
      "[41]\ttraining's l2: 469.318\tvalid_1's l2: 588.711\n",
      "[42]\ttraining's l2: 467.003\tvalid_1's l2: 587.879\n",
      "[43]\ttraining's l2: 464.922\tvalid_1's l2: 587.028\n",
      "[44]\ttraining's l2: 462.725\tvalid_1's l2: 586.371\n",
      "[45]\ttraining's l2: 460.804\tvalid_1's l2: 586.135\n",
      "[46]\ttraining's l2: 458.776\tvalid_1's l2: 586.31\n",
      "[47]\ttraining's l2: 456.723\tvalid_1's l2: 586.44\n",
      "[48]\ttraining's l2: 454.86\tvalid_1's l2: 586.134\n",
      "[49]\ttraining's l2: 453.024\tvalid_1's l2: 585.568\n",
      "[50]\ttraining's l2: 451.244\tvalid_1's l2: 584.58\n",
      "[51]\ttraining's l2: 449.343\tvalid_1's l2: 583.495\n",
      "[52]\ttraining's l2: 447.488\tvalid_1's l2: 582.708\n",
      "[53]\ttraining's l2: 445.388\tvalid_1's l2: 583.192\n",
      "[54]\ttraining's l2: 443.781\tvalid_1's l2: 583.073\n",
      "[55]\ttraining's l2: 442.178\tvalid_1's l2: 583.323\n",
      "[56]\ttraining's l2: 440.309\tvalid_1's l2: 583.02\n",
      "[57]\ttraining's l2: 438.146\tvalid_1's l2: 581.884\n",
      "[58]\ttraining's l2: 436.382\tvalid_1's l2: 581.732\n",
      "[59]\ttraining's l2: 434.068\tvalid_1's l2: 581.81\n",
      "[60]\ttraining's l2: 431.072\tvalid_1's l2: 580.256\n",
      "[61]\ttraining's l2: 429.388\tvalid_1's l2: 580.456\n",
      "[62]\ttraining's l2: 427.632\tvalid_1's l2: 579.67\n",
      "[63]\ttraining's l2: 425.982\tvalid_1's l2: 579.407\n",
      "[64]\ttraining's l2: 424.146\tvalid_1's l2: 579.222\n",
      "[65]\ttraining's l2: 422.673\tvalid_1's l2: 578.754\n",
      "[66]\ttraining's l2: 420.654\tvalid_1's l2: 578.702\n",
      "[67]\ttraining's l2: 419.549\tvalid_1's l2: 578.41\n",
      "[68]\ttraining's l2: 418.028\tvalid_1's l2: 578.838\n",
      "[69]\ttraining's l2: 415.971\tvalid_1's l2: 578.267\n",
      "[70]\ttraining's l2: 413.737\tvalid_1's l2: 576.807\n",
      "[71]\ttraining's l2: 412.087\tvalid_1's l2: 577.169\n",
      "[72]\ttraining's l2: 410.471\tvalid_1's l2: 576.907\n",
      "[73]\ttraining's l2: 408.754\tvalid_1's l2: 577.073\n",
      "[74]\ttraining's l2: 407.659\tvalid_1's l2: 577.052\n",
      "[75]\ttraining's l2: 406.32\tvalid_1's l2: 576.624\n",
      "[76]\ttraining's l2: 404.094\tvalid_1's l2: 576.341\n",
      "[77]\ttraining's l2: 402.558\tvalid_1's l2: 576.359\n",
      "[78]\ttraining's l2: 401.221\tvalid_1's l2: 576.162\n",
      "[79]\ttraining's l2: 400.068\tvalid_1's l2: 576.193\n",
      "[80]\ttraining's l2: 397.996\tvalid_1's l2: 575.541\n",
      "[81]\ttraining's l2: 396.788\tvalid_1's l2: 575.257\n",
      "[82]\ttraining's l2: 395.72\tvalid_1's l2: 575.082\n",
      "[83]\ttraining's l2: 393.71\tvalid_1's l2: 573.998\n",
      "[84]\ttraining's l2: 392.002\tvalid_1's l2: 573.84\n",
      "[85]\ttraining's l2: 390.448\tvalid_1's l2: 574.237\n",
      "[86]\ttraining's l2: 388.959\tvalid_1's l2: 573.588\n",
      "[87]\ttraining's l2: 387.69\tvalid_1's l2: 572.799\n",
      "[88]\ttraining's l2: 386.203\tvalid_1's l2: 572.694\n",
      "[89]\ttraining's l2: 385.037\tvalid_1's l2: 572.37\n",
      "[90]\ttraining's l2: 383.415\tvalid_1's l2: 571.491\n",
      "[91]\ttraining's l2: 381.592\tvalid_1's l2: 571.604\n",
      "[92]\ttraining's l2: 380.483\tvalid_1's l2: 571.689\n",
      "[93]\ttraining's l2: 378.609\tvalid_1's l2: 570.749\n",
      "[94]\ttraining's l2: 377.079\tvalid_1's l2: 570.355\n",
      "[95]\ttraining's l2: 375.467\tvalid_1's l2: 571.152\n",
      "[96]\ttraining's l2: 374.221\tvalid_1's l2: 571.221\n",
      "[97]\ttraining's l2: 372.599\tvalid_1's l2: 570.963\n",
      "[98]\ttraining's l2: 371.579\tvalid_1's l2: 570.637\n",
      "[99]\ttraining's l2: 370.072\tvalid_1's l2: 570.803\n",
      "[100]\ttraining's l2: 369.255\tvalid_1's l2: 571.034\n",
      "23.896316945770238\n"
     ]
    }
   ],
   "source": [
    "import lightgbm as lgb\n",
    "lgr = lgb.LGBMRegressor()\n",
    "\n",
    "lgr.fit(x_train,y_train,eval_set=[[x_train,y_train],[x_test,y_test]])\n",
    "\n",
    "y_test_preds_lgr = lgr.predict(x_test)\n",
    "\n",
    "print(np.sqrt(mean_squared_error(y_test, y_test_preds_lgr)))"
   ]
  },
  {
   "cell_type": "code",
   "execution_count": 26,
   "id": "5eb27b99",
   "metadata": {
    "execution": {
     "iopub.execute_input": "2022-04-15T10:06:44.642415Z",
     "iopub.status.busy": "2022-04-15T10:06:44.641381Z",
     "iopub.status.idle": "2022-04-15T10:06:48.963505Z",
     "shell.execute_reply": "2022-04-15T10:06:48.962971Z",
     "shell.execute_reply.started": "2022-04-15T10:03:52.445827Z"
    },
    "papermill": {
     "duration": 4.465728,
     "end_time": "2022-04-15T10:06:48.963649",
     "exception": false,
     "start_time": "2022-04-15T10:06:44.497921",
     "status": "completed"
    },
    "tags": []
   },
   "outputs": [
    {
     "name": "stdout",
     "output_type": "stream",
     "text": [
      "23.40474642600591\n"
     ]
    }
   ],
   "source": [
    "from sklearn.ensemble import RandomForestRegressor\n",
    "rfr = RandomForestRegressor()\n",
    "rfr.fit(x_train,y_train)\n",
    "\n",
    "y_test_preds_rfr = rfr.predict(x_test)\n",
    "\n",
    "print(np.sqrt(mean_squared_error(y_test, y_test_preds_rfr)))"
   ]
  },
  {
   "cell_type": "code",
   "execution_count": 27,
   "id": "e899b0cf",
   "metadata": {
    "execution": {
     "iopub.execute_input": "2022-04-15T10:06:49.247159Z",
     "iopub.status.busy": "2022-04-15T10:06:49.246476Z",
     "iopub.status.idle": "2022-04-15T10:06:49.247902Z",
     "shell.execute_reply": "2022-04-15T10:06:49.248513Z",
     "shell.execute_reply.started": "2022-04-15T10:03:56.768315Z"
    },
    "papermill": {
     "duration": 0.146698,
     "end_time": "2022-04-15T10:06:49.248675",
     "exception": false,
     "start_time": "2022-04-15T10:06:49.101977",
     "status": "completed"
    },
    "tags": []
   },
   "outputs": [],
   "source": [
    "import optuna\n",
    "def run(trial):\n",
    "#     fold = 0\n",
    "    n_estimators = trial.suggest_int('n_estimators', 2, 200)\n",
    "    max_depth = int(trial.suggest_loguniform('max_depth', 1, 32))\n",
    "   \n",
    "    \n",
    "    \n",
    "    model = RandomForestRegressor(\n",
    "        random_state=42,\n",
    "        n_estimators=15,\n",
    "        max_depth=max_depth,\n",
    "    )\n",
    "    model.fit(x_train, y_train)\n",
    "    preds_valid = model.predict(x_test)\n",
    "    check_arr =[]\n",
    "    for i in range(len(preds_valid)):\n",
    "        check_arr.append(preds_valid[i])\n",
    "    score = np.sqrt(mean_squared_error(y_test, check_arr))\n",
    "    return score"
   ]
  },
  {
   "cell_type": "code",
   "execution_count": 28,
   "id": "0602d12a",
   "metadata": {
    "execution": {
     "iopub.execute_input": "2022-04-15T10:06:49.524819Z",
     "iopub.status.busy": "2022-04-15T10:06:49.524076Z",
     "iopub.status.idle": "2022-04-15T10:07:12.776621Z",
     "shell.execute_reply": "2022-04-15T10:07:12.777130Z",
     "shell.execute_reply.started": "2022-04-15T10:03:56.779002Z"
    },
    "papermill": {
     "duration": 23.39393,
     "end_time": "2022-04-15T10:07:12.777306",
     "exception": false,
     "start_time": "2022-04-15T10:06:49.383376",
     "status": "completed"
    },
    "tags": []
   },
   "outputs": [
    {
     "name": "stderr",
     "output_type": "stream",
     "text": [
      "\u001b[32m[I 2022-04-15 10:06:49,522]\u001b[0m A new study created in memory with name: no-name-6a8c5aef-a154-4296-bec4-d9bbb8e63b80\u001b[0m\n",
      "\u001b[32m[I 2022-04-15 10:06:49,693]\u001b[0m Trial 0 finished with value: 25.687715582124248 and parameters: {'n_estimators': 156, 'max_depth': 4.295436278473413}. Best is trial 0 with value: 25.687715582124248.\u001b[0m\n",
      "\u001b[32m[I 2022-04-15 10:06:49,760]\u001b[0m Trial 1 finished with value: 27.321823166928127 and parameters: {'n_estimators': 27, 'max_depth': 1.2187934431381895}. Best is trial 0 with value: 25.687715582124248.\u001b[0m\n",
      "\u001b[32m[I 2022-04-15 10:06:49,828]\u001b[0m Trial 2 finished with value: 27.321823166928127 and parameters: {'n_estimators': 133, 'max_depth': 1.6675479748870883}. Best is trial 0 with value: 25.687715582124248.\u001b[0m\n",
      "\u001b[32m[I 2022-04-15 10:06:50,343]\u001b[0m Trial 3 finished with value: 24.03772679632908 and parameters: {'n_estimators': 177, 'max_depth': 15.657274420205145}. Best is trial 3 with value: 24.03772679632908.\u001b[0m\n",
      "\u001b[32m[I 2022-04-15 10:06:50,514]\u001b[0m Trial 4 finished with value: 25.687715582124248 and parameters: {'n_estimators': 172, 'max_depth': 4.76701639567209}. Best is trial 3 with value: 24.03772679632908.\u001b[0m\n",
      "\u001b[32m[I 2022-04-15 10:06:51,165]\u001b[0m Trial 5 finished with value: 24.02333217265856 and parameters: {'n_estimators': 180, 'max_depth': 30.90937882261617}. Best is trial 5 with value: 24.02333217265856.\u001b[0m\n",
      "\u001b[32m[I 2022-04-15 10:06:51,532]\u001b[0m Trial 6 finished with value: 24.403227058734846 and parameters: {'n_estimators': 141, 'max_depth': 10.55838804010657}. Best is trial 5 with value: 24.02333217265856.\u001b[0m\n",
      "\u001b[32m[I 2022-04-15 10:06:51,705]\u001b[0m Trial 7 finished with value: 25.687715582124248 and parameters: {'n_estimators': 24, 'max_depth': 4.203578959709787}. Best is trial 5 with value: 24.02333217265856.\u001b[0m\n",
      "\u001b[32m[I 2022-04-15 10:06:51,776]\u001b[0m Trial 8 finished with value: 27.321823166928127 and parameters: {'n_estimators': 82, 'max_depth': 1.2315423450940657}. Best is trial 5 with value: 24.02333217265856.\u001b[0m\n",
      "\u001b[32m[I 2022-04-15 10:06:52,407]\u001b[0m Trial 9 finished with value: 24.12048640990654 and parameters: {'n_estimators': 118, 'max_depth': 23.402055292090015}. Best is trial 5 with value: 24.02333217265856.\u001b[0m\n",
      "\u001b[32m[I 2022-04-15 10:06:53,065]\u001b[0m Trial 10 finished with value: 24.015565228641805 and parameters: {'n_estimators': 199, 'max_depth': 31.342450697395957}. Best is trial 10 with value: 24.015565228641805.\u001b[0m\n",
      "\u001b[32m[I 2022-04-15 10:06:53,718]\u001b[0m Trial 11 finished with value: 24.015565228641805 and parameters: {'n_estimators': 198, 'max_depth': 31.440311975711417}. Best is trial 10 with value: 24.015565228641805.\u001b[0m\n",
      "\u001b[32m[I 2022-04-15 10:06:54,097]\u001b[0m Trial 12 finished with value: 24.403227058734846 and parameters: {'n_estimators': 84, 'max_depth': 10.203848917615568}. Best is trial 10 with value: 24.015565228641805.\u001b[0m\n",
      "\u001b[32m[I 2022-04-15 10:06:54,677]\u001b[0m Trial 13 finished with value: 23.981385379698864 and parameters: {'n_estimators': 191, 'max_depth': 18.038681344664486}. Best is trial 13 with value: 23.981385379698864.\u001b[0m\n",
      "\u001b[32m[I 2022-04-15 10:06:55,195]\u001b[0m Trial 14 finished with value: 24.03772679632908 and parameters: {'n_estimators': 198, 'max_depth': 15.622280815964258}. Best is trial 13 with value: 23.981385379698864.\u001b[0m\n",
      "\u001b[32m[I 2022-04-15 10:06:55,505]\u001b[0m Trial 15 finished with value: 24.674564314952132 and parameters: {'n_estimators': 96, 'max_depth': 8.141039868645828}. Best is trial 13 with value: 23.981385379698864.\u001b[0m\n",
      "\u001b[32m[I 2022-04-15 10:06:56,047]\u001b[0m Trial 16 finished with value: 24.03386791462987 and parameters: {'n_estimators': 61, 'max_depth': 16.898348456834018}. Best is trial 13 with value: 23.981385379698864.\u001b[0m\n",
      "\u001b[32m[I 2022-04-15 10:06:56,165]\u001b[0m Trial 17 finished with value: 26.979740026603707 and parameters: {'n_estimators': 146, 'max_depth': 2.521344166634665}. Best is trial 13 with value: 23.981385379698864.\u001b[0m\n",
      "\u001b[32m[I 2022-04-15 10:06:56,804]\u001b[0m Trial 18 finished with value: 24.0288186818091 and parameters: {'n_estimators': 168, 'max_depth': 22.020917162145235}. Best is trial 13 with value: 23.981385379698864.\u001b[0m\n",
      "\u001b[32m[I 2022-04-15 10:06:57,083]\u001b[0m Trial 19 finished with value: 24.862527136623477 and parameters: {'n_estimators': 114, 'max_depth': 7.137087412396426}. Best is trial 13 with value: 23.981385379698864.\u001b[0m\n",
      "\u001b[32m[I 2022-04-15 10:06:57,521]\u001b[0m Trial 20 finished with value: 24.309650976800555 and parameters: {'n_estimators': 198, 'max_depth': 12.66302728394248}. Best is trial 13 with value: 23.981385379698864.\u001b[0m\n",
      "\u001b[32m[I 2022-04-15 10:06:58,175]\u001b[0m Trial 21 finished with value: 24.02333217265856 and parameters: {'n_estimators': 199, 'max_depth': 30.274270405979202}. Best is trial 13 with value: 23.981385379698864.\u001b[0m\n",
      "\u001b[32m[I 2022-04-15 10:06:58,799]\u001b[0m Trial 22 finished with value: 24.034728511366247 and parameters: {'n_estimators': 185, 'max_depth': 21.581625967922655}. Best is trial 13 with value: 23.981385379698864.\u001b[0m\n",
      "\u001b[32m[I 2022-04-15 10:06:59,452]\u001b[0m Trial 23 finished with value: 24.02333217265856 and parameters: {'n_estimators': 160, 'max_depth': 30.85486459193658}. Best is trial 13 with value: 23.981385379698864.\u001b[0m\n",
      "\u001b[32m[I 2022-04-15 10:07:00,062]\u001b[0m Trial 24 finished with value: 23.908547665616425 and parameters: {'n_estimators': 187, 'max_depth': 20.697564088125738}. Best is trial 24 with value: 23.908547665616425.\u001b[0m\n",
      "\u001b[32m[I 2022-04-15 10:07:00,655]\u001b[0m Trial 25 finished with value: 24.025823167793877 and parameters: {'n_estimators': 155, 'max_depth': 19.031141683860927}. Best is trial 24 with value: 23.908547665616425.\u001b[0m\n",
      "\u001b[32m[I 2022-04-15 10:07:01,091]\u001b[0m Trial 26 finished with value: 24.309650976800555 and parameters: {'n_estimators': 182, 'max_depth': 12.708762047964486}. Best is trial 24 with value: 23.908547665616425.\u001b[0m\n",
      "\u001b[32m[I 2022-04-15 10:07:01,724]\u001b[0m Trial 27 finished with value: 24.12048640990654 and parameters: {'n_estimators': 129, 'max_depth': 23.080884301319607}. Best is trial 24 with value: 23.908547665616425.\u001b[0m\n",
      "\u001b[32m[I 2022-04-15 10:07:01,969]\u001b[0m Trial 28 finished with value: 25.11433259151257 and parameters: {'n_estimators': 165, 'max_depth': 6.571089365864295}. Best is trial 24 with value: 23.908547665616425.\u001b[0m\n",
      "\u001b[32m[I 2022-04-15 10:07:02,436]\u001b[0m Trial 29 finished with value: 24.203885767997907 and parameters: {'n_estimators': 7, 'max_depth': 13.12043275868883}. Best is trial 24 with value: 23.908547665616425.\u001b[0m\n",
      "\u001b[32m[I 2022-04-15 10:07:02,580]\u001b[0m Trial 30 finished with value: 26.373244182016666 and parameters: {'n_estimators': 152, 'max_depth': 3.1009426540207103}. Best is trial 24 with value: 23.908547665616425.\u001b[0m\n",
      "\u001b[32m[I 2022-04-15 10:07:03,258]\u001b[0m Trial 31 finished with value: 23.94439003739088 and parameters: {'n_estimators': 188, 'max_depth': 25.684131896277574}. Best is trial 24 with value: 23.908547665616425.\u001b[0m\n",
      "\u001b[32m[I 2022-04-15 10:07:03,842]\u001b[0m Trial 32 finished with value: 23.981385379698864 and parameters: {'n_estimators': 187, 'max_depth': 18.97308092532126}. Best is trial 24 with value: 23.908547665616425.\u001b[0m\n",
      "\u001b[32m[I 2022-04-15 10:07:04,183]\u001b[0m Trial 33 finished with value: 24.572927159969446 and parameters: {'n_estimators': 186, 'max_depth': 9.274056916356916}. Best is trial 24 with value: 23.908547665616425.\u001b[0m\n",
      "\u001b[32m[I 2022-04-15 10:07:04,762]\u001b[0m Trial 34 finished with value: 23.981385379698864 and parameters: {'n_estimators': 186, 'max_depth': 18.165205506302144}. Best is trial 24 with value: 23.908547665616425.\u001b[0m\n",
      "\u001b[32m[I 2022-04-15 10:07:05,405]\u001b[0m Trial 35 finished with value: 23.94439003739088 and parameters: {'n_estimators': 170, 'max_depth': 25.61908892721804}. Best is trial 24 with value: 23.908547665616425.\u001b[0m\n",
      "\u001b[32m[I 2022-04-15 10:07:06,054]\u001b[0m Trial 36 finished with value: 23.97728410460772 and parameters: {'n_estimators': 171, 'max_depth': 26.739357340728176}. Best is trial 24 with value: 23.908547665616425.\u001b[0m\n",
      "\u001b[32m[I 2022-04-15 10:07:06,696]\u001b[0m Trial 37 finished with value: 23.94439003739088 and parameters: {'n_estimators': 136, 'max_depth': 25.143772101120117}. Best is trial 24 with value: 23.908547665616425.\u001b[0m\n",
      "\u001b[32m[I 2022-04-15 10:07:07,355]\u001b[0m Trial 38 finished with value: 23.97728410460772 and parameters: {'n_estimators': 134, 'max_depth': 26.09924590628469}. Best is trial 24 with value: 23.908547665616425.\u001b[0m\n",
      "\u001b[32m[I 2022-04-15 10:07:07,843]\u001b[0m Trial 39 finished with value: 24.113496089537904 and parameters: {'n_estimators': 143, 'max_depth': 14.557255750180206}. Best is trial 24 with value: 23.908547665616425.\u001b[0m\n",
      "\u001b[32m[I 2022-04-15 10:07:08,486]\u001b[0m Trial 40 finished with value: 23.898358990400677 and parameters: {'n_estimators': 172, 'max_depth': 24.49082832047445}. Best is trial 40 with value: 23.898358990400677.\u001b[0m\n",
      "\u001b[32m[I 2022-04-15 10:07:09,129]\u001b[0m Trial 41 finished with value: 23.94439003739088 and parameters: {'n_estimators': 174, 'max_depth': 25.300437891026956}. Best is trial 40 with value: 23.898358990400677.\u001b[0m\n",
      "\u001b[32m[I 2022-04-15 10:07:09,743]\u001b[0m Trial 42 finished with value: 24.034728511366247 and parameters: {'n_estimators': 158, 'max_depth': 21.694891846037542}. Best is trial 40 with value: 23.898358990400677.\u001b[0m\n",
      "\u001b[32m[I 2022-04-15 10:07:10,383]\u001b[0m Trial 43 finished with value: 23.94439003739088 and parameters: {'n_estimators': 177, 'max_depth': 25.431913396895066}. Best is trial 40 with value: 23.898358990400677.\u001b[0m\n",
      "\u001b[32m[I 2022-04-15 10:07:10,976]\u001b[0m Trial 44 finished with value: 24.025823167793877 and parameters: {'n_estimators': 176, 'max_depth': 19.67101146510796}. Best is trial 40 with value: 23.898358990400677.\u001b[0m\n",
      "\u001b[32m[I 2022-04-15 10:07:11,468]\u001b[0m Trial 45 finished with value: 24.113496089537904 and parameters: {'n_estimators': 127, 'max_depth': 14.935167469310642}. Best is trial 40 with value: 23.898358990400677.\u001b[0m\n",
      "\u001b[32m[I 2022-04-15 10:07:12,113]\u001b[0m Trial 46 finished with value: 23.97728410460772 and parameters: {'n_estimators': 164, 'max_depth': 26.69133283033382}. Best is trial 40 with value: 23.898358990400677.\u001b[0m\n",
      "\u001b[32m[I 2022-04-15 10:07:12,519]\u001b[0m Trial 47 finished with value: 24.35189208659456 and parameters: {'n_estimators': 116, 'max_depth': 11.101478913752684}. Best is trial 40 with value: 23.898358990400677.\u001b[0m\n",
      "\u001b[32m[I 2022-04-15 10:07:12,595]\u001b[0m Trial 48 finished with value: 27.321823166928127 and parameters: {'n_estimators': 175, 'max_depth': 1.5489516839182997}. Best is trial 40 with value: 23.898358990400677.\u001b[0m\n",
      "\u001b[32m[I 2022-04-15 10:07:12,770]\u001b[0m Trial 49 finished with value: 25.687715582124248 and parameters: {'n_estimators': 153, 'max_depth': 4.8174499681821406}. Best is trial 40 with value: 23.898358990400677.\u001b[0m\n"
     ]
    }
   ],
   "source": [
    "study = optuna.create_study(direction=\"minimize\")\n",
    "study.optimize(run, n_trials=50)"
   ]
  },
  {
   "cell_type": "code",
   "execution_count": 29,
   "id": "ba464837",
   "metadata": {
    "execution": {
     "iopub.execute_input": "2022-04-15T10:07:13.094489Z",
     "iopub.status.busy": "2022-04-15T10:07:13.091993Z",
     "iopub.status.idle": "2022-04-15T10:07:13.097287Z",
     "shell.execute_reply": "2022-04-15T10:07:13.097773Z",
     "shell.execute_reply.started": "2022-04-15T10:04:20.862747Z"
    },
    "papermill": {
     "duration": 0.164243,
     "end_time": "2022-04-15T10:07:13.097931",
     "exception": false,
     "start_time": "2022-04-15T10:07:12.933688",
     "status": "completed"
    },
    "tags": []
   },
   "outputs": [
    {
     "data": {
      "text/plain": [
       "{'n_estimators': 172, 'max_depth': 24.49082832047445}"
      ]
     },
     "execution_count": 29,
     "metadata": {},
     "output_type": "execute_result"
    }
   ],
   "source": [
    "study.best_params"
   ]
  },
  {
   "cell_type": "code",
   "execution_count": 30,
   "id": "f340650b",
   "metadata": {
    "execution": {
     "iopub.execute_input": "2022-04-15T10:07:13.411333Z",
     "iopub.status.busy": "2022-04-15T10:07:13.410320Z",
     "iopub.status.idle": "2022-04-15T10:07:17.423493Z",
     "shell.execute_reply": "2022-04-15T10:07:17.424047Z",
     "shell.execute_reply.started": "2022-04-15T10:04:20.872155Z"
    },
    "papermill": {
     "duration": 4.171574,
     "end_time": "2022-04-15T10:07:17.424234",
     "exception": false,
     "start_time": "2022-04-15T10:07:13.252660",
     "status": "completed"
    },
    "tags": []
   },
   "outputs": [
    {
     "name": "stdout",
     "output_type": "stream",
     "text": [
      "23.39166572560096\n"
     ]
    }
   ],
   "source": [
    "from sklearn.ensemble import RandomForestRegressor\n",
    "rfr = RandomForestRegressor(n_estimators = 95, max_depth = 24.811419031265416)\n",
    "rfr.fit(x_train,y_train)\n",
    "\n",
    "y_test_preds_rfr = rfr.predict(x_test)\n",
    "\n",
    "print(np.sqrt(mean_squared_error(y_test, y_test_preds_rfr)))"
   ]
  },
  {
   "cell_type": "code",
   "execution_count": 31,
   "id": "e5f1d3fa",
   "metadata": {
    "execution": {
     "iopub.execute_input": "2022-04-15T10:07:17.741524Z",
     "iopub.status.busy": "2022-04-15T10:07:17.740791Z",
     "iopub.status.idle": "2022-04-15T10:07:18.453854Z",
     "shell.execute_reply": "2022-04-15T10:07:18.453298Z",
     "shell.execute_reply.started": "2022-04-15T10:04:24.900540Z"
    },
    "papermill": {
     "duration": 0.876098,
     "end_time": "2022-04-15T10:07:18.453986",
     "exception": false,
     "start_time": "2022-04-15T10:07:17.577888",
     "status": "completed"
    },
    "tags": []
   },
   "outputs": [
    {
     "name": "stderr",
     "output_type": "stream",
     "text": [
      "/opt/conda/lib/python3.7/site-packages/ipykernel_launcher.py:7: TqdmDeprecationWarning: This function will be removed in tqdm==5.0.0\n",
      "Please use `tqdm.notebook.tqdm` instead of `tqdm.tqdm_notebook`\n",
      "  import sys\n"
     ]
    },
    {
     "data": {
      "application/vnd.jupyter.widget-view+json": {
       "model_id": "0eb1e5f1fd6641e6bb6c440414ac5e45",
       "version_major": 2,
       "version_minor": 0
      },
      "text/plain": [
       "  0%|          | 0/21 [00:00<?, ?it/s]"
      ]
     },
     "metadata": {},
     "output_type": "display_data"
    },
    {
     "data": {
      "text/html": [
       "<div>\n",
       "<style scoped>\n",
       "    .dataframe tbody tr th:only-of-type {\n",
       "        vertical-align: middle;\n",
       "    }\n",
       "\n",
       "    .dataframe tbody tr th {\n",
       "        vertical-align: top;\n",
       "    }\n",
       "\n",
       "    .dataframe thead th {\n",
       "        text-align: right;\n",
       "    }\n",
       "</style>\n",
       "<table border=\"1\" class=\"dataframe\">\n",
       "  <thead>\n",
       "    <tr style=\"text-align: right;\">\n",
       "      <th></th>\n",
       "      <th>frac_lgc</th>\n",
       "      <th>frac_xgbc</th>\n",
       "      <th>frac_cbc</th>\n",
       "      <th>frac_rfr</th>\n",
       "      <th>blend_score</th>\n",
       "    </tr>\n",
       "  </thead>\n",
       "  <tbody>\n",
       "    <tr>\n",
       "      <th>290</th>\n",
       "      <td>0.05*lgc</td>\n",
       "      <td>0.2*xgbc</td>\n",
       "      <td>0.1*cbc</td>\n",
       "      <td>0.65*rfr</td>\n",
       "      <td>23.243847</td>\n",
       "    </tr>\n",
       "    <tr>\n",
       "      <th>305</th>\n",
       "      <td>0.05*lgc</td>\n",
       "      <td>0.25*xgbc</td>\n",
       "      <td>0.05*cbc</td>\n",
       "      <td>0.65*rfr</td>\n",
       "      <td>23.244024</td>\n",
       "    </tr>\n",
       "    <tr>\n",
       "      <th>472</th>\n",
       "      <td>0.1*lgc</td>\n",
       "      <td>0.2*xgbc</td>\n",
       "      <td>0.05*cbc</td>\n",
       "      <td>0.65*rfr</td>\n",
       "      <td>23.244315</td>\n",
       "    </tr>\n",
       "    <tr>\n",
       "      <th>94</th>\n",
       "      <td>0.0*lgc</td>\n",
       "      <td>0.25*xgbc</td>\n",
       "      <td>0.1*cbc</td>\n",
       "      <td>0.65*rfr</td>\n",
       "      <td>23.245034</td>\n",
       "    </tr>\n",
       "    <tr>\n",
       "      <th>485</th>\n",
       "      <td>0.1*lgc</td>\n",
       "      <td>0.25*xgbc</td>\n",
       "      <td>0.05*cbc</td>\n",
       "      <td>0.6000000000000001*rfr</td>\n",
       "      <td>23.245584</td>\n",
       "    </tr>\n",
       "    <tr>\n",
       "      <th>...</th>\n",
       "      <td>...</td>\n",
       "      <td>...</td>\n",
       "      <td>...</td>\n",
       "      <td>...</td>\n",
       "      <td>...</td>\n",
       "    </tr>\n",
       "    <tr>\n",
       "      <th>213</th>\n",
       "      <td>0.0*lgc</td>\n",
       "      <td>0.9*xgbc</td>\n",
       "      <td>0.1*cbc</td>\n",
       "      <td>0.0*rfr</td>\n",
       "      <td>24.034688</td>\n",
       "    </tr>\n",
       "    <tr>\n",
       "      <th>214</th>\n",
       "      <td>0.0*lgc</td>\n",
       "      <td>0.9500000000000001*xgbc</td>\n",
       "      <td>0.0*cbc</td>\n",
       "      <td>0.05*rfr</td>\n",
       "      <td>24.065001</td>\n",
       "    </tr>\n",
       "    <tr>\n",
       "      <th>401</th>\n",
       "      <td>0.05*lgc</td>\n",
       "      <td>0.9500000000000001*xgbc</td>\n",
       "      <td>0.0*cbc</td>\n",
       "      <td>0.0*rfr</td>\n",
       "      <td>24.101561</td>\n",
       "    </tr>\n",
       "    <tr>\n",
       "      <th>215</th>\n",
       "      <td>0.0*lgc</td>\n",
       "      <td>0.9500000000000001*xgbc</td>\n",
       "      <td>0.05*cbc</td>\n",
       "      <td>0.0*rfr</td>\n",
       "      <td>24.107285</td>\n",
       "    </tr>\n",
       "    <tr>\n",
       "      <th>216</th>\n",
       "      <td>0.0*lgc</td>\n",
       "      <td>1.0*xgbc</td>\n",
       "      <td>0.0*cbc</td>\n",
       "      <td>0.0*rfr</td>\n",
       "      <td>24.186982</td>\n",
       "    </tr>\n",
       "  </tbody>\n",
       "</table>\n",
       "<p>1584 rows × 5 columns</p>\n",
       "</div>"
      ],
      "text/plain": [
       "     frac_lgc                frac_xgbc  frac_cbc                frac_rfr  \\\n",
       "290  0.05*lgc                 0.2*xgbc   0.1*cbc                0.65*rfr   \n",
       "305  0.05*lgc                0.25*xgbc  0.05*cbc                0.65*rfr   \n",
       "472   0.1*lgc                 0.2*xgbc  0.05*cbc                0.65*rfr   \n",
       "94    0.0*lgc                0.25*xgbc   0.1*cbc                0.65*rfr   \n",
       "485   0.1*lgc                0.25*xgbc  0.05*cbc  0.6000000000000001*rfr   \n",
       "..        ...                      ...       ...                     ...   \n",
       "213   0.0*lgc                 0.9*xgbc   0.1*cbc                 0.0*rfr   \n",
       "214   0.0*lgc  0.9500000000000001*xgbc   0.0*cbc                0.05*rfr   \n",
       "401  0.05*lgc  0.9500000000000001*xgbc   0.0*cbc                 0.0*rfr   \n",
       "215   0.0*lgc  0.9500000000000001*xgbc  0.05*cbc                 0.0*rfr   \n",
       "216   0.0*lgc                 1.0*xgbc   0.0*cbc                 0.0*rfr   \n",
       "\n",
       "     blend_score  \n",
       "290    23.243847  \n",
       "305    23.244024  \n",
       "472    23.244315  \n",
       "94     23.245034  \n",
       "485    23.245584  \n",
       "..           ...  \n",
       "213    24.034688  \n",
       "214    24.065001  \n",
       "401    24.101561  \n",
       "215    24.107285  \n",
       "216    24.186982  \n",
       "\n",
       "[1584 rows x 5 columns]"
      ]
     },
     "execution_count": 31,
     "metadata": {},
     "output_type": "execute_result"
    }
   ],
   "source": [
    "fracs = np.linspace(0,1,num = 21)\n",
    "frac_lgc=[]\n",
    "frac_xgbc=[]\n",
    "frac_cbc=[]\n",
    "frac_rfr = []\n",
    "blend_score = []\n",
    "for i in tqdm(fracs):\n",
    "    for j in fracs:\n",
    "        for k in fracs:\n",
    "            for l in fracs:\n",
    "                if (i+j+k+l) ==1:\n",
    "                    frac_lgc.append(str(i)+str('*lgc'))\n",
    "                    frac_xgbc.append(str(j)+str('*xgbc'))\n",
    "                    frac_cbc.append(str(k)+str('*cbc'))\n",
    "                    frac_rfr.append(str(l)+str('*rfr'))\n",
    "                    blend_score.append(np.sqrt(mean_squared_error(y_test, (l*(np.array(y_test_preds_rfr)) + (k*(np.array(y_test_preds_cbc)) + j*(np.array(y_preds_xgb)) + i*(np.array(y_test_preds_lgr)) )))))\n",
    "                else:\n",
    "                    pass\n",
    "                \n",
    "blend_df = pd.DataFrame({'frac_lgc':frac_lgc,'frac_xgbc':frac_xgbc,'frac_cbc':frac_cbc,'frac_rfr':frac_rfr , 'blend_score':blend_score})\n",
    "blend_df = blend_df.sort_values(by=['blend_score'])\n",
    "blend_df"
   ]
  },
  {
   "cell_type": "code",
   "execution_count": 32,
   "id": "3732501c",
   "metadata": {
    "execution": {
     "iopub.execute_input": "2022-04-15T10:07:18.777064Z",
     "iopub.status.busy": "2022-04-15T10:07:18.775973Z",
     "iopub.status.idle": "2022-04-15T10:07:18.876788Z",
     "shell.execute_reply": "2022-04-15T10:07:18.876110Z",
     "shell.execute_reply.started": "2022-04-15T10:04:25.620417Z"
    },
    "papermill": {
     "duration": 0.265348,
     "end_time": "2022-04-15T10:07:18.876932",
     "exception": false,
     "start_time": "2022-04-15T10:07:18.611584",
     "status": "completed"
    },
    "tags": []
   },
   "outputs": [
    {
     "name": "stderr",
     "output_type": "stream",
     "text": [
      "/opt/conda/lib/python3.7/site-packages/sklearn/base.py:439: UserWarning: X has feature names, but RandomForestRegressor was fitted without feature names\n",
      "  f\"X has feature names, but {self.__class__.__name__} was fitted without\"\n"
     ]
    }
   ],
   "source": [
    "preds = 0.05*lgr.predict(test) + 0.2*xgbr.predict(test) + 0.1*cbr.predict(test) +0.65*rfr.predict(test)\n"
   ]
  },
  {
   "cell_type": "code",
   "execution_count": 33,
   "id": "fe07401e",
   "metadata": {
    "execution": {
     "iopub.execute_input": "2022-04-15T10:07:19.197248Z",
     "iopub.status.busy": "2022-04-15T10:07:19.196577Z",
     "iopub.status.idle": "2022-04-15T10:07:19.212989Z",
     "shell.execute_reply": "2022-04-15T10:07:19.213466Z",
     "shell.execute_reply.started": "2022-04-15T10:04:25.717074Z"
    },
    "papermill": {
     "duration": 0.178963,
     "end_time": "2022-04-15T10:07:19.213646",
     "exception": false,
     "start_time": "2022-04-15T10:07:19.034683",
     "status": "completed"
    },
    "tags": []
   },
   "outputs": [
    {
     "data": {
      "text/html": [
       "<div>\n",
       "<style scoped>\n",
       "    .dataframe tbody tr th:only-of-type {\n",
       "        vertical-align: middle;\n",
       "    }\n",
       "\n",
       "    .dataframe tbody tr th {\n",
       "        vertical-align: top;\n",
       "    }\n",
       "\n",
       "    .dataframe thead th {\n",
       "        text-align: right;\n",
       "    }\n",
       "</style>\n",
       "<table border=\"1\" class=\"dataframe\">\n",
       "  <thead>\n",
       "    <tr style=\"text-align: right;\">\n",
       "      <th></th>\n",
       "      <th>Vendor_Name</th>\n",
       "      <th>Number_of_Days_Until_Payment</th>\n",
       "    </tr>\n",
       "  </thead>\n",
       "  <tbody>\n",
       "    <tr>\n",
       "      <th>0</th>\n",
       "      <td>Aaron Hoffman</td>\n",
       "      <td>100</td>\n",
       "    </tr>\n",
       "    <tr>\n",
       "      <th>1</th>\n",
       "      <td>Aaron Murphy</td>\n",
       "      <td>100</td>\n",
       "    </tr>\n",
       "    <tr>\n",
       "      <th>2</th>\n",
       "      <td>Aaron Parks</td>\n",
       "      <td>100</td>\n",
       "    </tr>\n",
       "    <tr>\n",
       "      <th>3</th>\n",
       "      <td>Aaron Thomas</td>\n",
       "      <td>100</td>\n",
       "    </tr>\n",
       "    <tr>\n",
       "      <th>4</th>\n",
       "      <td>Abigail Hernandez</td>\n",
       "      <td>100</td>\n",
       "    </tr>\n",
       "    <tr>\n",
       "      <th>...</th>\n",
       "      <td>...</td>\n",
       "      <td>...</td>\n",
       "    </tr>\n",
       "    <tr>\n",
       "      <th>1120</th>\n",
       "      <td>Zachary Coleman</td>\n",
       "      <td>100</td>\n",
       "    </tr>\n",
       "    <tr>\n",
       "      <th>1121</th>\n",
       "      <td>Zachary Dudley</td>\n",
       "      <td>100</td>\n",
       "    </tr>\n",
       "    <tr>\n",
       "      <th>1122</th>\n",
       "      <td>Zachary Hernandez</td>\n",
       "      <td>100</td>\n",
       "    </tr>\n",
       "    <tr>\n",
       "      <th>1123</th>\n",
       "      <td>Zachary Simmons</td>\n",
       "      <td>100</td>\n",
       "    </tr>\n",
       "    <tr>\n",
       "      <th>1124</th>\n",
       "      <td>Zachary Williams</td>\n",
       "      <td>100</td>\n",
       "    </tr>\n",
       "  </tbody>\n",
       "</table>\n",
       "<p>1125 rows × 2 columns</p>\n",
       "</div>"
      ],
      "text/plain": [
       "            Vendor_Name  Number_of_Days_Until_Payment\n",
       "0         Aaron Hoffman                           100\n",
       "1          Aaron Murphy                           100\n",
       "2           Aaron Parks                           100\n",
       "3          Aaron Thomas                           100\n",
       "4     Abigail Hernandez                           100\n",
       "...                 ...                           ...\n",
       "1120    Zachary Coleman                           100\n",
       "1121     Zachary Dudley                           100\n",
       "1122  Zachary Hernandez                           100\n",
       "1123    Zachary Simmons                           100\n",
       "1124   Zachary Williams                           100\n",
       "\n",
       "[1125 rows x 2 columns]"
      ]
     },
     "execution_count": 33,
     "metadata": {},
     "output_type": "execute_result"
    }
   ],
   "source": [
    "sample_df = pd.read_csv(r\"../input/cassandra-udyam-2022/sampleSubmission.csv\")\n",
    "sample_df"
   ]
  },
  {
   "cell_type": "code",
   "execution_count": 34,
   "id": "14161339",
   "metadata": {
    "execution": {
     "iopub.execute_input": "2022-04-15T10:07:19.537113Z",
     "iopub.status.busy": "2022-04-15T10:07:19.536501Z",
     "iopub.status.idle": "2022-04-15T10:07:19.547278Z",
     "shell.execute_reply": "2022-04-15T10:07:19.547770Z",
     "shell.execute_reply.started": "2022-04-15T10:04:25.747266Z"
    },
    "papermill": {
     "duration": 0.175837,
     "end_time": "2022-04-15T10:07:19.547931",
     "exception": false,
     "start_time": "2022-04-15T10:07:19.372094",
     "status": "completed"
    },
    "tags": []
   },
   "outputs": [
    {
     "data": {
      "text/html": [
       "<div>\n",
       "<style scoped>\n",
       "    .dataframe tbody tr th:only-of-type {\n",
       "        vertical-align: middle;\n",
       "    }\n",
       "\n",
       "    .dataframe tbody tr th {\n",
       "        vertical-align: top;\n",
       "    }\n",
       "\n",
       "    .dataframe thead th {\n",
       "        text-align: right;\n",
       "    }\n",
       "</style>\n",
       "<table border=\"1\" class=\"dataframe\">\n",
       "  <thead>\n",
       "    <tr style=\"text-align: right;\">\n",
       "      <th></th>\n",
       "      <th>Vendor_Name</th>\n",
       "      <th>Number_of_Days_Until_Payment</th>\n",
       "    </tr>\n",
       "  </thead>\n",
       "  <tbody>\n",
       "    <tr>\n",
       "      <th>0</th>\n",
       "      <td>Aaron Hoffman</td>\n",
       "      <td>24</td>\n",
       "    </tr>\n",
       "    <tr>\n",
       "      <th>1</th>\n",
       "      <td>Aaron Murphy</td>\n",
       "      <td>58</td>\n",
       "    </tr>\n",
       "    <tr>\n",
       "      <th>2</th>\n",
       "      <td>Aaron Parks</td>\n",
       "      <td>35</td>\n",
       "    </tr>\n",
       "    <tr>\n",
       "      <th>3</th>\n",
       "      <td>Aaron Thomas</td>\n",
       "      <td>39</td>\n",
       "    </tr>\n",
       "    <tr>\n",
       "      <th>4</th>\n",
       "      <td>Abigail Hernandez</td>\n",
       "      <td>55</td>\n",
       "    </tr>\n",
       "    <tr>\n",
       "      <th>...</th>\n",
       "      <td>...</td>\n",
       "      <td>...</td>\n",
       "    </tr>\n",
       "    <tr>\n",
       "      <th>1120</th>\n",
       "      <td>Zachary Coleman</td>\n",
       "      <td>40</td>\n",
       "    </tr>\n",
       "    <tr>\n",
       "      <th>1121</th>\n",
       "      <td>Zachary Dudley</td>\n",
       "      <td>31</td>\n",
       "    </tr>\n",
       "    <tr>\n",
       "      <th>1122</th>\n",
       "      <td>Zachary Hernandez</td>\n",
       "      <td>23</td>\n",
       "    </tr>\n",
       "    <tr>\n",
       "      <th>1123</th>\n",
       "      <td>Zachary Simmons</td>\n",
       "      <td>45</td>\n",
       "    </tr>\n",
       "    <tr>\n",
       "      <th>1124</th>\n",
       "      <td>Zachary Williams</td>\n",
       "      <td>37</td>\n",
       "    </tr>\n",
       "  </tbody>\n",
       "</table>\n",
       "<p>1125 rows × 2 columns</p>\n",
       "</div>"
      ],
      "text/plain": [
       "            Vendor_Name  Number_of_Days_Until_Payment\n",
       "0         Aaron Hoffman                            24\n",
       "1          Aaron Murphy                            58\n",
       "2           Aaron Parks                            35\n",
       "3          Aaron Thomas                            39\n",
       "4     Abigail Hernandez                            55\n",
       "...                 ...                           ...\n",
       "1120    Zachary Coleman                            40\n",
       "1121     Zachary Dudley                            31\n",
       "1122  Zachary Hernandez                            23\n",
       "1123    Zachary Simmons                            45\n",
       "1124   Zachary Williams                            37\n",
       "\n",
       "[1125 rows x 2 columns]"
      ]
     },
     "execution_count": 34,
     "metadata": {},
     "output_type": "execute_result"
    }
   ],
   "source": [
    "sample_df['Number_of_Days_Until_Payment'] = preds\n",
    "sample_df['Number_of_Days_Until_Payment'] = sample_df['Number_of_Days_Until_Payment'].astype(int)\n",
    "sample_df"
   ]
  },
  {
   "cell_type": "code",
   "execution_count": 35,
   "id": "41bccfe1",
   "metadata": {
    "execution": {
     "iopub.execute_input": "2022-04-15T10:07:19.871398Z",
     "iopub.status.busy": "2022-04-15T10:07:19.870414Z",
     "iopub.status.idle": "2022-04-15T10:07:19.877820Z",
     "shell.execute_reply": "2022-04-15T10:07:19.878362Z",
     "shell.execute_reply.started": "2022-04-15T10:04:25.764209Z"
    },
    "papermill": {
     "duration": 0.171264,
     "end_time": "2022-04-15T10:07:19.878531",
     "exception": false,
     "start_time": "2022-04-15T10:07:19.707267",
     "status": "completed"
    },
    "tags": []
   },
   "outputs": [],
   "source": [
    "sample_df.to_csv('submission_quantile_blend_all.csv',index=False)"
   ]
  },
  {
   "cell_type": "code",
   "execution_count": null,
   "id": "fdf16e5e",
   "metadata": {
    "papermill": {
     "duration": 0.158551,
     "end_time": "2022-04-15T10:07:20.195970",
     "exception": false,
     "start_time": "2022-04-15T10:07:20.037419",
     "status": "completed"
    },
    "tags": []
   },
   "outputs": [],
   "source": []
  }
 ],
 "metadata": {
  "kernelspec": {
   "display_name": "Python 3",
   "language": "python",
   "name": "python3"
  },
  "language_info": {
   "codemirror_mode": {
    "name": "ipython",
    "version": 3
   },
   "file_extension": ".py",
   "mimetype": "text/x-python",
   "name": "python",
   "nbconvert_exporter": "python",
   "pygments_lexer": "ipython3",
   "version": "3.7.12"
  },
  "papermill": {
   "default_parameters": {},
   "duration": 67.46926,
   "end_time": "2022-04-15T10:07:21.266631",
   "environment_variables": {},
   "exception": null,
   "input_path": "__notebook__.ipynb",
   "output_path": "__notebook__.ipynb",
   "parameters": {},
   "start_time": "2022-04-15T10:06:13.797371",
   "version": "2.3.3"
  },
  "widgets": {
   "application/vnd.jupyter.widget-state+json": {
    "state": {
     "0eb1e5f1fd6641e6bb6c440414ac5e45": {
      "model_module": "@jupyter-widgets/controls",
      "model_module_version": "1.5.0",
      "model_name": "HBoxModel",
      "state": {
       "_dom_classes": [],
       "_model_module": "@jupyter-widgets/controls",
       "_model_module_version": "1.5.0",
       "_model_name": "HBoxModel",
       "_view_count": null,
       "_view_module": "@jupyter-widgets/controls",
       "_view_module_version": "1.5.0",
       "_view_name": "HBoxView",
       "box_style": "",
       "children": [
        "IPY_MODEL_1923d8c04b7c42c2b5e93587cd64cb2c",
        "IPY_MODEL_8fb8a92114b949aa97057d6e1429391c",
        "IPY_MODEL_b05b0d6dfd08437982d8216e422b2fde"
       ],
       "layout": "IPY_MODEL_547159ece64943a08a26765cc1512192"
      }
     },
     "1923d8c04b7c42c2b5e93587cd64cb2c": {
      "model_module": "@jupyter-widgets/controls",
      "model_module_version": "1.5.0",
      "model_name": "HTMLModel",
      "state": {
       "_dom_classes": [],
       "_model_module": "@jupyter-widgets/controls",
       "_model_module_version": "1.5.0",
       "_model_name": "HTMLModel",
       "_view_count": null,
       "_view_module": "@jupyter-widgets/controls",
       "_view_module_version": "1.5.0",
       "_view_name": "HTMLView",
       "description": "",
       "description_tooltip": null,
       "layout": "IPY_MODEL_cdfb2c35cc8b4e9fab0f80bdc4f049cc",
       "placeholder": "​",
       "style": "IPY_MODEL_bb0fb382c07a42e78abae90091dddb17",
       "value": "100%"
      }
     },
     "547159ece64943a08a26765cc1512192": {
      "model_module": "@jupyter-widgets/base",
      "model_module_version": "1.2.0",
      "model_name": "LayoutModel",
      "state": {
       "_model_module": "@jupyter-widgets/base",
       "_model_module_version": "1.2.0",
       "_model_name": "LayoutModel",
       "_view_count": null,
       "_view_module": "@jupyter-widgets/base",
       "_view_module_version": "1.2.0",
       "_view_name": "LayoutView",
       "align_content": null,
       "align_items": null,
       "align_self": null,
       "border": null,
       "bottom": null,
       "display": null,
       "flex": null,
       "flex_flow": null,
       "grid_area": null,
       "grid_auto_columns": null,
       "grid_auto_flow": null,
       "grid_auto_rows": null,
       "grid_column": null,
       "grid_gap": null,
       "grid_row": null,
       "grid_template_areas": null,
       "grid_template_columns": null,
       "grid_template_rows": null,
       "height": null,
       "justify_content": null,
       "justify_items": null,
       "left": null,
       "margin": null,
       "max_height": null,
       "max_width": null,
       "min_height": null,
       "min_width": null,
       "object_fit": null,
       "object_position": null,
       "order": null,
       "overflow": null,
       "overflow_x": null,
       "overflow_y": null,
       "padding": null,
       "right": null,
       "top": null,
       "visibility": null,
       "width": null
      }
     },
     "656490dd2b024522b378595011cb59da": {
      "model_module": "@jupyter-widgets/controls",
      "model_module_version": "1.5.0",
      "model_name": "DescriptionStyleModel",
      "state": {
       "_model_module": "@jupyter-widgets/controls",
       "_model_module_version": "1.5.0",
       "_model_name": "DescriptionStyleModel",
       "_view_count": null,
       "_view_module": "@jupyter-widgets/base",
       "_view_module_version": "1.2.0",
       "_view_name": "StyleView",
       "description_width": ""
      }
     },
     "80184c86b7a3427fb85f714402b75cc6": {
      "model_module": "@jupyter-widgets/base",
      "model_module_version": "1.2.0",
      "model_name": "LayoutModel",
      "state": {
       "_model_module": "@jupyter-widgets/base",
       "_model_module_version": "1.2.0",
       "_model_name": "LayoutModel",
       "_view_count": null,
       "_view_module": "@jupyter-widgets/base",
       "_view_module_version": "1.2.0",
       "_view_name": "LayoutView",
       "align_content": null,
       "align_items": null,
       "align_self": null,
       "border": null,
       "bottom": null,
       "display": null,
       "flex": null,
       "flex_flow": null,
       "grid_area": null,
       "grid_auto_columns": null,
       "grid_auto_flow": null,
       "grid_auto_rows": null,
       "grid_column": null,
       "grid_gap": null,
       "grid_row": null,
       "grid_template_areas": null,
       "grid_template_columns": null,
       "grid_template_rows": null,
       "height": null,
       "justify_content": null,
       "justify_items": null,
       "left": null,
       "margin": null,
       "max_height": null,
       "max_width": null,
       "min_height": null,
       "min_width": null,
       "object_fit": null,
       "object_position": null,
       "order": null,
       "overflow": null,
       "overflow_x": null,
       "overflow_y": null,
       "padding": null,
       "right": null,
       "top": null,
       "visibility": null,
       "width": null
      }
     },
     "8fb8a92114b949aa97057d6e1429391c": {
      "model_module": "@jupyter-widgets/controls",
      "model_module_version": "1.5.0",
      "model_name": "FloatProgressModel",
      "state": {
       "_dom_classes": [],
       "_model_module": "@jupyter-widgets/controls",
       "_model_module_version": "1.5.0",
       "_model_name": "FloatProgressModel",
       "_view_count": null,
       "_view_module": "@jupyter-widgets/controls",
       "_view_module_version": "1.5.0",
       "_view_name": "ProgressView",
       "bar_style": "success",
       "description": "",
       "description_tooltip": null,
       "layout": "IPY_MODEL_80184c86b7a3427fb85f714402b75cc6",
       "max": 21.0,
       "min": 0.0,
       "orientation": "horizontal",
       "style": "IPY_MODEL_cdaa1b365f634180ac637d164e3039f8",
       "value": 21.0
      }
     },
     "b05b0d6dfd08437982d8216e422b2fde": {
      "model_module": "@jupyter-widgets/controls",
      "model_module_version": "1.5.0",
      "model_name": "HTMLModel",
      "state": {
       "_dom_classes": [],
       "_model_module": "@jupyter-widgets/controls",
       "_model_module_version": "1.5.0",
       "_model_name": "HTMLModel",
       "_view_count": null,
       "_view_module": "@jupyter-widgets/controls",
       "_view_module_version": "1.5.0",
       "_view_name": "HTMLView",
       "description": "",
       "description_tooltip": null,
       "layout": "IPY_MODEL_f3ee8449ec654b818f126067a7b65c06",
       "placeholder": "​",
       "style": "IPY_MODEL_656490dd2b024522b378595011cb59da",
       "value": " 21/21 [00:00&lt;00:00, 32.10it/s]"
      }
     },
     "bb0fb382c07a42e78abae90091dddb17": {
      "model_module": "@jupyter-widgets/controls",
      "model_module_version": "1.5.0",
      "model_name": "DescriptionStyleModel",
      "state": {
       "_model_module": "@jupyter-widgets/controls",
       "_model_module_version": "1.5.0",
       "_model_name": "DescriptionStyleModel",
       "_view_count": null,
       "_view_module": "@jupyter-widgets/base",
       "_view_module_version": "1.2.0",
       "_view_name": "StyleView",
       "description_width": ""
      }
     },
     "cdaa1b365f634180ac637d164e3039f8": {
      "model_module": "@jupyter-widgets/controls",
      "model_module_version": "1.5.0",
      "model_name": "ProgressStyleModel",
      "state": {
       "_model_module": "@jupyter-widgets/controls",
       "_model_module_version": "1.5.0",
       "_model_name": "ProgressStyleModel",
       "_view_count": null,
       "_view_module": "@jupyter-widgets/base",
       "_view_module_version": "1.2.0",
       "_view_name": "StyleView",
       "bar_color": null,
       "description_width": ""
      }
     },
     "cdfb2c35cc8b4e9fab0f80bdc4f049cc": {
      "model_module": "@jupyter-widgets/base",
      "model_module_version": "1.2.0",
      "model_name": "LayoutModel",
      "state": {
       "_model_module": "@jupyter-widgets/base",
       "_model_module_version": "1.2.0",
       "_model_name": "LayoutModel",
       "_view_count": null,
       "_view_module": "@jupyter-widgets/base",
       "_view_module_version": "1.2.0",
       "_view_name": "LayoutView",
       "align_content": null,
       "align_items": null,
       "align_self": null,
       "border": null,
       "bottom": null,
       "display": null,
       "flex": null,
       "flex_flow": null,
       "grid_area": null,
       "grid_auto_columns": null,
       "grid_auto_flow": null,
       "grid_auto_rows": null,
       "grid_column": null,
       "grid_gap": null,
       "grid_row": null,
       "grid_template_areas": null,
       "grid_template_columns": null,
       "grid_template_rows": null,
       "height": null,
       "justify_content": null,
       "justify_items": null,
       "left": null,
       "margin": null,
       "max_height": null,
       "max_width": null,
       "min_height": null,
       "min_width": null,
       "object_fit": null,
       "object_position": null,
       "order": null,
       "overflow": null,
       "overflow_x": null,
       "overflow_y": null,
       "padding": null,
       "right": null,
       "top": null,
       "visibility": null,
       "width": null
      }
     },
     "f3ee8449ec654b818f126067a7b65c06": {
      "model_module": "@jupyter-widgets/base",
      "model_module_version": "1.2.0",
      "model_name": "LayoutModel",
      "state": {
       "_model_module": "@jupyter-widgets/base",
       "_model_module_version": "1.2.0",
       "_model_name": "LayoutModel",
       "_view_count": null,
       "_view_module": "@jupyter-widgets/base",
       "_view_module_version": "1.2.0",
       "_view_name": "LayoutView",
       "align_content": null,
       "align_items": null,
       "align_self": null,
       "border": null,
       "bottom": null,
       "display": null,
       "flex": null,
       "flex_flow": null,
       "grid_area": null,
       "grid_auto_columns": null,
       "grid_auto_flow": null,
       "grid_auto_rows": null,
       "grid_column": null,
       "grid_gap": null,
       "grid_row": null,
       "grid_template_areas": null,
       "grid_template_columns": null,
       "grid_template_rows": null,
       "height": null,
       "justify_content": null,
       "justify_items": null,
       "left": null,
       "margin": null,
       "max_height": null,
       "max_width": null,
       "min_height": null,
       "min_width": null,
       "object_fit": null,
       "object_position": null,
       "order": null,
       "overflow": null,
       "overflow_x": null,
       "overflow_y": null,
       "padding": null,
       "right": null,
       "top": null,
       "visibility": null,
       "width": null
      }
     }
    },
    "version_major": 2,
    "version_minor": 0
   }
  }
 },
 "nbformat": 4,
 "nbformat_minor": 5
}
